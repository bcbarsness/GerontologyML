{
 "cells": [
  {
   "cell_type": "code",
   "execution_count": 1,
   "metadata": {},
   "outputs": [
    {
     "name": "stdout",
     "output_type": "stream",
     "text": [
      "\n",
      "TFIDF-NMF topics: \n",
      "\n",
      "Topic #0: caregivers, caregiving, caregiver, care, burden, nhp, grief, family, dementia, study, american, cdr, grandparents, adjustment, elder\n",
      "Topic #1: ageism, stereotypes, palmore, age, implicit, ageist, implicit ageism, levy, older, old, people, survey, age stereotypes, workers, racism\n",
      "Topic #2: care, home care, home, sufficiency, unmet, quality, sufficiency care, informal, claimants, needs, formal, hha, recipients, functional, quality circumstances\n",
      "Topic #3: mds, nh, pain, residents, gds short, gds, nhppt, vas, staff, nh residents, performance, qi, site, scale, interview\n",
      "Topic #4: depression, emotions, gds, ces, wav, subthreshold, minor, symptoms, subthreshold depression, minor depression, depressive, nondepressed, scale, depressives, ces scale\n",
      "Topic #5: residents, resident, care, edna, nursing, quality, ltc, contact, palliative, palliative care, staff, decision making, facilities, facility, satisfaction\n",
      "Topic #6: widowers, widows, efficacy, self efficacy, widows widowers, religious, psychological, existential, spousal loss, life, spousal, self, esteem, self esteem, spiritual\n",
      "Topic #7: intervention, treatment, cnas, ti, drawings, interventionist, enactment, phd, interventionists, caregivers, interventions, group, caregiver, delivery, reach\n",
      "Topic #8: pas, euthanasia, death, kevorkian, end life, filipino, euthanasia cases, end, religious, life, oregon, cases, ccrc, place death, lethal\n",
      "Topic #9: ombudsman, ombudsmen, complaints, huber, race gender, local, race, borders, program, gender, huber badrak, badrak borders, badrak, abuse, iom\n",
      "Topic #10: care, term care, medicaid, long term, expenditures, long, term, mep, denmark, services, hcfa 64, danish, home, stories, hcfa\n",
      "Topic #11: parents, children, migration, retirement, contacts, child, florida, living, ties, migrants, supporting parents, counties, taiwan, parent, cohort\n",
      "Topic #12: assisted living, assisted, grandparents, living facilities, gov, facilities, grandchildren, report, www, census, living, available www, hhs gov, hhs, 2001\n",
      "Topic #13: autopsy, dementia, donation, cerad, nurses, brain, battery, clinical, neuropsychological, diagnosis, evaluation, organ, nurse, diagnosis consensus, participants\n",
      "Topic #14: nursing, nursing homes, homes, innovation, turnover, facilities, innovations, administrators, quality, administrator turnover, administrator, adopters, oscar, facility, ancillaries\n",
      "Topic #15: client, case management, cltc, case, clients, management, services, case managers, intensive case, case manager, managers, caregiver, care, intensive, hcbs\n",
      "Topic #16: versions, version, zbi, item, pac, burden, factor, items, correlations, short, short version, subjects, short screening, screening versions, screening\n",
      "Topic #17: older, disability, mail, telephone, census, turnout, fatalities, age, survey, respondents, drivers, voter, adults, sex, memberships\n",
      "Topic #18: policy, ltc, policy makers, makers, state, legislative, academy, information, state policy, advocacy, brokers, legislative activity, dementia, brokering, oklahoma\n",
      "Topic #19: paranoid, paranoid ideation, prescription, ideation, medications, mismanagement, medication, drug, prescription drug, african, prescription medications, health, self reported, elderly african, mental health\n",
      "\n"
     ]
    }
   ],
   "source": [
    "from sklearn.feature_extraction.text import TfidfVectorizer\n",
    "from sklearn.decomposition import NMF\n",
    "\n",
    "def print_top_words(model, feature_names, n_top_words):\n",
    "    for topic_idx, topic in enumerate(model.components_):\n",
    "        message = \"Topic #%d: \" % topic_idx\n",
    "        message += \", \".join([feature_names[i]\n",
    "                             for i in topic.argsort()[:-n_top_words - 1:-1]])\n",
    "        print(message)\n",
    "    print()\n",
    "\n",
    "if __name__ == '__main__':\n",
    "    filename = 'articles.txt'\n",
    "    n_topics = 20\n",
    "    n_top_words = 15\n",
    "    \n",
    "    with open(filename, 'r') as f:\n",
    "        text_data = f.readlines() \n",
    "    \n",
    "    tfidf = TfidfVectorizer(stop_words = 'english', ngram_range=(1,2), max_df = 0.95, min_df = 1)\n",
    "    doc_term_mat = tfidf.fit_transform(text_data)\n",
    "    tfidf_feature_names = tfidf.get_feature_names()\n",
    "    \n",
    "    print('\\nTFIDF-NMF topics: \\n')\n",
    "    nmf = NMF(n_components = n_topics, random_state = 0).fit(doc_term_mat)\n",
    "    print_top_words(nmf, tfidf_feature_names, n_top_words)"
   ]
  },
  {
   "cell_type": "code",
   "execution_count": null,
   "metadata": {},
   "outputs": [],
   "source": []
  }
 ],
 "metadata": {
  "kernelspec": {
   "display_name": "Python 3",
   "language": "python",
   "name": "python3"
  },
  "language_info": {
   "codemirror_mode": {
    "name": "ipython",
    "version": 3
   },
   "file_extension": ".py",
   "mimetype": "text/x-python",
   "name": "python",
   "nbconvert_exporter": "python",
   "pygments_lexer": "ipython3",
   "version": "3.6.4"
  }
 },
 "nbformat": 4,
 "nbformat_minor": 2
}
