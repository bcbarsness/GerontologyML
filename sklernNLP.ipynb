{
 "cells": [
  {
   "cell_type": "code",
   "execution_count": 1,
   "metadata": {},
   "outputs": [
    {
     "name": "stdout",
     "output_type": "stream",
     "text": [
      "\n",
      "TFIDF-NMF topics: \n",
      "\n",
      "Topic #0: caregivers, caregiver, caregiving, care, burden, dementia, nhp, family, intervention, grief\n",
      "Topic #1: ageism, stereotypes, palmore, age, implicit, ageist, implicit ageism, levy, older, people\n",
      "Topic #2: care, ltc, home, services, home care, term care, medicaid, long term, policy, nursing\n",
      "Topic #3: residents, mds, resident, nursing, care, staff, nh, quality, facilities, pain\n",
      "Topic #4: older, depression, health, religious, age, study, respondents, sample, widows, table\n",
      "\n"
     ]
    }
   ],
   "source": [
    "from sklearn.feature_extraction.text import TfidfVectorizer\n",
    "from sklearn.decomposition import NMF\n",
    "\n",
    "def print_top_words(model, feature_names, n_top_words):\n",
    "    for topic_idx, topic in enumerate(model.components_):\n",
    "        message = \"Topic #%d: \" % topic_idx\n",
    "        message += \", \".join([feature_names[i]\n",
    "                             for i in topic.argsort()[:-n_top_words - 1:-1]])\n",
    "        print(message)\n",
    "    print()\n",
    "\n",
    "if __name__ == '__main__':\n",
    "    filename = 'articles.txt'\n",
    "    n_topics = 5\n",
    "    n_top_words = 10\n",
    "    \n",
    "    with open(filename, 'r') as f:\n",
    "        text_data = f.readlines() \n",
    "    \n",
    "    tfidf = TfidfVectorizer(stop_words = 'english', ngram_range=(1,2), max_df = 0.95, min_df = 1)\n",
    "    doc_term_mat = tfidf.fit_transform(text_data)\n",
    "    tfidf_feature_names = tfidf.get_feature_names()\n",
    "    \n",
    "    print('\\nTFIDF-NMF topics: \\n')\n",
    "    nmf = NMF(n_components = n_topics, random_state = 0).fit(doc_term_mat)\n",
    "    print_top_words(nmf, tfidf_feature_names, n_top_words)"
   ]
  },
  {
   "cell_type": "code",
   "execution_count": null,
   "metadata": {},
   "outputs": [],
   "source": []
  }
 ],
 "metadata": {
  "kernelspec": {
   "display_name": "Python 3",
   "language": "python",
   "name": "python3"
  },
  "language_info": {
   "codemirror_mode": {
    "name": "ipython",
    "version": 3
   },
   "file_extension": ".py",
   "mimetype": "text/x-python",
   "name": "python",
   "nbconvert_exporter": "python",
   "pygments_lexer": "ipython3",
   "version": "3.6.4"
  }
 },
 "nbformat": 4,
 "nbformat_minor": 2
}
