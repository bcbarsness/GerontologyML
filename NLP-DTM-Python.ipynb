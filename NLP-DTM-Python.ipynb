{
 "cells": [
  {
   "cell_type": "code",
   "execution_count": 2,
   "metadata": {},
   "outputs": [],
   "source": [
    "# setting up our imports\n",
    "\n",
    "from gensim.models import ldaseqmodel\n",
    "from gensim.corpora import Dictionary, bleicorpus, MmCorpus\n",
    "import numpy\n",
    "from gensim.matutils import hellinger\n",
    "import os"
   ]
  },
  {
   "cell_type": "code",
   "execution_count": 5,
   "metadata": {},
   "outputs": [],
   "source": [
    "data_directory = 'staging2001'\n",
    "trigram_dictionary_filepath = os.path.join(data_directory,'trigram_dict_all.dict')\n",
    "\n",
    "trigram_bow_filepath = os.path.join(data_directory,'trigram_bow_corpus_all.mm')\n"
   ]
  },
  {
   "cell_type": "code",
   "execution_count": 6,
   "metadata": {},
   "outputs": [],
   "source": [
    "# loading our corpus and dictionary\n",
    "try:\n",
    "    # load the finished dictionary from disk\n",
    "    dictionary = Dictionary.load(trigram_dictionary_filepath)\n",
    "except FileNotFoundError as e:\n",
    "    raise ValueError(\"SKIP: Please download the Corpus/news_dictionary dataset.\")\n",
    "corpus = MmCorpus(trigram_bow_filepath)\n",
    "# it's very important that your corpus is saved in order of your time-slices!\n",
    "\n",
    "time_slice = [40,49]"
   ]
  },
  {
   "cell_type": "code",
   "execution_count": 9,
   "metadata": {},
   "outputs": [
    {
     "data": {
      "text/plain": [
       "89"
      ]
     },
     "execution_count": 9,
     "metadata": {},
     "output_type": "execute_result"
    }
   ],
   "source": [
    "corpus.num_docs\n"
   ]
  },
  {
   "cell_type": "code",
   "execution_count": 10,
   "metadata": {},
   "outputs": [
    {
     "name": "stderr",
     "output_type": "stream",
     "text": [
      "/anaconda3/lib/python3.6/site-packages/gensim/models/ldaseqmodel.py:230: RuntimeWarning: divide by zero encountered in double_scalars\n",
      "  convergence = np.fabs((bound - old_bound) / old_bound)\n"
     ]
    },
    {
     "name": "stdout",
     "output_type": "stream",
     "text": [
      "CPU times: user 35min 2s, sys: 7.64 s, total: 35min 9s\n",
      "Wall time: 34min 56s\n"
     ]
    }
   ],
   "source": [
    "%%time\n",
    "\n",
    "ldaseq = ldaseqmodel.LdaSeqModel(corpus=corpus, id2word=dictionary, time_slice=time_slice, num_topics=5)"
   ]
  },
  {
   "cell_type": "code",
   "execution_count": 11,
   "metadata": {},
   "outputs": [],
   "source": [
    "ldaseq.save(os.path.join(data_directory,'ldaseq2.save'))\n",
    "#ldaseq.load(os.path.join(data_directory,'ldaseq2.save'))"
   ]
  },
  {
   "cell_type": "code",
   "execution_count": 12,
   "metadata": {},
   "outputs": [
    {
     "data": {
      "text/plain": [
       "[[('item', 0.00844585160922989),\n",
       "  ('age', 0.0073265188113849095),\n",
       "  ('measure', 0.0072497174261779915),\n",
       "  ('sample', 0.006406833031017147),\n",
       "  ('depression', 0.006336778119378008),\n",
       "  ('group', 0.00615527473955923),\n",
       "  ('subject', 0.005560833383442314),\n",
       "  ('life', 0.00544811092929944),\n",
       "  ('individual', 0.005152842608377987),\n",
       "  ('old', 0.0050150425744746),\n",
       "  ('participant', 0.004905550994534217),\n",
       "  ('factor', 0.004880930550907746),\n",
       "  ('score', 0.004257582131166861),\n",
       "  ('ageism', 0.003915775958529828),\n",
       "  ('experience', 0.0038619385897655234),\n",
       "  ('old_adult', 0.003842543149600021),\n",
       "  ('scale', 0.003686925386149724),\n",
       "  ('symptom', 0.0036661974950423022),\n",
       "  ('death', 0.003599229520795337),\n",
       "  ('et_al', 0.003572047421095933)],\n",
       " [('resident', 0.026466388416123227),\n",
       "  ('care', 0.016752096136246345),\n",
       "  ('facility', 0.014272473305980521),\n",
       "  ('nursing_home', 0.012683129500960812),\n",
       "  ('quality', 0.008361498484113307),\n",
       "  ('state', 0.00677466765769275),\n",
       "  ('datum', 0.006353632195404674),\n",
       "  ('group', 0.005919208172091708),\n",
       "  ('staff', 0.005860547629276921),\n",
       "  ('case', 0.004824169011448835),\n",
       "  ('place', 0.004748464369430396),\n",
       "  ('analysis', 0.004381272890269008),\n",
       "  ('need', 0.004295975761158706),\n",
       "  ('innovation', 0.004285648251581816),\n",
       "  ('life', 0.0041302433978520165),\n",
       "  ('time', 0.004114932051707231),\n",
       "  ('survey', 0.004066562050557509),\n",
       "  ('decision', 0.003984509448684622),\n",
       "  ('service', 0.003836620339139123),\n",
       "  ('1999', 0.0036133952699068383)],\n",
       " [('service', 0.015341862772861937),\n",
       "  ('care', 0.011543178237572428),\n",
       "  ('state', 0.009617867847776088),\n",
       "  ('need', 0.009548866811898812),\n",
       "  ('long_term_care', 0.00925967350409686),\n",
       "  ('policy', 0.007091346960990848),\n",
       "  ('research', 0.00693131974824585),\n",
       "  ('program', 0.006413546264503918),\n",
       "  ('issue', 0.006244939088579192),\n",
       "  ('information', 0.005766604293498511),\n",
       "  ('ltc', 0.005361466384741117),\n",
       "  ('1998', 0.005218455603959575),\n",
       "  ('home_care', 0.005093076640458734),\n",
       "  ('quality', 0.004905090833792545),\n",
       "  ('age', 0.004315913827388364),\n",
       "  ('home', 0.00428419328755699),\n",
       "  ('nursing_home', 0.004279727348499177),\n",
       "  ('rate', 0.0042236979372787),\n",
       "  ('medicaid', 0.00379739641594387),\n",
       "  ('activity', 0.0036512135008157417)],\n",
       " [('caregiver', 0.026052288062805802),\n",
       "  ('intervention', 0.0091944478888472),\n",
       "  ('care', 0.008040621935456307),\n",
       "  ('resident', 0.0068468292409813655),\n",
       "  ('item', 0.006677226634187696),\n",
       "  ('assessment', 0.006159921967668806),\n",
       "  ('patient', 0.006078502767616395),\n",
       "  ('score', 0.005730418856827329),\n",
       "  ('participant', 0.005674504020674159),\n",
       "  ('measure', 0.005669525052918887),\n",
       "  ('group', 0.005425654350218595),\n",
       "  ('time', 0.004626097398222406),\n",
       "  ('level', 0.004576955726861725),\n",
       "  ('family', 0.004464453730165314),\n",
       "  ('i.e.', 0.004092894558924811),\n",
       "  ('care_recipient', 0.003879230353948946),\n",
       "  ('research', 0.003832622068301277),\n",
       "  ('change', 0.003795318434423365),\n",
       "  ('burden', 0.0037775720799372494),\n",
       "  ('interview', 0.0037476574970298116)],\n",
       " [('child', 0.009805939479807504),\n",
       "  ('age', 0.007873187306981689),\n",
       "  ('analysis', 0.007317805921100148),\n",
       "  ('parent', 0.007140211447377996),\n",
       "  ('respondent', 0.006836335914197625),\n",
       "  ('income', 0.0068257010924373356),\n",
       "  ('number', 0.006485751895271781),\n",
       "  ('variable', 0.006258170916595248),\n",
       "  ('sample', 0.006171728422129032),\n",
       "  ('year', 0.005914645613571202),\n",
       "  ('family', 0.00579529295100322),\n",
       "  ('increase', 0.005634470761895759),\n",
       "  ('model', 0.005586154413003626),\n",
       "  ('measure', 0.005023847922775026),\n",
       "  ('change', 0.004779996931028424),\n",
       "  ('datum', 0.004717699108982341),\n",
       "  ('level', 0.00464614281811822),\n",
       "  ('old', 0.004489448650271387),\n",
       "  ('group', 0.0043733181574119075),\n",
       "  ('need', 0.004355130753866006)]]"
      ]
     },
     "execution_count": 12,
     "metadata": {},
     "output_type": "execute_result"
    }
   ],
   "source": [
    "ldaseq.print_topics(time=0)"
   ]
  },
  {
   "cell_type": "code",
   "execution_count": null,
   "metadata": {},
   "outputs": [],
   "source": [
    "ldaseq.print_topic_times(topic=0)"
   ]
  }
 ],
 "metadata": {
  "kernelspec": {
   "display_name": "Python 3",
   "language": "python",
   "name": "python3"
  },
  "language_info": {
   "codemirror_mode": {
    "name": "ipython",
    "version": 3
   },
   "file_extension": ".py",
   "mimetype": "text/x-python",
   "name": "python",
   "nbconvert_exporter": "python",
   "pygments_lexer": "ipython3",
   "version": "3.6.5"
  }
 },
 "nbformat": 4,
 "nbformat_minor": 2
}
