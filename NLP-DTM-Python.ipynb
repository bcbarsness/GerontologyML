{
 "cells": [
  {
   "cell_type": "code",
   "execution_count": 1,
   "metadata": {},
   "outputs": [
    {
     "name": "stderr",
     "output_type": "stream",
     "text": [
      "C:\\Users\\bbarsness\\AppData\\Local\\Continuum\\anaconda3\\lib\\site-packages\\gensim\\utils.py:1197: UserWarning: detected Windows; aliasing chunkize to chunkize_serial\n",
      "  warnings.warn(\"detected Windows; aliasing chunkize to chunkize_serial\")\n"
     ]
    }
   ],
   "source": [
    "# setting up our imports\n",
    "\n",
    "from gensim.models import ldaseqmodel\n",
    "from gensim.corpora import Dictionary, bleicorpus, MmCorpus\n",
    "import numpy\n",
    "from gensim.matutils import hellinger\n",
    "import os"
   ]
  },
  {
   "cell_type": "code",
   "execution_count": 2,
   "metadata": {},
   "outputs": [],
   "source": [
    "data_directory = 'staging'\n",
    "trigram_dictionary_filepath = os.path.join(data_directory,'trigram_dict_all.dict')\n",
    "\n",
    "trigram_bow_filepath = os.path.join(data_directory,'trigram_bow_corpus_all.mm')\n"
   ]
  },
  {
   "cell_type": "code",
   "execution_count": 4,
   "metadata": {},
   "outputs": [],
   "source": [
    "# loading our corpus and dictionary\n",
    "try:\n",
    "    # load the finished dictionary from disk\n",
    "    dictionary = Dictionary.load(trigram_dictionary_filepath)\n",
    "except FileNotFoundError as e:\n",
    "    raise ValueError(\"SKIP: Please download the Corpus/news_dictionary dataset.\")\n",
    "corpus = MmCorpus(trigram_bow_filepath)\n",
    "# it's very important that your corpus is saved in order of your time-slices!\n",
    "\n",
    "time_slice = [40,49]"
   ]
  },
  {
   "cell_type": "code",
   "execution_count": 5,
   "metadata": {},
   "outputs": [
    {
     "name": "stderr",
     "output_type": "stream",
     "text": [
      "C:\\Users\\bbarsness\\AppData\\Local\\Continuum\\anaconda3\\lib\\site-packages\\gensim\\models\\ldaseqmodel.py:230: RuntimeWarning: divide by zero encountered in double_scalars\n",
      "  convergence = np.fabs((bound - old_bound) / old_bound)\n"
     ]
    }
   ],
   "source": [
    "%%time\n",
    "\n",
    "ldaseq = ldaseqmodel.LdaSeqModel(corpus=corpus, id2word=dictionary, time_slice=time_slice, num_topics=5)"
   ]
  },
  {
   "cell_type": "code",
   "execution_count": 9,
   "metadata": {},
   "outputs": [],
   "source": [
    "ldaseq.save(os.path.join(data_directory,'ldaseq.save'))"
   ]
  },
  {
   "cell_type": "code",
   "execution_count": 7,
   "metadata": {},
   "outputs": [
    {
     "data": {
      "text/plain": [
       "[[('service', 0.016470425108542457),\n",
       "  ('care', 0.013643432877767757),\n",
       "  ('need', 0.012007177144847772),\n",
       "  ('long_term_care', 0.01138154911463125),\n",
       "  ('state', 0.01089364465420117),\n",
       "  ('policy', 0.00814050155972688),\n",
       "  ('research', 0.007269822245765318),\n",
       "  ('program', 0.006906725696452464),\n",
       "  ('information', 0.006268017766290967),\n",
       "  ('age', 0.006220042395041181),\n",
       "  ('issue', 0.00616559211855375),\n",
       "  ('1998', 0.006110454946887375),\n",
       "  ('ltc', 0.005424935601305758),\n",
       "  ('rate', 0.005001875999766033),\n",
       "  ('home_care', 0.004785780891715914),\n",
       "  ('datum', 0.004341625121539208),\n",
       "  ('medicaid', 0.004187576137093531),\n",
       "  ('home', 0.00404491305297035),\n",
       "  ('cost', 0.003958466956745333),\n",
       "  ('activity', 0.0038312589194160027)],\n",
       " [('item', 0.01416168403582987),\n",
       "  ('measure', 0.010026285095103546),\n",
       "  ('sample', 0.008912855700698975),\n",
       "  ('score', 0.007701035320257282),\n",
       "  ('depression', 0.007487397166700941),\n",
       "  ('parent', 0.007123251710307615),\n",
       "  ('factor', 0.006777233392722053),\n",
       "  ('subject', 0.0065082609981339),\n",
       "  ('datum', 0.005957452498124104),\n",
       "  ('scale', 0.00584298933901774),\n",
       "  ('disability', 0.005265741995290019),\n",
       "  ('child', 0.00518087114051143),\n",
       "  ('interview', 0.004772925452634424),\n",
       "  ('et_al', 0.00474905515175864),\n",
       "  ('symptom', 0.004688215821181703),\n",
       "  ('=', 0.004660916318869525),\n",
       "  ('respondent', 0.004481225624025073),\n",
       "  ('question', 0.004354517787098567),\n",
       "  ('age', 0.004205613741804797),\n",
       "  ('analysis', 0.004102342182738749)],\n",
       " [('caregiver', 0.02727174504710595),\n",
       "  ('care', 0.006699535622012789),\n",
       "  ('group', 0.006204378871285666),\n",
       "  ('family', 0.006044431153744395),\n",
       "  ('participant', 0.005717563181116698),\n",
       "  ('intervention', 0.005474597595293459),\n",
       "  ('measure', 0.005468829025895927),\n",
       "  ('experience', 0.004924963412553339),\n",
       "  ('level', 0.0046913164170262174),\n",
       "  ('caregiv', 0.00453133536000717),\n",
       "  ('research', 0.004490774614200261),\n",
       "  ('sample', 0.0042865275111431565),\n",
       "  ('burden', 0.004194105276327116),\n",
       "  ('patient', 0.004149721609845465),\n",
       "  ('care_recipient', 0.004057733642776235),\n",
       "  ('e.g.', 0.0037182764195616423),\n",
       "  ('dementia', 0.0036545538062825737),\n",
       "  ('relate', 0.00354828354564782),\n",
       "  ('relative', 0.003490928823621877),\n",
       "  ('health', 0.003436904794917575)],\n",
       " [('resident', 0.02841582969543624),\n",
       "  ('care', 0.016846425791382975),\n",
       "  ('nursing_home', 0.01418747388272727),\n",
       "  ('facility', 0.011376327786238183),\n",
       "  ('quality', 0.009281782513227073),\n",
       "  ('staff', 0.007704068172539236),\n",
       "  ('datum', 0.006042361882837435),\n",
       "  ('group', 0.005750250711012811),\n",
       "  ('life', 0.00543600188156845),\n",
       "  ('time', 0.004664346709940048),\n",
       "  ('assessment', 0.004551391878118193),\n",
       "  ('need', 0.004112427475253334),\n",
       "  ('place', 0.004017915146271519),\n",
       "  ('state', 0.0039788698812179505),\n",
       "  ('patient', 0.00394042285459559),\n",
       "  ('case', 0.003911351463820731),\n",
       "  ('analysis', 0.003824270361027141),\n",
       "  ('change', 0.003798804461679118),\n",
       "  ('outcome', 0.00370097171556776),\n",
       "  ('intervention', 0.003678422183305754)],\n",
       " [('age', 0.011504438850589006),\n",
       "  ('group', 0.0076755232846894795),\n",
       "  ('old', 0.006511039445908502),\n",
       "  ('survey', 0.006330558017178056),\n",
       "  ('respondent', 0.005467503363381992),\n",
       "  ('year', 0.005309560458573883),\n",
       "  ('analysis', 0.005211653087338316),\n",
       "  ('income', 0.00507457102954117),\n",
       "  ('number', 0.004917930972393747),\n",
       "  ('increase', 0.00464427139632945),\n",
       "  ('family', 0.00463898185148044),\n",
       "  ('work', 0.004613274309404654),\n",
       "  ('ageism', 0.0041647023066107665),\n",
       "  ('woman', 0.0040043934125508305),\n",
       "  ('change', 0.003952221087047205),\n",
       "  ('difference', 0.0039479085224204),\n",
       "  ('level', 0.003930556099916532),\n",
       "  ('child', 0.0038894445389734858),\n",
       "  ('experience', 0.003873589372098826),\n",
       "  ('old_adult', 0.0037874053591601294)]]"
      ]
     },
     "execution_count": 7,
     "metadata": {},
     "output_type": "execute_result"
    }
   ],
   "source": [
    "ldaseq.print_topics(time=0)"
   ]
  },
  {
   "cell_type": "code",
   "execution_count": null,
   "metadata": {},
   "outputs": [],
   "source": [
    "ldaseq.print_topic_times(topic=0)"
   ]
  }
 ],
 "metadata": {
  "kernelspec": {
   "display_name": "Python 3",
   "language": "python",
   "name": "python3"
  },
  "language_info": {
   "codemirror_mode": {
    "name": "ipython",
    "version": 3
   },
   "file_extension": ".py",
   "mimetype": "text/x-python",
   "name": "python",
   "nbconvert_exporter": "python",
   "pygments_lexer": "ipython3",
   "version": "3.6.4"
  }
 },
 "nbformat": 4,
 "nbformat_minor": 2
}
