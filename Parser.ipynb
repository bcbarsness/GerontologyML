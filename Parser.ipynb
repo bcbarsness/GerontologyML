{
 "cells": [
  {
   "cell_type": "code",
   "execution_count": 41,
   "metadata": {},
   "outputs": [
    {
     "name": "stderr",
     "output_type": "stream",
     "text": [
      "/Users/bcbarsness/anaconda3/lib/python3.6/site-packages/urllib3/connectionpool.py:858: InsecureRequestWarning: Unverified HTTPS request is being made. Adding certificate verification is strongly advised. See: https://urllib3.readthedocs.io/en/latest/advanced-usage.html#ssl-warnings\n",
      "  InsecureRequestWarning)\n"
     ]
    }
   ],
   "source": [
    "import requests\n",
    "session = requests.Session()\n",
    "#session.auth = (u'user', 'test')\n",
    "session.verify = False\n",
    "#response = session.get(url='https://httpbin.org/redirect-to?url=cookies')\n",
    "response = session.get(url='https://doi.org/10.1093/geront/43.2.158', headers=headers)\n",
    "#response = session.get(url='https://academic.oup.com/gerontologist/article/43/2/158/636148', headers=headers)\n",
    "#session.get('https://github.com')"
   ]
  },
  {
   "cell_type": "code",
   "execution_count": 47,
   "metadata": {},
   "outputs": [
    {
     "data": {
      "text/plain": [
       "b'<html>\\r\\n<head><title>403 Forbidden</title></head>\\r\\n<body bgcolor=\"white\">\\r\\n<center><h1>403 Forbidden</h1></center>\\r\\n<hr><center>cloudflare</center>\\r\\n</body>\\r\\n</html>\\r\\n<!-- a padding to disable MSIE and Chrome friendly error page -->\\r\\n<!-- a padding to disable MSIE and Chrome friendly error page -->\\r\\n<!-- a padding to disable MSIE and Chrome friendly error page -->\\r\\n<!-- a padding to disable MSIE and Chrome friendly error page -->\\r\\n<!-- a padding to disable MSIE and Chrome friendly error page -->\\r\\n<!-- a padding to disable MSIE and Chrome friendly error page -->\\r\\n'"
      ]
     },
     "execution_count": 47,
     "metadata": {},
     "output_type": "execute_result"
    }
   ],
   "source": [
    "response.content"
   ]
  },
  {
   "cell_type": "code",
   "execution_count": 40,
   "metadata": {},
   "outputs": [
    {
     "name": "stderr",
     "output_type": "stream",
     "text": [
      "/Users/bcbarsness/anaconda3/lib/python3.6/site-packages/urllib3/connectionpool.py:858: InsecureRequestWarning: Unverified HTTPS request is being made. Adding certificate verification is strongly advised. See: https://urllib3.readthedocs.io/en/latest/advanced-usage.html#ssl-warnings\n",
      "  InsecureRequestWarning)\n"
     ]
    },
    {
     "ename": "ReadTimeout",
     "evalue": "HTTPConnectionPool(host='academic.oup.com', port=80): Read timed out. (read timeout=None)",
     "output_type": "error",
     "traceback": [
      "\u001b[0;31m---------------------------------------------------------------------------\u001b[0m",
      "\u001b[0;31mTimeoutError\u001b[0m                              Traceback (most recent call last)",
      "\u001b[0;32m~/anaconda3/lib/python3.6/site-packages/urllib3/connectionpool.py\u001b[0m in \u001b[0;36m_make_request\u001b[0;34m(self, conn, method, url, timeout, chunked, **httplib_request_kw)\u001b[0m\n\u001b[1;32m    386\u001b[0m                     \u001b[0;31m# otherwise it looks like a programming error was the cause.\u001b[0m\u001b[0;34m\u001b[0m\u001b[0;34m\u001b[0m\u001b[0m\n\u001b[0;32m--> 387\u001b[0;31m                     \u001b[0msix\u001b[0m\u001b[0;34m.\u001b[0m\u001b[0mraise_from\u001b[0m\u001b[0;34m(\u001b[0m\u001b[0me\u001b[0m\u001b[0;34m,\u001b[0m \u001b[0;32mNone\u001b[0m\u001b[0;34m)\u001b[0m\u001b[0;34m\u001b[0m\u001b[0m\n\u001b[0m\u001b[1;32m    388\u001b[0m         \u001b[0;32mexcept\u001b[0m \u001b[0;34m(\u001b[0m\u001b[0mSocketTimeout\u001b[0m\u001b[0;34m,\u001b[0m \u001b[0mBaseSSLError\u001b[0m\u001b[0;34m,\u001b[0m \u001b[0mSocketError\u001b[0m\u001b[0;34m)\u001b[0m \u001b[0;32mas\u001b[0m \u001b[0me\u001b[0m\u001b[0;34m:\u001b[0m\u001b[0;34m\u001b[0m\u001b[0m\n",
      "\u001b[0;32m~/anaconda3/lib/python3.6/site-packages/urllib3/packages/six.py\u001b[0m in \u001b[0;36mraise_from\u001b[0;34m(value, from_value)\u001b[0m\n",
      "\u001b[0;32m~/anaconda3/lib/python3.6/site-packages/urllib3/connectionpool.py\u001b[0m in \u001b[0;36m_make_request\u001b[0;34m(self, conn, method, url, timeout, chunked, **httplib_request_kw)\u001b[0m\n\u001b[1;32m    382\u001b[0m                 \u001b[0;32mtry\u001b[0m\u001b[0;34m:\u001b[0m\u001b[0;34m\u001b[0m\u001b[0m\n\u001b[0;32m--> 383\u001b[0;31m                     \u001b[0mhttplib_response\u001b[0m \u001b[0;34m=\u001b[0m \u001b[0mconn\u001b[0m\u001b[0;34m.\u001b[0m\u001b[0mgetresponse\u001b[0m\u001b[0;34m(\u001b[0m\u001b[0;34m)\u001b[0m\u001b[0;34m\u001b[0m\u001b[0m\n\u001b[0m\u001b[1;32m    384\u001b[0m                 \u001b[0;32mexcept\u001b[0m \u001b[0mException\u001b[0m \u001b[0;32mas\u001b[0m \u001b[0me\u001b[0m\u001b[0;34m:\u001b[0m\u001b[0;34m\u001b[0m\u001b[0m\n",
      "\u001b[0;32m~/anaconda3/lib/python3.6/http/client.py\u001b[0m in \u001b[0;36mgetresponse\u001b[0;34m(self)\u001b[0m\n\u001b[1;32m   1330\u001b[0m             \u001b[0;32mtry\u001b[0m\u001b[0;34m:\u001b[0m\u001b[0;34m\u001b[0m\u001b[0m\n\u001b[0;32m-> 1331\u001b[0;31m                 \u001b[0mresponse\u001b[0m\u001b[0;34m.\u001b[0m\u001b[0mbegin\u001b[0m\u001b[0;34m(\u001b[0m\u001b[0;34m)\u001b[0m\u001b[0;34m\u001b[0m\u001b[0m\n\u001b[0m\u001b[1;32m   1332\u001b[0m             \u001b[0;32mexcept\u001b[0m \u001b[0mConnectionError\u001b[0m\u001b[0;34m:\u001b[0m\u001b[0;34m\u001b[0m\u001b[0m\n",
      "\u001b[0;32m~/anaconda3/lib/python3.6/http/client.py\u001b[0m in \u001b[0;36mbegin\u001b[0;34m(self)\u001b[0m\n\u001b[1;32m    296\u001b[0m         \u001b[0;32mwhile\u001b[0m \u001b[0;32mTrue\u001b[0m\u001b[0;34m:\u001b[0m\u001b[0;34m\u001b[0m\u001b[0m\n\u001b[0;32m--> 297\u001b[0;31m             \u001b[0mversion\u001b[0m\u001b[0;34m,\u001b[0m \u001b[0mstatus\u001b[0m\u001b[0;34m,\u001b[0m \u001b[0mreason\u001b[0m \u001b[0;34m=\u001b[0m \u001b[0mself\u001b[0m\u001b[0;34m.\u001b[0m\u001b[0m_read_status\u001b[0m\u001b[0;34m(\u001b[0m\u001b[0;34m)\u001b[0m\u001b[0;34m\u001b[0m\u001b[0m\n\u001b[0m\u001b[1;32m    298\u001b[0m             \u001b[0;32mif\u001b[0m \u001b[0mstatus\u001b[0m \u001b[0;34m!=\u001b[0m \u001b[0mCONTINUE\u001b[0m\u001b[0;34m:\u001b[0m\u001b[0;34m\u001b[0m\u001b[0m\n",
      "\u001b[0;32m~/anaconda3/lib/python3.6/http/client.py\u001b[0m in \u001b[0;36m_read_status\u001b[0;34m(self)\u001b[0m\n\u001b[1;32m    257\u001b[0m     \u001b[0;32mdef\u001b[0m \u001b[0m_read_status\u001b[0m\u001b[0;34m(\u001b[0m\u001b[0mself\u001b[0m\u001b[0;34m)\u001b[0m\u001b[0;34m:\u001b[0m\u001b[0;34m\u001b[0m\u001b[0m\n\u001b[0;32m--> 258\u001b[0;31m         \u001b[0mline\u001b[0m \u001b[0;34m=\u001b[0m \u001b[0mstr\u001b[0m\u001b[0;34m(\u001b[0m\u001b[0mself\u001b[0m\u001b[0;34m.\u001b[0m\u001b[0mfp\u001b[0m\u001b[0;34m.\u001b[0m\u001b[0mreadline\u001b[0m\u001b[0;34m(\u001b[0m\u001b[0m_MAXLINE\u001b[0m \u001b[0;34m+\u001b[0m \u001b[0;36m1\u001b[0m\u001b[0;34m)\u001b[0m\u001b[0;34m,\u001b[0m \u001b[0;34m\"iso-8859-1\"\u001b[0m\u001b[0;34m)\u001b[0m\u001b[0;34m\u001b[0m\u001b[0m\n\u001b[0m\u001b[1;32m    259\u001b[0m         \u001b[0;32mif\u001b[0m \u001b[0mlen\u001b[0m\u001b[0;34m(\u001b[0m\u001b[0mline\u001b[0m\u001b[0;34m)\u001b[0m \u001b[0;34m>\u001b[0m \u001b[0m_MAXLINE\u001b[0m\u001b[0;34m:\u001b[0m\u001b[0;34m\u001b[0m\u001b[0m\n",
      "\u001b[0;32m~/anaconda3/lib/python3.6/socket.py\u001b[0m in \u001b[0;36mreadinto\u001b[0;34m(self, b)\u001b[0m\n\u001b[1;32m    585\u001b[0m             \u001b[0;32mtry\u001b[0m\u001b[0;34m:\u001b[0m\u001b[0;34m\u001b[0m\u001b[0m\n\u001b[0;32m--> 586\u001b[0;31m                 \u001b[0;32mreturn\u001b[0m \u001b[0mself\u001b[0m\u001b[0;34m.\u001b[0m\u001b[0m_sock\u001b[0m\u001b[0;34m.\u001b[0m\u001b[0mrecv_into\u001b[0m\u001b[0;34m(\u001b[0m\u001b[0mb\u001b[0m\u001b[0;34m)\u001b[0m\u001b[0;34m\u001b[0m\u001b[0m\n\u001b[0m\u001b[1;32m    587\u001b[0m             \u001b[0;32mexcept\u001b[0m \u001b[0mtimeout\u001b[0m\u001b[0;34m:\u001b[0m\u001b[0;34m\u001b[0m\u001b[0m\n",
      "\u001b[0;31mTimeoutError\u001b[0m: [Errno 60] Operation timed out",
      "\nDuring handling of the above exception, another exception occurred:\n",
      "\u001b[0;31mReadTimeoutError\u001b[0m                          Traceback (most recent call last)",
      "\u001b[0;32m~/anaconda3/lib/python3.6/site-packages/requests/adapters.py\u001b[0m in \u001b[0;36msend\u001b[0;34m(self, request, stream, timeout, verify, cert, proxies)\u001b[0m\n\u001b[1;32m    439\u001b[0m                     \u001b[0mretries\u001b[0m\u001b[0;34m=\u001b[0m\u001b[0mself\u001b[0m\u001b[0;34m.\u001b[0m\u001b[0mmax_retries\u001b[0m\u001b[0;34m,\u001b[0m\u001b[0;34m\u001b[0m\u001b[0m\n\u001b[0;32m--> 440\u001b[0;31m                     \u001b[0mtimeout\u001b[0m\u001b[0;34m=\u001b[0m\u001b[0mtimeout\u001b[0m\u001b[0;34m\u001b[0m\u001b[0m\n\u001b[0m\u001b[1;32m    441\u001b[0m                 )\n",
      "\u001b[0;32m~/anaconda3/lib/python3.6/site-packages/urllib3/connectionpool.py\u001b[0m in \u001b[0;36murlopen\u001b[0;34m(self, method, url, body, headers, retries, redirect, assert_same_host, timeout, pool_timeout, release_conn, chunked, body_pos, **response_kw)\u001b[0m\n\u001b[1;32m    638\u001b[0m             retries = retries.increment(method, url, error=e, _pool=self,\n\u001b[0;32m--> 639\u001b[0;31m                                         _stacktrace=sys.exc_info()[2])\n\u001b[0m\u001b[1;32m    640\u001b[0m             \u001b[0mretries\u001b[0m\u001b[0;34m.\u001b[0m\u001b[0msleep\u001b[0m\u001b[0;34m(\u001b[0m\u001b[0;34m)\u001b[0m\u001b[0;34m\u001b[0m\u001b[0m\n",
      "\u001b[0;32m~/anaconda3/lib/python3.6/site-packages/urllib3/util/retry.py\u001b[0m in \u001b[0;36mincrement\u001b[0;34m(self, method, url, response, error, _pool, _stacktrace)\u001b[0m\n\u001b[1;32m    356\u001b[0m             \u001b[0;32mif\u001b[0m \u001b[0mread\u001b[0m \u001b[0;32mis\u001b[0m \u001b[0;32mFalse\u001b[0m \u001b[0;32mor\u001b[0m \u001b[0;32mnot\u001b[0m \u001b[0mself\u001b[0m\u001b[0;34m.\u001b[0m\u001b[0m_is_method_retryable\u001b[0m\u001b[0;34m(\u001b[0m\u001b[0mmethod\u001b[0m\u001b[0;34m)\u001b[0m\u001b[0;34m:\u001b[0m\u001b[0;34m\u001b[0m\u001b[0m\n\u001b[0;32m--> 357\u001b[0;31m                 \u001b[0;32mraise\u001b[0m \u001b[0msix\u001b[0m\u001b[0;34m.\u001b[0m\u001b[0mreraise\u001b[0m\u001b[0;34m(\u001b[0m\u001b[0mtype\u001b[0m\u001b[0;34m(\u001b[0m\u001b[0merror\u001b[0m\u001b[0;34m)\u001b[0m\u001b[0;34m,\u001b[0m \u001b[0merror\u001b[0m\u001b[0;34m,\u001b[0m \u001b[0m_stacktrace\u001b[0m\u001b[0;34m)\u001b[0m\u001b[0;34m\u001b[0m\u001b[0m\n\u001b[0m\u001b[1;32m    358\u001b[0m             \u001b[0;32melif\u001b[0m \u001b[0mread\u001b[0m \u001b[0;32mis\u001b[0m \u001b[0;32mnot\u001b[0m \u001b[0;32mNone\u001b[0m\u001b[0;34m:\u001b[0m\u001b[0;34m\u001b[0m\u001b[0m\n",
      "\u001b[0;32m~/anaconda3/lib/python3.6/site-packages/urllib3/packages/six.py\u001b[0m in \u001b[0;36mreraise\u001b[0;34m(tp, value, tb)\u001b[0m\n\u001b[1;32m    685\u001b[0m             \u001b[0;32mraise\u001b[0m \u001b[0mvalue\u001b[0m\u001b[0;34m.\u001b[0m\u001b[0mwith_traceback\u001b[0m\u001b[0;34m(\u001b[0m\u001b[0mtb\u001b[0m\u001b[0;34m)\u001b[0m\u001b[0;34m\u001b[0m\u001b[0m\n\u001b[0;32m--> 686\u001b[0;31m         \u001b[0;32mraise\u001b[0m \u001b[0mvalue\u001b[0m\u001b[0;34m\u001b[0m\u001b[0m\n\u001b[0m\u001b[1;32m    687\u001b[0m \u001b[0;34m\u001b[0m\u001b[0m\n",
      "\u001b[0;32m~/anaconda3/lib/python3.6/site-packages/urllib3/connectionpool.py\u001b[0m in \u001b[0;36murlopen\u001b[0;34m(self, method, url, body, headers, retries, redirect, assert_same_host, timeout, pool_timeout, release_conn, chunked, body_pos, **response_kw)\u001b[0m\n\u001b[1;32m    600\u001b[0m                                                   \u001b[0mbody\u001b[0m\u001b[0;34m=\u001b[0m\u001b[0mbody\u001b[0m\u001b[0;34m,\u001b[0m \u001b[0mheaders\u001b[0m\u001b[0;34m=\u001b[0m\u001b[0mheaders\u001b[0m\u001b[0;34m,\u001b[0m\u001b[0;34m\u001b[0m\u001b[0m\n\u001b[0;32m--> 601\u001b[0;31m                                                   chunked=chunked)\n\u001b[0m\u001b[1;32m    602\u001b[0m \u001b[0;34m\u001b[0m\u001b[0m\n",
      "\u001b[0;32m~/anaconda3/lib/python3.6/site-packages/urllib3/connectionpool.py\u001b[0m in \u001b[0;36m_make_request\u001b[0;34m(self, conn, method, url, timeout, chunked, **httplib_request_kw)\u001b[0m\n\u001b[1;32m    388\u001b[0m         \u001b[0;32mexcept\u001b[0m \u001b[0;34m(\u001b[0m\u001b[0mSocketTimeout\u001b[0m\u001b[0;34m,\u001b[0m \u001b[0mBaseSSLError\u001b[0m\u001b[0;34m,\u001b[0m \u001b[0mSocketError\u001b[0m\u001b[0;34m)\u001b[0m \u001b[0;32mas\u001b[0m \u001b[0me\u001b[0m\u001b[0;34m:\u001b[0m\u001b[0;34m\u001b[0m\u001b[0m\n\u001b[0;32m--> 389\u001b[0;31m             \u001b[0mself\u001b[0m\u001b[0;34m.\u001b[0m\u001b[0m_raise_timeout\u001b[0m\u001b[0;34m(\u001b[0m\u001b[0merr\u001b[0m\u001b[0;34m=\u001b[0m\u001b[0me\u001b[0m\u001b[0;34m,\u001b[0m \u001b[0murl\u001b[0m\u001b[0;34m=\u001b[0m\u001b[0murl\u001b[0m\u001b[0;34m,\u001b[0m \u001b[0mtimeout_value\u001b[0m\u001b[0;34m=\u001b[0m\u001b[0mread_timeout\u001b[0m\u001b[0;34m)\u001b[0m\u001b[0;34m\u001b[0m\u001b[0m\n\u001b[0m\u001b[1;32m    390\u001b[0m             \u001b[0;32mraise\u001b[0m\u001b[0;34m\u001b[0m\u001b[0m\n",
      "\u001b[0;32m~/anaconda3/lib/python3.6/site-packages/urllib3/connectionpool.py\u001b[0m in \u001b[0;36m_raise_timeout\u001b[0;34m(self, err, url, timeout_value)\u001b[0m\n\u001b[1;32m    319\u001b[0m         \u001b[0;32mif\u001b[0m \u001b[0;34m'timed out'\u001b[0m \u001b[0;32min\u001b[0m \u001b[0mstr\u001b[0m\u001b[0;34m(\u001b[0m\u001b[0merr\u001b[0m\u001b[0;34m)\u001b[0m \u001b[0;32mor\u001b[0m \u001b[0;34m'did not complete (read)'\u001b[0m \u001b[0;32min\u001b[0m \u001b[0mstr\u001b[0m\u001b[0;34m(\u001b[0m\u001b[0merr\u001b[0m\u001b[0;34m)\u001b[0m\u001b[0;34m:\u001b[0m  \u001b[0;31m# Python 2.6\u001b[0m\u001b[0;34m\u001b[0m\u001b[0m\n\u001b[0;32m--> 320\u001b[0;31m             \u001b[0;32mraise\u001b[0m \u001b[0mReadTimeoutError\u001b[0m\u001b[0;34m(\u001b[0m\u001b[0mself\u001b[0m\u001b[0;34m,\u001b[0m \u001b[0murl\u001b[0m\u001b[0;34m,\u001b[0m \u001b[0;34m\"Read timed out. (read timeout=%s)\"\u001b[0m \u001b[0;34m%\u001b[0m \u001b[0mtimeout_value\u001b[0m\u001b[0;34m)\u001b[0m\u001b[0;34m\u001b[0m\u001b[0m\n\u001b[0m\u001b[1;32m    321\u001b[0m \u001b[0;34m\u001b[0m\u001b[0m\n",
      "\u001b[0;31mReadTimeoutError\u001b[0m: HTTPConnectionPool(host='academic.oup.com', port=80): Read timed out. (read timeout=None)",
      "\nDuring handling of the above exception, another exception occurred:\n",
      "\u001b[0;31mReadTimeout\u001b[0m                               Traceback (most recent call last)",
      "\u001b[0;32m<ipython-input-40-cdf67cec231f>\u001b[0m in \u001b[0;36m<module>\u001b[0;34m()\u001b[0m\n\u001b[1;32m      1\u001b[0m \u001b[0;31m#response = session.get(url='https://httpbin.org/redirect-to?url=cookies')\u001b[0m\u001b[0;34m\u001b[0m\u001b[0;34m\u001b[0m\u001b[0m\n\u001b[0;32m----> 2\u001b[0;31m \u001b[0mresponse\u001b[0m \u001b[0;34m=\u001b[0m \u001b[0msession\u001b[0m\u001b[0;34m.\u001b[0m\u001b[0mget\u001b[0m\u001b[0;34m(\u001b[0m\u001b[0murl\u001b[0m\u001b[0;34m=\u001b[0m\u001b[0;34m'https://doi.org/10.1093/geront/43.2.158'\u001b[0m\u001b[0;34m)\u001b[0m\u001b[0;34m\u001b[0m\u001b[0m\n\u001b[0m",
      "\u001b[0;32m~/anaconda3/lib/python3.6/site-packages/requests/sessions.py\u001b[0m in \u001b[0;36mget\u001b[0;34m(self, url, **kwargs)\u001b[0m\n\u001b[1;32m    519\u001b[0m \u001b[0;34m\u001b[0m\u001b[0m\n\u001b[1;32m    520\u001b[0m         \u001b[0mkwargs\u001b[0m\u001b[0;34m.\u001b[0m\u001b[0msetdefault\u001b[0m\u001b[0;34m(\u001b[0m\u001b[0;34m'allow_redirects'\u001b[0m\u001b[0;34m,\u001b[0m \u001b[0;32mTrue\u001b[0m\u001b[0;34m)\u001b[0m\u001b[0;34m\u001b[0m\u001b[0m\n\u001b[0;32m--> 521\u001b[0;31m         \u001b[0;32mreturn\u001b[0m \u001b[0mself\u001b[0m\u001b[0;34m.\u001b[0m\u001b[0mrequest\u001b[0m\u001b[0;34m(\u001b[0m\u001b[0;34m'GET'\u001b[0m\u001b[0;34m,\u001b[0m \u001b[0murl\u001b[0m\u001b[0;34m,\u001b[0m \u001b[0;34m**\u001b[0m\u001b[0mkwargs\u001b[0m\u001b[0;34m)\u001b[0m\u001b[0;34m\u001b[0m\u001b[0m\n\u001b[0m\u001b[1;32m    522\u001b[0m \u001b[0;34m\u001b[0m\u001b[0m\n\u001b[1;32m    523\u001b[0m     \u001b[0;32mdef\u001b[0m \u001b[0moptions\u001b[0m\u001b[0;34m(\u001b[0m\u001b[0mself\u001b[0m\u001b[0;34m,\u001b[0m \u001b[0murl\u001b[0m\u001b[0;34m,\u001b[0m \u001b[0;34m**\u001b[0m\u001b[0mkwargs\u001b[0m\u001b[0;34m)\u001b[0m\u001b[0;34m:\u001b[0m\u001b[0;34m\u001b[0m\u001b[0m\n",
      "\u001b[0;32m~/anaconda3/lib/python3.6/site-packages/requests/sessions.py\u001b[0m in \u001b[0;36mrequest\u001b[0;34m(self, method, url, params, data, headers, cookies, files, auth, timeout, allow_redirects, proxies, hooks, stream, verify, cert, json)\u001b[0m\n\u001b[1;32m    506\u001b[0m         }\n\u001b[1;32m    507\u001b[0m         \u001b[0msend_kwargs\u001b[0m\u001b[0;34m.\u001b[0m\u001b[0mupdate\u001b[0m\u001b[0;34m(\u001b[0m\u001b[0msettings\u001b[0m\u001b[0;34m)\u001b[0m\u001b[0;34m\u001b[0m\u001b[0m\n\u001b[0;32m--> 508\u001b[0;31m         \u001b[0mresp\u001b[0m \u001b[0;34m=\u001b[0m \u001b[0mself\u001b[0m\u001b[0;34m.\u001b[0m\u001b[0msend\u001b[0m\u001b[0;34m(\u001b[0m\u001b[0mprep\u001b[0m\u001b[0;34m,\u001b[0m \u001b[0;34m**\u001b[0m\u001b[0msend_kwargs\u001b[0m\u001b[0;34m)\u001b[0m\u001b[0;34m\u001b[0m\u001b[0m\n\u001b[0m\u001b[1;32m    509\u001b[0m \u001b[0;34m\u001b[0m\u001b[0m\n\u001b[1;32m    510\u001b[0m         \u001b[0;32mreturn\u001b[0m \u001b[0mresp\u001b[0m\u001b[0;34m\u001b[0m\u001b[0m\n",
      "\u001b[0;32m~/anaconda3/lib/python3.6/site-packages/requests/sessions.py\u001b[0m in \u001b[0;36msend\u001b[0;34m(self, request, **kwargs)\u001b[0m\n\u001b[1;32m    638\u001b[0m \u001b[0;34m\u001b[0m\u001b[0m\n\u001b[1;32m    639\u001b[0m         \u001b[0;31m# Resolve redirects if allowed.\u001b[0m\u001b[0;34m\u001b[0m\u001b[0;34m\u001b[0m\u001b[0m\n\u001b[0;32m--> 640\u001b[0;31m         \u001b[0mhistory\u001b[0m \u001b[0;34m=\u001b[0m \u001b[0;34m[\u001b[0m\u001b[0mresp\u001b[0m \u001b[0;32mfor\u001b[0m \u001b[0mresp\u001b[0m \u001b[0;32min\u001b[0m \u001b[0mgen\u001b[0m\u001b[0;34m]\u001b[0m \u001b[0;32mif\u001b[0m \u001b[0mallow_redirects\u001b[0m \u001b[0;32melse\u001b[0m \u001b[0;34m[\u001b[0m\u001b[0;34m]\u001b[0m\u001b[0;34m\u001b[0m\u001b[0m\n\u001b[0m\u001b[1;32m    641\u001b[0m \u001b[0;34m\u001b[0m\u001b[0m\n\u001b[1;32m    642\u001b[0m         \u001b[0;31m# Shuffle things around if there's history.\u001b[0m\u001b[0;34m\u001b[0m\u001b[0;34m\u001b[0m\u001b[0m\n",
      "\u001b[0;32m~/anaconda3/lib/python3.6/site-packages/requests/sessions.py\u001b[0m in \u001b[0;36m<listcomp>\u001b[0;34m(.0)\u001b[0m\n\u001b[1;32m    638\u001b[0m \u001b[0;34m\u001b[0m\u001b[0m\n\u001b[1;32m    639\u001b[0m         \u001b[0;31m# Resolve redirects if allowed.\u001b[0m\u001b[0;34m\u001b[0m\u001b[0;34m\u001b[0m\u001b[0m\n\u001b[0;32m--> 640\u001b[0;31m         \u001b[0mhistory\u001b[0m \u001b[0;34m=\u001b[0m \u001b[0;34m[\u001b[0m\u001b[0mresp\u001b[0m \u001b[0;32mfor\u001b[0m \u001b[0mresp\u001b[0m \u001b[0;32min\u001b[0m \u001b[0mgen\u001b[0m\u001b[0;34m]\u001b[0m \u001b[0;32mif\u001b[0m \u001b[0mallow_redirects\u001b[0m \u001b[0;32melse\u001b[0m \u001b[0;34m[\u001b[0m\u001b[0;34m]\u001b[0m\u001b[0;34m\u001b[0m\u001b[0m\n\u001b[0m\u001b[1;32m    641\u001b[0m \u001b[0;34m\u001b[0m\u001b[0m\n\u001b[1;32m    642\u001b[0m         \u001b[0;31m# Shuffle things around if there's history.\u001b[0m\u001b[0;34m\u001b[0m\u001b[0;34m\u001b[0m\u001b[0m\n",
      "\u001b[0;32m~/anaconda3/lib/python3.6/site-packages/requests/sessions.py\u001b[0m in \u001b[0;36mresolve_redirects\u001b[0;34m(self, resp, req, stream, timeout, verify, cert, proxies, yield_requests, **adapter_kwargs)\u001b[0m\n\u001b[1;32m    216\u001b[0m                     \u001b[0mproxies\u001b[0m\u001b[0;34m=\u001b[0m\u001b[0mproxies\u001b[0m\u001b[0;34m,\u001b[0m\u001b[0;34m\u001b[0m\u001b[0m\n\u001b[1;32m    217\u001b[0m                     \u001b[0mallow_redirects\u001b[0m\u001b[0;34m=\u001b[0m\u001b[0;32mFalse\u001b[0m\u001b[0;34m,\u001b[0m\u001b[0;34m\u001b[0m\u001b[0m\n\u001b[0;32m--> 218\u001b[0;31m                     \u001b[0;34m**\u001b[0m\u001b[0madapter_kwargs\u001b[0m\u001b[0;34m\u001b[0m\u001b[0m\n\u001b[0m\u001b[1;32m    219\u001b[0m                 )\n\u001b[1;32m    220\u001b[0m \u001b[0;34m\u001b[0m\u001b[0m\n",
      "\u001b[0;32m~/anaconda3/lib/python3.6/site-packages/requests/sessions.py\u001b[0m in \u001b[0;36msend\u001b[0;34m(self, request, **kwargs)\u001b[0m\n\u001b[1;32m    616\u001b[0m \u001b[0;34m\u001b[0m\u001b[0m\n\u001b[1;32m    617\u001b[0m         \u001b[0;31m# Send the request\u001b[0m\u001b[0;34m\u001b[0m\u001b[0;34m\u001b[0m\u001b[0m\n\u001b[0;32m--> 618\u001b[0;31m         \u001b[0mr\u001b[0m \u001b[0;34m=\u001b[0m \u001b[0madapter\u001b[0m\u001b[0;34m.\u001b[0m\u001b[0msend\u001b[0m\u001b[0;34m(\u001b[0m\u001b[0mrequest\u001b[0m\u001b[0;34m,\u001b[0m \u001b[0;34m**\u001b[0m\u001b[0mkwargs\u001b[0m\u001b[0;34m)\u001b[0m\u001b[0;34m\u001b[0m\u001b[0m\n\u001b[0m\u001b[1;32m    619\u001b[0m \u001b[0;34m\u001b[0m\u001b[0m\n\u001b[1;32m    620\u001b[0m         \u001b[0;31m# Total elapsed time of the request (approximately)\u001b[0m\u001b[0;34m\u001b[0m\u001b[0;34m\u001b[0m\u001b[0m\n",
      "\u001b[0;32m~/anaconda3/lib/python3.6/site-packages/requests/adapters.py\u001b[0m in \u001b[0;36msend\u001b[0;34m(self, request, stream, timeout, verify, cert, proxies)\u001b[0m\n\u001b[1;32m    519\u001b[0m                 \u001b[0;32mraise\u001b[0m \u001b[0mSSLError\u001b[0m\u001b[0;34m(\u001b[0m\u001b[0me\u001b[0m\u001b[0;34m,\u001b[0m \u001b[0mrequest\u001b[0m\u001b[0;34m=\u001b[0m\u001b[0mrequest\u001b[0m\u001b[0;34m)\u001b[0m\u001b[0;34m\u001b[0m\u001b[0m\n\u001b[1;32m    520\u001b[0m             \u001b[0;32melif\u001b[0m \u001b[0misinstance\u001b[0m\u001b[0;34m(\u001b[0m\u001b[0me\u001b[0m\u001b[0;34m,\u001b[0m \u001b[0mReadTimeoutError\u001b[0m\u001b[0;34m)\u001b[0m\u001b[0;34m:\u001b[0m\u001b[0;34m\u001b[0m\u001b[0m\n\u001b[0;32m--> 521\u001b[0;31m                 \u001b[0;32mraise\u001b[0m \u001b[0mReadTimeout\u001b[0m\u001b[0;34m(\u001b[0m\u001b[0me\u001b[0m\u001b[0;34m,\u001b[0m \u001b[0mrequest\u001b[0m\u001b[0;34m=\u001b[0m\u001b[0mrequest\u001b[0m\u001b[0;34m)\u001b[0m\u001b[0;34m\u001b[0m\u001b[0m\n\u001b[0m\u001b[1;32m    522\u001b[0m             \u001b[0;32melse\u001b[0m\u001b[0;34m:\u001b[0m\u001b[0;34m\u001b[0m\u001b[0m\n\u001b[1;32m    523\u001b[0m                 \u001b[0;32mraise\u001b[0m\u001b[0;34m\u001b[0m\u001b[0m\n",
      "\u001b[0;31mReadTimeout\u001b[0m: HTTPConnectionPool(host='academic.oup.com', port=80): Read timed out. (read timeout=None)"
     ]
    }
   ],
   "source": [
    "#response = session.get(url='https://httpbin.org/redirect-to?url=cookies')\n",
    "response = session.get(url='https://doi.org/10.1093/geront/43.2.158')\n"
   ]
  },
  {
   "cell_type": "code",
   "execution_count": null,
   "metadata": {},
   "outputs": [],
   "source": [
    "response.request.headers"
   ]
  },
  {
   "cell_type": "code",
   "execution_count": 240,
   "metadata": {},
   "outputs": [],
   "source": [
    "import requests\n",
    "import pandas as pd\n",
    "from bs4 import BeautifulSoup\n",
    "import time\n",
    "pd.set_option('display.max_rows', 500)\n",
    "#display(pd.options.display.)"
   ]
  },
  {
   "cell_type": "code",
   "execution_count": 37,
   "metadata": {},
   "outputs": [],
   "source": [
    "headers = {\n",
    "'Host': 'academic.oup.com',\n",
    "'Connection': 'keep-alive',\n",
    "'Cache-Control': 'max-age=0',\n",
    "'Upgrade-Insecure-Requests': '1',\n",
    "'DNT': '1',\n",
    "'User-Agent': 'Mozilla/5.0 (Macintosh; Intel Mac OS X 10_13_5) AppleWebKit/537.36 (KHTML, like Gecko) Chrome/67.0.3396.87 Safari/537.36',\n",
    "'Accept': 'text/html,application/xhtml+xml,application/xml;q=0.9,image/webp,image/apng,*/*;q=0.8',\n",
    "'Referer': 'http://localhost:8888/notebooks/Parser.ipynb',\n",
    "'Accept-Encoding': 'gzip, deflate, br',\n",
    "'Accept-Language': 'en-US,en;q=0.9',\n",
    "#'Cookie': 'Oxford_AcademicMachineID=636567559735400801; _ga=GA1.3.1653056694.1521159178; SaneID=75OQuDXjiiY-awZm3Sy; __gads=ID=18251e3c3f2021e5:T=1521159178:S=ALNI_MbulwuKwqC1zJr93qQz-ie5imB7gw; OUP_SessionId=bxi2ylx4tm0hajkv5kyarcgv; oup-cookie=1_19-6-2018; _gid=GA1.3.1065502396.1531264676; JSESSIONID=F83F3010CF54105AF4052BE3D886ADB5; NSC_OSO_TWD_THL_443=ffffffff09099b1b45525d5f4f58455e445a4a4229a0; _gat=1; __atuvc=0%7C24%2C5%7C25%2C0%7C26%2C11%7C27%2C8%7C28; __atuvs=5b4549ed21cc53f8005'\n",
    "}\n",
    "#cookie = \"Oxford_AcademicMachineID=636567559735400801; _ga=GA1.3.1653056694.1521159178; SaneID=75OQuDXjiiY-awZm3Sy; __gads=ID=18251e3c3f2021e5:T=1521159178:S=ALNI_MbulwuKwqC1zJr93qQz-ie5imB7gw; OUP_SessionId=bxi2ylx4tm0hajkv5kyarcgv; oup-cookie=1_19-6-2018; _gid=GA1.3.1065502396.1531264676; JSESSIONID=F83F3010CF54105AF4052BE3D886ADB5; NSC_OSO_TWD_THL_443=ffffffff09099b1b45525d5f4f58455e445a4a4229a0; _gat=1; __atuvc=0%7C24%2C5%7C25%2C0%7C26%2C11%7C27%2C8%7C28; __atuvs=5b4549ed21cc53f8005\"\n",
    "#headers = {\n",
    "#    'User-Agent': 'Mozilla/5.0 (Macintosh; Intel Mac OS X 10_13_5) AppleWebKit/537.36 (KHTML, like Gecko) Chrome/67.0.3396.87 Safari/537.36',\n",
    "#    'Cookie' : cookie}\n",
    "session = requests.session()\n"
   ]
  },
  {
   "cell_type": "code",
   "execution_count": 351,
   "metadata": {},
   "outputs": [],
   "source": [
    "#import urllib.request\n",
    "#d = urllib.request.urlopen(\"http://www.google.co.uk\")\n",
    "#d.getheader('Set-Cookie')"
   ]
  },
  {
   "cell_type": "code",
   "execution_count": 352,
   "metadata": {},
   "outputs": [],
   "source": [
    "def get_url_source_html(url):\n",
    "    response = session.get(url, headers=headers)\n",
    "    redirected_url = response.history[-1].url\n",
    "    print(redirected_url)\n",
    "\n",
    "    response = session.get(redirected_url, headers=headers)\n",
    "    return response.text"
   ]
  },
  {
   "cell_type": "code",
   "execution_count": 353,
   "metadata": {},
   "outputs": [],
   "source": [
    "def get_soup(myarticle):\n",
    "    return BeautifulSoup(myarticle, \"lxml\")\n",
    "\n",
    "def strip_hyperlinks(mysoup):\n",
    "    for a in mysoup.findAll('a'):\n",
    "        a.replaceWith(\" %s \" % a.string)\n",
    "    return(mysoup)\n",
    "\n",
    "def strip_references(mysoup):\n",
    "    for div in mysoup.find_all(\"div\", {'class':'ref-list'}): \n",
    "        div.decompose()\n",
    "    return(mysoup)\n",
    "\n",
    "def strip_copywrite(mysoup):\n",
    "    for div in mysoup.find_all(\"div\", {'class':'copyright copyright-statement'}): \n",
    "        div.decompose()\n",
    "    return(mysoup)\n",
    "\n",
    "def strip_tables(mysoup):\n",
    "    codetags = mysoup.find_all('table')\n",
    "    for codetag in codetags:\n",
    "       codetag.extract()\n",
    "    return(mysoup)\n",
    "\n",
    "def strip_rnt(mysoup):\n",
    "    return(mysoup.get_text().replace('\\r', ' ').replace('\\n', ' ').replace('\\t', ' '))\n",
    " \n",
    "def clean_article(mysoup):\n",
    "    #soup = get_soup(myarticle)\n",
    "    mysoup = strip_hyperlinks(mysoup)\n",
    "    mysoup = strip_references(mysoup)\n",
    "    mysoup = strip_copywrite(mysoup)\n",
    "    mysoup = strip_tables(mysoup)\n",
    "    soup_text = strip_rnt(mysoup)\n",
    "    return soup_text\n"
   ]
  },
  {
   "cell_type": "code",
   "execution_count": 354,
   "metadata": {},
   "outputs": [],
   "source": [
    "def parse_source_html(source_html):\n",
    "    soup = BeautifulSoup(source_html, \"html.parser\")\n",
    "\n",
    "    raw_html.append(soup.get_text())\n",
    "    \n",
    "    citation_date = soup.find(\"div\", {\"class\": \"citation-date\"}).text\n",
    "    citation_dates.append(citation_date)\n",
    "\n",
    "    citation = soup.find(attrs={'class': 'ww-citation-primary'}).text\n",
    "    citations.append(citation)\n",
    "\n",
    "    if get_year == 2001 or 2003: article_body = soup.find(\"div\", {\"class\": \"article-body\"})\n",
    "    if get_year == 2002: article_body = soup.find(\"div\", {\"data-widgetname\": \"ArticleFulltext\"})\n",
    "    articles.append(article_body)\n",
    "    \n",
    "    types.append(soup.find(attrs={'property': 'og:type'}).attrs['content'])\n",
    "    titles.append(soup.find(attrs={'property': 'og:title'}).attrs['content'])\n",
    "    descriptions.append(soup.find(attrs={'property': 'og:description'}).attrs['content'])\n",
    "    urls.append(soup.find(attrs={'property': 'og:url'}).attrs['content'])\n",
    "    updated_times.append(soup.find(attrs={'property': 'og:updated_time'}).attrs['content'])\n",
    "    site_names.append(soup.find(attrs={'property': 'og:site_name'}).attrs['content'])\n",
    "    \n",
    "\n",
    "    article = clean_article(article_body)\n",
    "    clean_articles.append(article + '\\n')\n",
    "    "
   ]
  },
  {
   "cell_type": "code",
   "execution_count": 355,
   "metadata": {},
   "outputs": [],
   "source": [
    "#url = 'https://doi.org/10.1093/geront/42.2.149'\n",
    "#url = 'https://academic.oup.com/gerontologist/article-lookup/doi/10.1093/geront/42.2.149'\n",
    "#print(url)\n",
    "#source_html = get_url_source_html(url)\n",
    "#soup = BeautifulSoup(source_html, \"html.parser\")\n",
    "#article_body = soup.find(\"div\", {\"class\": \"article-body\"})\n",
    "#article_body = soup.find(\"div\", {\"data-widgetname\": \"ArticleFulltext\"})\n",
    "#article = clean_article(article_body)\n",
    "#article"
   ]
  },
  {
   "cell_type": "code",
   "execution_count": 356,
   "metadata": {},
   "outputs": [
    {
     "name": "stdout",
     "output_type": "stream",
     "text": [
      "https://doi.org/10.1093/geront/43.2.158\n"
     ]
    },
    {
     "ename": "IndexError",
     "evalue": "list index out of range",
     "output_type": "error",
     "traceback": [
      "\u001b[0;31m---------------------------------------------------------------------------\u001b[0m",
      "\u001b[0;31mIndexError\u001b[0m                                Traceback (most recent call last)",
      "\u001b[0;32m<ipython-input-356-8b89f1666215>\u001b[0m in \u001b[0;36m<module>\u001b[0;34m()\u001b[0m\n\u001b[1;32m     40\u001b[0m     \u001b[0;31m#url = 'https://doi.org/10.1093/geront/42.2.149'\u001b[0m\u001b[0;34m\u001b[0m\u001b[0;34m\u001b[0m\u001b[0m\n\u001b[1;32m     41\u001b[0m     \u001b[0mprint\u001b[0m\u001b[0;34m(\u001b[0m\u001b[0murl\u001b[0m\u001b[0;34m)\u001b[0m\u001b[0;34m\u001b[0m\u001b[0m\n\u001b[0;32m---> 42\u001b[0;31m     \u001b[0msource_html\u001b[0m \u001b[0;34m=\u001b[0m \u001b[0mget_url_source_html\u001b[0m\u001b[0;34m(\u001b[0m\u001b[0murl\u001b[0m\u001b[0;34m)\u001b[0m\u001b[0;34m\u001b[0m\u001b[0m\n\u001b[0m\u001b[1;32m     43\u001b[0m     \u001b[0mparse_source_html\u001b[0m\u001b[0;34m(\u001b[0m\u001b[0msource_html\u001b[0m\u001b[0;34m)\u001b[0m\u001b[0;34m\u001b[0m\u001b[0m\n",
      "\u001b[0;32m<ipython-input-352-fec51bd4d9c8>\u001b[0m in \u001b[0;36mget_url_source_html\u001b[0;34m(url)\u001b[0m\n\u001b[1;32m      1\u001b[0m \u001b[0;32mdef\u001b[0m \u001b[0mget_url_source_html\u001b[0m\u001b[0;34m(\u001b[0m\u001b[0murl\u001b[0m\u001b[0;34m)\u001b[0m\u001b[0;34m:\u001b[0m\u001b[0;34m\u001b[0m\u001b[0m\n\u001b[1;32m      2\u001b[0m     \u001b[0mresponse\u001b[0m \u001b[0;34m=\u001b[0m \u001b[0msession\u001b[0m\u001b[0;34m.\u001b[0m\u001b[0mget\u001b[0m\u001b[0;34m(\u001b[0m\u001b[0murl\u001b[0m\u001b[0;34m,\u001b[0m \u001b[0mheaders\u001b[0m\u001b[0;34m=\u001b[0m\u001b[0mheaders\u001b[0m\u001b[0;34m)\u001b[0m\u001b[0;34m\u001b[0m\u001b[0m\n\u001b[0;32m----> 3\u001b[0;31m     \u001b[0mredirected_url\u001b[0m \u001b[0;34m=\u001b[0m \u001b[0mresponse\u001b[0m\u001b[0;34m.\u001b[0m\u001b[0mhistory\u001b[0m\u001b[0;34m[\u001b[0m\u001b[0;34m-\u001b[0m\u001b[0;36m1\u001b[0m\u001b[0;34m]\u001b[0m\u001b[0;34m.\u001b[0m\u001b[0murl\u001b[0m\u001b[0;34m\u001b[0m\u001b[0m\n\u001b[0m\u001b[1;32m      4\u001b[0m     \u001b[0mprint\u001b[0m\u001b[0;34m(\u001b[0m\u001b[0mredirected_url\u001b[0m\u001b[0;34m)\u001b[0m\u001b[0;34m\u001b[0m\u001b[0m\n\u001b[1;32m      5\u001b[0m \u001b[0;34m\u001b[0m\u001b[0m\n",
      "\u001b[0;31mIndexError\u001b[0m: list index out of range"
     ]
    }
   ],
   "source": [
    "test=True\n",
    "citations = []\n",
    "citation_dates = []\n",
    "articles = []\n",
    "clean_articles = []\n",
    "types = []\n",
    "titles = []\n",
    "descriptions = []\n",
    "urls = []\n",
    "updated_times = []\n",
    "site_names = []\n",
    "raw_html = []\n",
    "\n",
    "issueListFilename = \"2001-2008URLs.csv\"\n",
    "get_year = 2003\n",
    "count = 0\n",
    "\n",
    "def process_url(my_url):\n",
    "    global count\n",
    "    print(str(count) + \": \" + my_url)\n",
    "    source_html = get_url_source_html(my_url)\n",
    "    #time.sleep(5)\n",
    "    #print(source_html)\n",
    "    parse_source_html(source_html)\n",
    "    #time.sleep(10)\n",
    "    count += 1\n",
    "    \n",
    "     \n",
    "if test != True:\n",
    "    df = pd.read_csv(issueListFilename)\n",
    "    df = df[df.year == get_year] \n",
    "    print(len(df.index))\n",
    "    df.url.apply(lambda x: process_url(x))\n",
    "    \n",
    "else:\n",
    "    url = 'https://doi.org/10.1093/geront/43.2.158'\n",
    "    #url = 'https://doi.org/10.1093/geront/43.1.4'\n",
    "    #url = 'https://academic.oup.com/gerontologist/article-lookup/doi/10.1093/geront/43.1.4'\n",
    "    #url = 'https://doi.org/10.1093/geront/gnx189'\n",
    "    #url = 'https://doi.org/10.1093/geront/42.2.149'\n",
    "    print(url)\n",
    "    source_html = get_url_source_html(url)\n",
    "    parse_source_html(source_html)\n"
   ]
  },
  {
   "cell_type": "raw",
   "metadata": {},
   "source": [
    "    response = session.get(url, headers=headers)\n",
    "    \n",
    "    #redirected_url = response.history[-1].url\n",
    "    #print(redirected_url)\n",
    "\n",
    "    #response = session.get(redirected_url, headers=headers)\n",
    "    #return response.text"
   ]
  },
  {
   "cell_type": "code",
   "execution_count": 357,
   "metadata": {},
   "outputs": [
    {
     "data": {
      "text/plain": [
       "'https://academic.oup.com/gerontologist/article-lookup/doi/10.1093/geront/43.1.4'"
      ]
     },
     "execution_count": 357,
     "metadata": {},
     "output_type": "execute_result"
    }
   ],
   "source": [
    "response.history[-1].url"
   ]
  },
  {
   "cell_type": "code",
   "execution_count": 326,
   "metadata": {
    "scrolled": true
   },
   "outputs": [
    {
     "name": "stdout",
     "output_type": "stream",
     "text": [
      "<class 'pandas.core.frame.DataFrame'>\n",
      "RangeIndex: 1 entries, 0 to 0\n",
      "Data columns (total 11 columns):\n",
      "citation_date    1 non-null object\n",
      "citation         1 non-null object\n",
      "title            1 non-null object\n",
      "type             1 non-null object\n",
      "description      1 non-null object\n",
      "url              1 non-null object\n",
      "updated_time     1 non-null object\n",
      "site_name        1 non-null object\n",
      "article          1 non-null object\n",
      "clean_article    1 non-null object\n",
      "raw_html         1 non-null object\n",
      "dtypes: object(11)\n",
      "memory usage: 168.0+ bytes\n",
      "None\n"
     ]
    },
    {
     "data": {
      "text/html": [
       "<div>\n",
       "<style scoped>\n",
       "    .dataframe tbody tr th:only-of-type {\n",
       "        vertical-align: middle;\n",
       "    }\n",
       "\n",
       "    .dataframe tbody tr th {\n",
       "        vertical-align: top;\n",
       "    }\n",
       "\n",
       "    .dataframe thead th {\n",
       "        text-align: right;\n",
       "    }\n",
       "</style>\n",
       "<table border=\"1\" class=\"dataframe\">\n",
       "  <thead>\n",
       "    <tr style=\"text-align: right;\">\n",
       "      <th></th>\n",
       "      <th>citation_date</th>\n",
       "      <th>citation</th>\n",
       "      <th>title</th>\n",
       "      <th>type</th>\n",
       "      <th>description</th>\n",
       "      <th>url</th>\n",
       "      <th>updated_time</th>\n",
       "      <th>site_name</th>\n",
       "      <th>article</th>\n",
       "      <th>clean_article</th>\n",
       "      <th>raw_html</th>\n",
       "    </tr>\n",
       "  </thead>\n",
       "  <tbody>\n",
       "    <tr>\n",
       "      <th>0</th>\n",
       "      <td>01 February 2003</td>\n",
       "      <td>The Gerontologist, Volume 43, Issue 1, 1 Febru...</td>\n",
       "      <td>War on “Anti-Aging Medicine”    | The Gerontol...</td>\n",
       "      <td>article</td>\n",
       "      <td>Abstract.  Leading members of the gerontologic...</td>\n",
       "      <td>https://academic.oup.com/gerontologist/article...</td>\n",
       "      <td>2003-02-01</td>\n",
       "      <td>OUP Academic</td>\n",
       "      <td>&lt;div class=\"article-body\"&gt;\n",
       "&lt;div class=\"toolbar...</td>\n",
       "      <td>None     None     Article contents   Fig...</td>\n",
       "      <td>\\n\\n\\n\\n\\n\\n\\n\\n\\n\\n\\n\\n\\n\\n\\n\\n\\n\\n\\n\\n\\r\\n  ...</td>\n",
       "    </tr>\n",
       "  </tbody>\n",
       "</table>\n",
       "</div>"
      ],
      "text/plain": [
       "      citation_date                                           citation  \\\n",
       "0  01 February 2003  The Gerontologist, Volume 43, Issue 1, 1 Febru...   \n",
       "\n",
       "                                               title     type  \\\n",
       "0  War on “Anti-Aging Medicine”    | The Gerontol...  article   \n",
       "\n",
       "                                         description  \\\n",
       "0  Abstract.  Leading members of the gerontologic...   \n",
       "\n",
       "                                                 url updated_time  \\\n",
       "0  https://academic.oup.com/gerontologist/article...   2003-02-01   \n",
       "\n",
       "      site_name                                            article  \\\n",
       "0  OUP Academic  <div class=\"article-body\">\n",
       "<div class=\"toolbar...   \n",
       "\n",
       "                                       clean_article  \\\n",
       "0        None     None     Article contents   Fig...   \n",
       "\n",
       "                                            raw_html  \n",
       "0  \\n\\n\\n\\n\\n\\n\\n\\n\\n\\n\\n\\n\\n\\n\\n\\n\\n\\n\\n\\n\\r\\n  ...  "
      ]
     },
     "execution_count": 326,
     "metadata": {},
     "output_type": "execute_result"
    }
   ],
   "source": [
    "df = pd.DataFrame({'citation_date': citation_dates,\n",
    "                    'citation': citations,\n",
    "                    'title': titles,\n",
    "                    'type': types,\n",
    "                    'description': descriptions,\n",
    "                    'url': urls,\n",
    "                    'updated_time': updated_times,\n",
    "                    'site_name': site_names,\n",
    "                    'article': articles,\n",
    "                    'clean_article': clean_articles,\n",
    "                    'raw_html' : raw_html\n",
    "                    },columns = ['citation_date', 'citation', 'title', 'type', 'description', 'url', 'updated_time', 'site_name', 'article', 'clean_article', 'raw_html'])\n",
    "print(df.info())\n",
    "df.head(10)"
   ]
  },
  {
   "cell_type": "code",
   "execution_count": null,
   "metadata": {},
   "outputs": [],
   "source": []
  },
  {
   "cell_type": "code",
   "execution_count": null,
   "metadata": {},
   "outputs": [],
   "source": []
  },
  {
   "cell_type": "code",
   "execution_count": null,
   "metadata": {},
   "outputs": [],
   "source": [
    "\n"
   ]
  },
  {
   "cell_type": "code",
   "execution_count": 327,
   "metadata": {},
   "outputs": [
    {
     "name": "stdout",
     "output_type": "stream",
     "text": [
      "0 50766\n"
     ]
    },
    {
     "data": {
      "text/plain": [
       "0    None\n",
       "Name: clean_article, dtype: object"
      ]
     },
     "execution_count": 327,
     "metadata": {},
     "output_type": "execute_result"
    }
   ],
   "source": [
    "count = 0\n",
    "def my_print(my_x):\n",
    "    global count\n",
    "    print(count, len(my_x))\n",
    "    count += 1\n",
    "\n",
    "df[\"clean_article\"].apply(lambda x: my_print(x))"
   ]
  },
  {
   "cell_type": "code",
   "execution_count": 328,
   "metadata": {},
   "outputs": [
    {
     "data": {
      "text/plain": [
       "\"      None     None     Article contents   Figures & tables   Video   Audio   Supplementary Data      None      None   Citation Robert H. Binstock;  The War on “Anti-Aging Medicine”, The Gerontologist, Volume 43, Issue 1, 1 February 2003, Pages 4–14,  https://doi.org/10.1093/geront/43.1.4  Download citation file:   RIS (Zotero)   EndNote   BibTex   Medlars   ProCite   RefWorks   Reference Manager    © 2018 Oxford University Press  None          Permissions       None     Email   Twitter   Facebook            Navbar Search Filter   All     All  Journals   Mobile Microsite Search Term           None          Register             Close   search filter   All     All  Journals   search input      Advanced Search               Abstract Leading members of the gerontological community have recently launched a war on anti-aging medicine, seeking to discredit what they judge to be fraudulent and harmful products and therapies, and to distinguish their research from what they regard as the pseudoscience of the anti-aging movement. This article interprets the contemporary war on anti-aging medicine as largely an attempt by established gerontological researchers to preserve their hard-won scientific and political legitimacy, as well as to maintain and enhance funding for research on the basic biological mechanisms of aging. First, it recounts the difficult struggle of U.S. biogerontologists to join the scientific mainstream in terms of legitimization and public funding. Second, it examines how elements of a contemporary anti-aging movement seem to threaten the hard-won public legitimacy of established gerontological researchers and practitioners. Third, it looks at the “boundary work” responses of the gerontological community to the anti-aging movement. Finally, it assesses the consequences of the war on anti-aging medicine to date.   Anti-aging ,  Biology of aging ,  Gerontology ,  Research funding ,  Science policy For years biologists in the field of aging—“biogerontologists”—have been waging a war on “the Alzheimerization of aging” ( Adelman, 1995 , p. 526) as they have sought to have a greater share of public funding for gerontological research allocated to investigations regarding the fundamental biology of aging. They contend that the National Institute on Aging (NIA) invests a disproportionately large share of its resources in disease-oriented research, especially Alzheimer's research, while marginalizing basic biological research on aging both in terms of strategic planning and actual research funding. The consequence, biogerontologists argue, is that the sector of research that has the greatest promise for improving health in old age is being short changed, because the fundamental mechanisms of aging are the underlying and leading risk factors for virtually all age-associated diseases (see  Hayflick, 2002 ;  Miller, 2002 ).Now, biogerontologists, joined by some physicians and demographers, have opened up a second front, a war on “anti-aging medicine.” In the spring of 2002, three scientists who have undertaken research on aging for many years—S. Jay Olshansky, Leonard Hayflick, and Bruce A. Carnes—published an essay in Scientific American entitled “No Truth to the Fountain of Youth” ( Olshansky, Hayflick, & Carnes, 2002a ). They declare that: The hawking of anti-aging “therapies” has taken a particularly troubling turn of late. Disturbingly large numbers of entrepreneurs are luring gullible and frequently desperate customers of all ages to “longevity” clinics, claiming a scientific basis for the anti-aging products they recommend and, often, sell. At the same time, the Internet has enabled those who seek lucre from supposed anti-aging products to reach new consumers with ease. (p. 92)They go on to assert that “no currently marketed intervention—none—has yet been proved to slow, stop, or reverse human aging, and some can be downright dangerous” (pp. 92–93). They also present their interpretations of various lines of biological research relevant to the underlying nature of aging, and their promise, or lack of promise, for slowing the progression of aging.The Scientific American essay was a summary of a lengthier position statement, “The Truth About Human Aging,” that was posted a month earlier on the website of the magazine ( Olshansky, Hayflick, & Carnes, 2002d ), and was explicitly endorsed there by an international roster of 51 scientists and physicians that Olshansky, Hayflick, and Carnes had organized and worked with for about a year in order to achieve a text that was mutually acceptable to a group comprising a wide range of views (L. Hayflick, personal communication, July 22, 2002; S. J. Olshansky, personal communication, July 18, 2002). Shortly after the essay appeared, the full position statement, under a slightly different title ( Olshansky, Hayflick, & Carnes, 2002b ), was also posted online at the Science of Aging Knowledge Environment (SAGE KE), a subdivision of the website of the American Association for the Advancement of Science and the journal Science (the editor-in-chief of SAGE KE, George M. Martin, is one of the 51 signers of the statement). It was then reprinted in the biological sciences journal of The Gerontological Society of America ( Olshansky, Hayflick, & Carnes, 2002c ), and arrangements were also made to have it published (in translation) in Chinese, French, German, Korean, and Spanish journals (S. J. Olshansky, personal communication, July 18, 2002). The scientists' message also reached a very large audience when the AARP Bulletin, with a circulation of more than 30 million, made the Scientific American article the lead story in its next issue ( Pope, 2002 ).From a sociopolitical perspective, why did the position statement appear at this point in time? What does it reflect about the contemporary politics of gerontological science and public policy? After all, anti-aging interventions—measures intended to slow, arrest, and reverse phenomena associated with aging and to extend the human life span—have been part of human culture and societies for millennia. They have been embodied in myth at least as early as 3,000 B.C. ( Gruman, 1966 ), and perhaps date in practice from 2,500 years ago or earlier ( Olshansky & Carnes, 2001 ), with criticisms of such measures waxing and waning over the centuries (see  Gruman, 1966 ).At one level, the statement signed by the 51 scientists can be seen as a public health effort, an attempt to educate health professionals and the public regarding the harmful and misleading aspects of anti-aging interventions and claims. In this respect it joins other recent efforts of this kind. For instance, Robert N. Butler, who was the first director of NIA, convened a workshop that produced a consensus report entitled “Is There an ‘Anti-aging' Medicine?” ( International Longevity Center–USA, 2001 ) and is responsible for two subsequent journal articles with the same title ( Butler, 2001–2002 ;  Butler et al., 2002 ). The  U.S. Senate Special Committee on Aging (2001)  held a hearing focused on fraudulent marketing tactics for anti-aging medicines, entitled “Swindlers, Hucksters and Snake Oil Salesmen: The Hype and Hope of Marketing Anti-Aging Products To Seniors.” The  U.S. General Accounting Office (2001)  issued a report on the physical and economic harms wrought by anti-aging products. The editor-in-chief of Experimental Gerontology has written a similar denunciation of both anti-aging products and treatments ( Wick, 2002 ), and two geriatricians have published an editorial entitled “Antiaging Medicine: The Good, the Bad, and the Ugly” ( Fisher & Morley, 2002 ). NIA has produced an “Age Page” called “Life Extension: Science or Science Fiction?” in which it discredits “very much exaggerated” anti-aging claims for pills containing anti-oxidants, DNA, and RNA, as well as for dehydroepiandrostene (DHEA) and growth hormone ( NIA, 2002a ). And NIA's website promotes a free fact sheet on “‘anti-aging' miracle drugs” ( NIA, 2002b ) as part of “an education effort urging consumers to use caution when it comes to `anti-aging' hormone supplements” ( NIA, 1997 ).At another level, the position statement can be viewed as an attempt to provide its audience with an informed understanding of the potential and limitations of biological research for leading to future interventions in the processes of aging. A number of articles in professional and scientific journals have also done this during the past several years, with many of them very optimistic about substantial interventions (e.g.,  de Grey, Ames, et al., 2002 ;  Lane, Ingram, & Roth, 2002 ;  Miller, 2002 ) and some suggesting that such interventions are unlikely and undesirable (e.g.,  Hayflick, 2000 ). A more popularized examination of the possibilities for anti-aging interventions was presented by reporters in a special issue of Scientific American entitled “The Quest to Beat Aging” ( Fischetti & Stix, 2000 ), in which some of the 51 signers of the 2002 position statement were quoted as authorities.At still a third level, the position statement can be interpreted as an attempt by established gerontological researchers—including those who are optimistic about the future of anti-aging interventions—to preserve their scientific and political legitimacy, which took many years to achieve, as well as to maintain and enhance funding for research on the basic biological mechanisms of aging. As such, it is “boundary work” that parallels disputes in many other areas of science in which rhetorical demarcations are employed to maintain legitimacy and power ( Gieryn, 1983 ). As  Taylor (1996)  observes, “Practicing scientists, consciously or otherwise, discursively construct working definitions of science that function, for example, to exclude various non- or pseudo-sciences so as to sustain their (perhaps well-earned) position of epistemic authority and to maintain a variety of professional resources” (p. 5). Such is the case with biogerontology.This article focuses in considerable detail on this third level of interpretation, viewing the war on anti-aging medicine as boundary work. First, it summarizes the historical struggle of U.S. biologists conducting research on aging to achieve scientific legitimacy and public financial support for their efforts. Second, it examines how elements of a contemporary anti-aging movement seem to threaten the public legitimacy of established gerontological researchers and practitioners through both direct attacks and the superficial resemblance of this movement's goals to those of gerontologists. Third, this article looks at the responses of the gerontological community to the anti-aging medicine movement. And, finally, it undertakes an assessment of the war on anti-aging medicine as it has played out so far. The Struggle for Legitimacy and Funding In his monograph on the history of ideas about “prolongevity” (significant extension of the human life span and/or average life expectancy, without lengthening suffering and infirmity),  Gerald Gruman (1966)  observes that the subject tends to be relegated to a limbo reserved for impractical projects or eccentric whims not quite worthy of serious scientific or philosophic consideration. One reason for this neglect is that there is, in philosophy, science, and religion, a long tradition of apologism, the belief that the prolongation of life is neither possible nor desirable.... Another reason is the fact that there are few subjects which have been more misleading to the uncritical and more profitable to the unscrupulous; the exploitation of this topic by the sensational press and by medical quacks and charlatans is well known. (p. 6)Gruman's observations regarding prolongevity fit rather well the perceptions of biomedical research on aging held by many in the scientific community until recent decades. In her history of the development of federal support for research on aging, published 20 years ago, political scientist Betty  Lockett (1983)  observes, “Those who would study aging in order to retard or halt the process have been considered on the fringe of biomedical research, looking for the fountain of youth... a marginal area... with so little backing from the scientific community” (p. 5). As a consequence, even for biologists focused on understanding the basic mechanisms of aging, the history of biomedical research on aging is a story of a struggle for legitimacy and funding. The present effort of gerontologists to downplay “the fountain of youth” can be best understood in this context.As  Achenbaum (1995) ,  Hayflick (1994) , and  Lockett (1983)  detail, the early development of the modern research enterprise in the biology of aging (and geriatrics) in the United States was to a significant degree stimulated by the Josiah Macy Foundation. During the late 1930s, the Macy Foundation supported surveys on aging and commissioned a seminal volume on Problems of Ageing: Biological and Medical Aspects ( Cowdry, 1939 ) that reviewed research knowledge and issues regarding how to prolong human life and how to reduce disabilities and chronic diseases in old age. The Macy Foundation also funded a series of professional conferences that brought together researchers from a variety of disciplines and professions who formed a Club for Research on Ageing. In 1940, the surgeon general of the United States, who had attended a meeting of the Club, took the lead in establishing a small National Institutes of Health (NIH) research program in gerontology housed at the Baltimore City Hospital and Almshouse. Through a cooperative agreement, the hospital would provide laboratory and office space, as well as access to patients and the elderly men who were residents of the almshouse, and NIH would fund staff, equipment, and supplies (with all financing coming from the Macy Foundation the first year).Over the next three decades the broad field of gerontology grew, but the development of the biomedical research enterprise in gerontology stagnated. To be sure, in 1945, the two dozen members of the Club for Research on Ageing incorporated themselves as a professional association, the Gerontological Society, to (among other purposes) “promote the scientific study of aging” ( Adler, 1958 , p. 94). The new organization (known since 1980 as The Gerontological Society of America [GSA]) began publishing a Journal of Gerontology and grew 100-fold over the next 25 years to comprise nearly 2,400 members (C. A. Schutz, executive director, GSA, personal communication based on organization records, June 19, 2002) from a wide variety of academic disciplines and professions. However, the NIH Baltimore intramural program barely got off the ground during World War II as it was diverted by research devoted to the war effort. In 1948, the program was designated as the Gerontology Branch of the National Heart Institute, was given a line-item budget, and conducted physiological research on elderly men. This work eventually blossomed into the Baltimore Longitudinal Study that became the prime element of NIH intramural research on aging ( Achenbaum, 1995 ). But NIH administrative support and funding for the growth of extramural biomedical research explicitly focused on aging from the 1940s through the early 1970s was quite limited.Although an NIH Gerontological Study Section for reviewing extramural research applications was created in 1946, and was among the first such study sections established ( Current Comments, 1947 ), it was abolished in 1949 by the chief of the NIH Research Grants Office.  Lockett's (1983)  documentary research and interviews reveal that even though the Gerontological Study Section approved a percentage of applications that was average for all study sections, it was perceived by some NIH officials as too favorably biased toward applications because a large proportion of the few researchers in the field of aging were members of the study section and were reviewing their own proposals. Ironically, according to Dr. Nathan Shock, head of the Baltimore intramural research program and a member of the study section, the community of gerontological researchers had fought for the establishment of the Gerontological Study Section because they thought that there was a bias against them—“they felt that other study sections automatically turned down proposals that had the word ‘aging’ in them” (Shock, as quoted in  Lockett, 1983 , p. 36). In any event, gerontological applications were subsequently reviewed by other study sections that, according to one NIH staff member, “downgraded gerontology research,” and the percentage of approvals “went from one extreme to another” ( Lockett, 1983 , p. 37).During the 1950s and 1960s, extramural research on aging gained little ground at NIH. A Center for Aging Research was established in 1956 to foster research in the field, but it was essentially a “paper organization” created to mollify several members of Congress who were interested in the development of gerontological research, and thereby head off the possibility of designated funding for research on aging that would threaten the turf of NIH disease-oriented research programs ( Lockett, 1983 , pp. 37–40). During this period, and in response to these same pressures from Congress, five regional multidisciplinary centers for aging research and training were funded through NIH's program project mechanism. Only one of these centers (at Duke University) ultimately survived, and an internal NIH evaluation of the work of these centers was pointedly uncomplimentary concerning the quality of gerontological research: “One conclusion to be drawn from the history of the old Centers on Aging is that high mission motivation on the part of NIH and sometimes universities coupled with mediocre scientific competence does not lead to strong centers” (quoted in  Lockett, 1983 , p. 41). Meantime, a Senate Subcommittee on Problems of the Aging and Aged issued a report “disparaging the quality of gerontologic research” ( Achenbaum, 1995 , p. 200).When the National Institute of Child Health and Human Development (NICHD) was established in 1963, aging was designated as one of its five program areas and existing NIH programs on aging became part of NICHD's Adult Development and Aging Branch. Although the branch had an external peer-review committee comprising a multidisciplinary roster of gerontological researchers, it only reviewed applications for program projects and training and career development grants, not research grants. Over the next 10 years, gerontologists expressed their disappointment with the NICHD arrangement, especially the low proportion of that institute's funds earmarked for research on aging (see  Eisdorfer, 1968 ;  U.S. Senate Subcommittee on Aging of the Committee on Labor and Public Welfare, 1973 ).By the late 1960s, frustrated by NIH's lack of funding for research on the basic mechanisms of aging, biogerontologists set in motion the forces that ultimately led to the establishment of a separate National Institute on Aging in order to ensure that earmarked funds for gerontological research would be adequate. They drafted a bill in 1968 that called for a new NIH Institute with a 5-year research plan “to promote intensive coordinated research on the biological origins of aging” ( Lockett, 1983 , p. 85). In order to gain the support of the Gerontological Society, however, the bill was subsequently broadened to include the medical, behavioral, and social sciences (see Appendix Note).During the subsequent political processes that finally led to the establishment of NIA in 1974, themes suggesting the marginal status of biogerontology persistently emerged. For one thing, the key political actor in the successful lobbying effort, Florence Mahoney, was an ardent pursuer of anti-aging interventions. Mahoney was a powerful Washington “insider” with politically elite connections, a longtime, behind-the-scenes, effective advocate for expanded government support for biomedical research. She was very interested in rejuvenation therapies offered by an institute in Bucharest, Romania, and accustomed to taking serum treatments that were purported to slow or prevent aging. As noted in her biography, Mahoney's “accuracy in separating real science from charletan [sic] science was not precise; she occasionally backed a rejuvenation expert who had mastered promotion and mystique” ( Robinson, 2001 , p. 237). At the point when biogerontologists attempted to persuade her to make legislation for a separate institute her prime objective, she was more than happy to do so. Her receptiveness to their cause was not only nourished by her personal interest in anti-aging interventions, but also by her experience as a citizen member of the NICHD Advisory Council from 1963–1967 where she felt that gerontological research was short-changed. Regarding her NICHD experience, Mahoney observed: Every time a grant came up about aging, it was turned down … Everyone said aging came naturally. I never believed the effects of old age were irreversible …I kept telling them not to discourage those grants, or they would have to have another institute. (quoted in  Robinson, 2001 , pp. 237–238)Throughout the protracted legislative history of NIA's establishment, from 1969 through 1974, various opponents of such an institute were quite candid regarding their negative view of the quality and promise of gerontological research. At a Senate hearing in 1971, for instance, an assistant secretary in the Department of Health, Education, and Welfare argued that the field of aging was not ripe for the injection of major new resources because it lacked “a substantial body of interested and competent research investigators, plus enough research leads, or promising ideas within the field to challenge the researchers to productive endeavors” (quoted in  Lockett, 1983 , p. 98). Similarly, in a House of Representatives hearing in 1972, the president of the Association of American Medical Colleges asserted that “there is a paucity of trained researchers and valid ideas in the field of aging research” (quoted in  Lockett, 1983 , p. 122). And when one version of the bill passed in 1972, a memo from the Office of Management and Budget to President Nixon urged him to veto it—which he ultimately did—because a separate institute on aging “could raise false expectations that the aging process can somehow be controlled and managed through biomedical research” (quoted in  Lockett, 1983 , p. 139).Despite Nixon's veto—and consistent opposition from high-level NIH officials who apparently did not want to have a new institute carving out its own share of NIH appropriations (e.g., see  Lockett, 1983 ;  U.S. Senate Subcommittee on Aging of the Committee on Labor and Public Welfare, 1973 )—Mahoney, the gerontologists, and several key members of Congress persisted in their efforts. In 1974, in the midst of calls for his impeachment, Nixon signed the legislation creating NIA ( Research on Aging Act, 1974 ).The establishment of NIA provided for biogerontology the kind of institutionalization that confers scientific stature and power (see  Cozzens, 1990 ). It began a process that legitimated research on aging both as more of a “mainstream” subject for biomedical research than the broader scientific community had regarded it, and as an appropriate area in which to invest sizable amounts of public funds. Since NIA began operation, a number of important scientific frontiers have been opened up in research on the fundamental biological process of aging (see, e.g.,  Cristofalo & Adelman, 2002 ;  Masoro & Austad, 2001 ). Moreover, the NIA budget, which was only about $20 million in its first year of operation ( Lockett, 1983 ), has grown rapidly over the years to reach just under $1 billion by fiscal year 2003 ( NIA, 2002c ). The Anti-Aging Medicine Movement vs. the “Gerontological Establishment” Even as biomedical research on aging achieved scientific and political legitimacy in the late 20th century, however, a new challenge to its reputation was developing in the form of an “anti-aging medicine” movement in the 1990s. Perhaps historian  Carole Haber (2001–2002)  is correct in suggesting that the contemporary emergence of this movement lies in the appeal of its promises to aging baby boomers who grew up in a youth-oriented cultural period, recent scientific discoveries that seemingly (though not necessarily) have potential relevance to slowing the rate of aging in humans, and concerns about negative economic consequences for society associated with the baby boom cohort reaching old age. In any event, the use of anti-aging products, particularly dietary supplements, soared following the enactment of the Dietary Supplement Health and Education Act of 1994, which relaxed regulation of such products ( U.S. General Accounting Office, 2001 ). During the same period, several dozen anti-aging books were published (e.g.,  Carper, 1996 ;  Chopra, 2001 ;  Fossel, 1996 ;  Pierpaoli, Regelson, & Colman, 1995 ;  Shostak, 2002 ). A refereed scientific journal, the Journal of Anti-Aging Medicine, began publishing in 1998 and now has a circulation of about 1,000, comprising biomedical researchers and clinicians from a variety of disciplines and specialties (V. Cohn, Mary Ann Liebert, Inc., which publishes the Journal of Anti-Aging Medicine, personal communication, July 17, 2002). Two non-refereed publications with similar sounding names, Journal of Longevity and The International Journal of Anti-Aging Medicine, have also appeared ( de Grey, Gavrilov, et al., 2002 ). And websites like “Youngevity: The Anti-Aging Company” market products such as “The Vilcabamba Mineral Essence” to enable people to “live their lives in a state of youthfulness” ( Youngevity, 2002 ).The element of the anti-aging movement that has most directly challenged the established gerontological community, however, is the American Academy of Anti-Aging Medicine (A4M), which proclaims that “anti-aging medicine is ushering in the Ageless Society” ( A4M, 2002h , p. 8). Founded in 1993 by “pioneering anti-aging physicians and practitioners” ( Klatz, 1999 , p. 4), A4M claims that it now has “11,000 member physicians, health practitioners, and scientists representing 65 countries, [and] is the undisputed leader in advancing anti-aging medicine around the world” ( A4M, 2002g ). Although the organization is not recognized by the American Medical Association, A4M has established three board-certification programs under its auspices—for physicians, chiropractors, dentists, naturopaths, podiatrists, pharmacists, registered nurses, nurse practitioners, nutritionists, dieticians, sports trainers and fitness consultants, and PhDs ( A4M, 2002d ). According to  A4M (2002c) , it has organized more than two dozen international conferences on anti-aging medicine, and has “conducted educational meetings on Capitol Hill for the purpose of informing key legislators about the necessity of funding anti-aging research into clinical anti-aging therapies.” In addition, the organization publishes a quarterly magazine entitled Anti-Aging Medical News.The president and the chairman of this organization, Ronald Klatz and Robert Goldman, respectively, are Chicago-based osteopaths. In the 1980s, they published books on the subject of drugs and training regimes intended to enhance performance in sports ( Goldman, Bush, & Klatz, 1984 ;  Goldman & Klatz, 1988 ). But since the inception of A4M, they have turned to a different subject matter, publishing more than a half dozen books with such titles as 7 Anti-Aging Secrets ( Goldman & Klatz, 1996 ), Stopping the Clock: Why Many of Us Will Live Past 100 and Enjoy Every Minute ( Klatz & Goldman, 1996 ), and Grow Young with HGH: The Amazing Medically Proven Plan to Reverse Aging ( Klatz & Kahn, 1998 ). The cover of one of  Klatz's (1999)  books, Ten Weeks to a Younger You, promises “age reversing benefits of the youth hormones” such as “enhance IQ,” “eliminate wrinkles,” “increase memory,” and “enhance sexual performance.”A4M states that it does not sell or endorse any commercial product or promote or endorse any specific treatment. But, “prompted by the numerous inquires received each day” ( A4M, 2002e ), it actively solicits and displays numerous advertisements on its website for products and services (such as cosmetics and alternative medicines and therapies), anti-aging clinics, and anti-aging physicians and practitioners (some of them listing board certification by A4M). The website also has an “A4M Longevity Store” where one can purchase anti-aging medicine publications and individual and organizational A4M memberships.Although what A4M terms “the traditional, antiquated gerontological establishment” ( Arumainathan, 2001 ) may disagree with many of the organization's messages and the measures it promotes, most elements of A4M's broadly stated goals seem, on the surface, to be the same as those of many biomedical researchers and practitioners in gerontology and geriatrics (see  Klatz, 2001–2002 ). The stated mission of  A4M (2002a)  is the advancement of technology to detect, prevent, and treat aging related disease and to promote research into methods to retard and optimize the human aging process. A4M is also dedicated to educating physicians, scientists, and members of the public on anti-aging issues. A4M believes that the disabilities associated with normal aging are caused by physiological dysfunction which in many cases are ameliorable [sic] to medical treatment, such that the human life span can be increased, and the quality of one's life improved as one grows chronologically older.A4M seeks to disseminate information concerning innovative science and research as well as treatment modalities designed to prolong the human life span. Anti-aging medicine is based on the scientific principles of responsible medical care consistent with those of other healthcare specialties.(A4M's use of the term life span in this and in other statements in which it describes historical improvements in longevity seems to refer to what is customarily termed life expectancy, rather than life span defined as “the maximum amount of time that a member of a species is known to have lived”;  Hayflick, 2002 , p. 417).To be sure, most, if not all, biogerontologists would probably quarrel with A4M's notion that at present human life expectancy for adults can be significantly “increased” or “prolonged” (see  Olshansky et al., 2002d ). But many of them believe that in the future, on the basis of further research, average life expectancy and maximum life span can be substantially extended through biomedical interventions (see, e.g.,  de Grey, Ames, et al., 2002 ;  Holden, 2002 ;  Lane et al., 2002 ;  Miller, 2002 ).Although there is a superficial resemblance between the broad goals of A4M and those of the established community of gerontologists and geriatricians, the organization presents anti-aging medicine as a “new health care paradigm” ( A4M, 2002b ). Moreover, it actively promotes itself as a challenger to the established gerontological community. For instance, A4M has produced a document entitled “Intellectual Dishonesty in Geriatric Medicine—Truth Versus Fallacy,” in which it berates NIA for its public information campaign regarding anti-aging therapies, characterizing it as anticompetitive censorship: As the worldwide popularity of anti-aging medicine grows, the NIA has scrambled to brand their own flavor of anti-aging medicine as “successful aging,” healthy aging,” and “aging gracefully.” The only perceptible difference between these terms seems to be that the latter phrases are somehow politically correct, mirror-image clones of anti-aging as put forth by A4M's trailblazing work in this field … NIA wishes to absorb what it cannot contain: by discrediting “anti-aging medicine” in lieu of its notion of “healthy aging” they silence the most visible outside source of innovations in aging research and education. The status quo of research funding, academic interests, and—most importantly to NIA—the consolidation of power—is thereby maintained. ( Arumainathan, 2001 )NIA has not responded to this diatribe. Indeed, publicly, NIA has appeared to ignore A4M altogether. Although NIA lists and describes more than 250 organizations that may be helpful resources for older people, A4M is not among them ( NIA, 2002d ). Individuals in the field of gerontology, however, have certainly responded to the marketing of anti-aging products and therapies by A4M and others. Maintaining Legitimacy: Responses From Gerontologists The active promotion of anti-aging medicine and the superficial resemblance between its broad goals and those of established biological and medical researchers in the field of aging, have clearly led members of the latter group to become worried about being confused with the former. The Scientific American position statement signed by 51 scientists ( Olshansky et al., 2002b ) was the most publicized but not the only effort to distance the field of gerontological science from anti-aging medicine. Although different types of strategies have been employed in these efforts, one common goal has been to ensure that the hard-won respectability attained by the community of gerontological researchers not be tainted by the anti-aging movement. As the position statement acknowledges, “Our concern is that when proponents of antiaging medicine claim that the fountain of youth has already been discovered, it negatively affects the credibility of serious scientific research efforts on aging” ( Olshansky et al., 2002c , p. B295).One approach to maintaining the legitimacy of research on aging has been to invent new terminology to describe its possible benefits. As some gerontological researchers put it in a letter to Science, “Misuse of the term ‘anti-aging medicine’ has led many scientists … to shy away from using the term at all, for fear of guilt by association” ( de Grey, Garrilov, et al., 2002 ). Butler argues that in order to ensure that research on aging does not lose credibility and funding, “we should rename the field of aging medicine ‘longevity medicine,’ to differentiate it from anti-aging practitioners and their nostrums” ( Butler, 2001–2002 , p. 64). Similarly, in a workshop convened by Butler, participants selected “Longevity Science and Medicine” as an alternative term to “anti-aging [which] has acquired a tarnished image” ( International Longevity Center–USA, 2001 , p. 12). It is not evident, however, why it is desirable or necessary to invent a new term. “Anti-aging” therapies and products have been around for a long time without any indication that they are confused with “research on aging” (or “aging research” or “geriatric medicine”). Moreover, many who conduct biomedical research on aging are not undertaking longevity research.A second approach has been to discredit the anti-aging medicine movement by disparaging it for making a “quick profit” by fraudulently “exploiting the ignorance and gullibility of the public” ( Hayflick, 2001–2002 , p. 25). To this end, Olshansky, Hayflick, and Carnes (L. Hayflick, personal communication, July 22, 2002; S. J. Olshansky, personal communication, July 18, 2002) have constituted themselves as a committee to designate annual “Silver Fleece Awards” (emulating the practice of former U.S. Senator William Proxmire who periodically announced “Golden Fleece Awards” to designate government funding for research projects that he regarded as devoid of any redeeming value to society). In early 2002, Olshansky arranged for his university's office of public affairs to publicize that he was announcing the first annual Silver Fleece Awards in “a lighthearted attempt to make the public aware of the anti-aging quackery that has become so widespread here and abroad” and presenting to the winners (in absentia) bottles of salad oil, labeled “Snake Oil” ( University of Illinois at Chicago, 2002 ). The Silver Fleece Award for “Anti-Aging-Quackery” went to Clustered Water™ for being the product “with the most ridiculous, outrageous, scientifically unsupported or exaggerated assertions about aging or age-related diseases.” The Silver Fleece Award for an Anti-Aging Organization went to A4M which Olshansky characterized “as responsible for leading the lay public and some in the medical and scientific community to the mistaken belief that technologies already exist that stop or reverse human aging” ( University of Illinois at Chicago, 2002 ).A third and more subtle approach has been to mobilize the adjective “legitimate” to modify research on aging and thereby distinguish it from anti-aging medicine. Thus, in an article reporting an increase in funding for NIA, the newsletter of Butler's organization exhorts, “It is essential in the years ahead, however, that our nation continue to maintain a strong financial commitment to legitimate research in the field of aging and longevity … Legitimate aging research is particularly important due to the prevalence of ‘anti-aging therapies' being peddled in the marketplace that are not based on any scientific evidence and could possibly be dangerous” ( Nyberg, 2002 , p. 1, emphasis added). The position statement signed by the 51 scientists also presents this contrast: “The misleading marketing and the public acceptance of antiaging medicine is not only a waste of health dollars; it has also made it far more difficult to inform the public about legitimate scientific research on aging and disease” ( Olshansky et al., 2002c , p. B293, emphasis added).Not surprisingly, the various attacks on anti-aging medicine have engendered very strong ripostes from A4M. Although some of the responses have been personal, they have been primarily aimed at discrediting gerontology for the purpose of legitimizing anti-aging medicine. In rejoinder to the press release announcing its receipt of the Silver Fleece Award, A4M characterized Olshansky as “part of a ‘multi-billion-dollar gerontological machine’ that, without any basis in truth or fact, seeks to discredit tens of thousands of innovative, honest, world-class scientists, physicians, and health practitioners” ( A4M, 2002f , p. 1). In response to the Scientific American position statement signed by 51 scientists, A4M set forth ten alleged “gerontological biases” and purported to refute each of them by describing various articles and data (often in a misleading pseudoscientific fashion). In conclusion,  A4M (2002g)  asserted: Simply put, the death cult of gerontology desperately labors to sustain an arcane, outmoded stance that aging is natural and inevitable …. Ultimately, the truth on aging intervention will prevail, but this truth will be scarred from the well-funded propaganda campaign of the power elite who depend on an uninterrupted status quo in the concept of aging in order to maintain its unilateral control over the funding of today's research in aging. (p. 6)(It is interesting to note that this attack on the establishment of gerontologists is directed at the very people who could further A4M's purported mission, anti-aging, through their research discoveries.)Olshansky dismisses these retorts as “more humorous than anything” and observes that the “conspiracy theory” they express “should be transparent to anyone knowledgeable about the science of aging” (S. J. Olshansky, personal communication, July 18, 2002). Moreover, these A4M statements only appear on the organization's website and, therefore, may fairly be estimated to have a negligible impact on the broader public's perceptions of the gerontological community. An Assessment Few, if any, in the gerontological community would quarrel with the goals of those gerontologists who have recently focused their attention on the anti-aging movement. One goal has been to disseminate a public health message to “scientists and health care workers because they should be on the front warning the public about the possible dangers associated with the use of anti-aging substances” (S. J. Olshansky, personal communication, July 18, 2002). This effort is a commendable complement to the public health messages disseminated by NIA, the U.S. Senate Special Committee on Aging, and the U.S. General Accounting Office (described above).Another goal, clearly—and more important in its ramifications for the gerontological community (and ultimately, perhaps, for society)—is to preclude the anti-aging movement from stigmatizing research on aging, once again, with the charlatanic baggage that biogerontological research carried until the establishment of NIA ushered it into the mainstream of science in the last quarter of the 20th century. As Butler observes, “Unfortunately, anti-aging medicine is often confused with serious research. Consequently, public and private philanthropic organizations are less interested in funding serious aging research…” ( Butler, 2001–2002 , p. 64). It is certainly ironic that the field for which the major stride toward legitimacy and funding was largely achieved through the political influence of Florence Mahoney—a woman responsive to the marketing of anti-aging charlatans—is now understandably trying to distinguish itself from what it regards as pseudoscientific entrepreneurs and practitioners.Will the war on anti-aging medicine succeed in preventing erosion of the scientific and political legitimacy of research on aging and funds for conducting it? Or will it boomerang as gerontologists become engaged with the anti-aging movement much like Brer Rabbit became inextricably embroiled with Tar Baby in the Uncle Remus tale (see  Johnson, 1997 )?Olshansky, Hayflick, and Carnes have been well aware of the possibility that their criticisms of the anti-aging movement might provide it with what they would regard as undue recognition and standing. They initially submitted their position statement to the Journal of the American Medical Association, and the journal said they would consider publishing it if a companion piece written by a proponent of anti-aging medicine could be considered to appear alongside it. The gerontologists declined the offer because they “did not want to legitimize” the anti-aging movement (L. Hayflick, personal communication, July 22, 2002).Nonetheless, from evidence available in the short run, it is possible to argue that efforts to criticize the anti-aging movement have provided it with greater visibility. When the AARP Bulletin published its lead story on the Scientific American position statement, the president of A4M, Ronald Klatz, was enabled to reach a readership of more than 30 million people, gaining attention for his organization and issuing a strong indictment of gerontologists. A4M was described at some length in the article, and Klatz was quoted as saying: “The A4M is the first serious affront to the gerontological establishment in 30 years and they want to kill anyone with a competing philosophy…. The old-line philosophy was aging is inevitable, nothing can be done, get used to it, grow old and die” ( Pope, 2002 ).To be sure, the publication of quotes from Klatz and the description of A4M in the AARP Bulletin was not the first recognition that A4M and Klatz had received from long-established organizations in the field of aging. In 1997, A4M received a grant from the Retirement Research Foundation to expand its “educational program and to establish the American Board of Anti-Aging Medicine” ( Donors Forum of Chicago—Philanthropic Database, 2002 ). In early 2002, Generations, the journal of the American Society on Aging, published an issue on the topic of anti-aging ( Cole & Thompson, 2001–2002 ); in it,  Klatz (2001–2002)  was provided the same platform to spread his message as was provided to  Butler (2001–2002)  and  Hayflick (2001–2002) , two of the most distinguished and senior figures in the field of gerontology. Moreover, the very fact that the author of the AARP Bulletin story ( Pope, 2002 ) felt that it was appropriate to get several quotes from Klatz and display his photo in a sidebar—even though neither he nor A4M were mentioned in the Scientific American article or position statement—was an indication that his organization had already attained some measure of legitimacy in the larger society. But the new exposure that Klatz received through AARP's publication of his quotes was surely a major escalation in recognition for A4M because of the bulletin's huge circulation. One wonders how many AARP members who learned about A4M by reading this story subsequently attempted to access the A4M website to pursue an interest in anti-aging products and therapies.In addition to providing some limelight for A4M, the war on anti-aging medicine might also have the unintended consequence of blurring public understanding of the difference between the anti-aging movement and the anti-aging aspirations of some biogerontological researchers that could eventually lead to significant improvements of health conditions in old age. Consider that among highly respected biogerontologists, including three who signed the position statement attached to the “No Truth to the Fountain of Youth” article in Scientific American, there are those who maintain that substantive progress toward “engineered negligible senescence,” or aging reversal, will be feasible “within about a decade” and urge investment in its development ( de Grey, Ames, et al., 2002 ). One wonders if public (and thereby) financial support for researchers in this camp, as well as those who have somewhat less ambitious goals for modifying aging (e.g.,  Lane et al., 2002 ;  Masoro, 2001 ;  Miller, 2002 ), will be inadvertently weakened by confusion with the objects of attacks on anti-aging medicine. After all, a highly visible sidebar in the AARP Bulletin quotes Olshansky (somewhat out of context) as saying, “Anyone who claims that they can stop or reverse the aging process is lying” ( Pope, 2002 , p. 4). (In the text of the article Olshansky qualified this statement by adding, “It is not currently possible” [ Pope, 2002 , p. 3, emphasis added]; moreover, he is hopeful that future research will “produce a method of slowing the rate of aging in humans” [S. J. Olshansky, personal communication, July 18, 2002].)Yet, regardless of any unintended consequences, it was inevitable that gerontologists would launch a war on the pseudoscientific elements of the contemporary anti-aging movement sooner or later. For one thing, the gerontological community has an ethical responsibility to do so. As Olshansky (personal communication, July 18, 2002) says: The anti-aging entrepreneurs are taking advantage of the legitimate scientists by taking our research, extending and exaggerating our findings well beyond our own views, and then selling their false anti-aging potions to the public with the claims that there is science behind them. By ignoring them, we're indirectly supporting them, and that had to stop.More importantly, as indicated by the early history of U.S. biogerontology, it is probably essential for biogerontologists to debunk anti-aging products and therapies so that the image of research on aging will not become blemished once more. Hayflick (personal communication, July 22, 2002) expresses the situation in an extremely cogent fashion: “After some 25 years of legitimizing the field of biogerontology, it is our responsibility to maintain that legitimacy so that public support for research that advances understanding of the fundamental biology of aging and longevity determination will be sustained and enhanced.”Waging war on the anti-aging movement, however, may not be sufficient by itself as a long-term strategy for maintaining and promoting greater funding for biogerontological research. In addition to asserting that there is “no truth to the fountain of youth,” perhaps it would be wise to invest as much or greater effort in delivering an additional message. Biogerontologists should highlight for the public and decision makers the potential health benefits to be realized from research on the fundamental processes of aging in the decades ahead, such as “active longevity free from disability and functional dependence” ( Hayflick, 2000 , p. 269; also see  Miller, 2002 ). In the context of today's concerns about the enormous future societal economic costs of acute and chronic health care for an aged baby boom cohort, the prospect of healthy and independent longevity might be rather appealing to politicians who are both responsible for the Medicare and Medicaid programs, and for appropriating research funds to NIA. Moreover, this prospect is appealing for all of us. Appendix NoteDespite the fact that the initial impetus for a separate institute was the long-standing frustration of the biogerontologists regarding grant support for their research, political necessity ultimately dictated that they subscribe to a broad vision of the field. The initial bill to establish an institute on aging, principally drafted by Bernard Strehler, a biologist from the University of Southern California, called for a 5-year research plan intensively focused “on the biological origins of aging” ( Lockett, 1983 , p. 5). When he took it to the 1968 meeting of the Gerontological Society (GS) to receive the organization's formal endorsement, he found that the GS president (Bernice L. Neugarten) and the chair of the public policy committee (the author of this article) said that the bill could only be endorsed by the organization if it were broadened to include the medical, behavioral, and social sciences. When Strehler acquiesced to this in principle, the GS public policy committee proceeded to revise the bill so that the new institute would have a charge that encompassed the full umbrella of research disciplines engaged in the field of gerontology. This approach was in the final bill legislated some years later. As a consequence, issues regarding NIA's priorities for funding among different sectors of research on aging have been an ongoing concern of biogerontologists (e.g., see  Adelman, 1995 ), and other disciplines in the field (e.g., see  Estes & Binney, 1989 ).Decision Editor: Linda S. Noelker, PhDSupport for the preparation of this article was provided by the National Institute on Aging (NIA) and the National Human Genome Research Institute (NHGRI), Grant 1R01AGHG20916-01, Eric T. Juengst, PhD, Principal Investigator, and by the John Templeton Foundation (JTF). The opinions expressed are solely those of the author and do not reflect those of NIA, NHGRI, or JTF. References             Issue Section:  Forum         Download all figures             \\n\""
      ]
     },
     "execution_count": 328,
     "metadata": {},
     "output_type": "execute_result"
    }
   ],
   "source": [
    "df[\"clean_article\"][0]"
   ]
  },
  {
   "cell_type": "code",
   "execution_count": null,
   "metadata": {},
   "outputs": [],
   "source": [
    "\n"
   ]
  },
  {
   "cell_type": "code",
   "execution_count": 159,
   "metadata": {},
   "outputs": [
    {
     "name": "stdout",
     "output_type": "stream",
     "text": [
      "Initial set:  1\n",
      "Remove set: 0\n",
      "[]\n",
      "After removal:  1\n"
     ]
    }
   ],
   "source": [
    "count = 0\n",
    "remove_indices = []\n",
    "def get_short_long_articles(my_x):\n",
    "    global remove_indices, count\n",
    "    if len(my_x) < 5000 or len(my_x) > 1000000:\n",
    "        remove_indices.append(count)\n",
    "    count += 1\n",
    "\n",
    "df[\"clean_article\"].apply(lambda x: get_short_long_articles(x))\n",
    "\n",
    "print(\"Initial set: \", len(df))\n",
    "print(\"Remove set: \" + str(len(remove_indices)))\n",
    "print(remove_indices)\n",
    "\n",
    "df_reduced = df.drop(remove_indices)\n",
    "\n",
    "print(\"After removal: \", len(df_reduced))"
   ]
  },
  {
   "cell_type": "code",
   "execution_count": 160,
   "metadata": {},
   "outputs": [
    {
     "data": {
      "text/plain": [
       "0     Aging occurs in context. People age within th...\n",
       "Name: clean_article, dtype: object"
      ]
     },
     "execution_count": 160,
     "metadata": {},
     "output_type": "execute_result"
    }
   ],
   "source": [
    "df_reduced['clean_article']"
   ]
  },
  {
   "cell_type": "code",
   "execution_count": 162,
   "metadata": {},
   "outputs": [
    {
     "name": "stdout",
     "output_type": "stream",
     "text": [
      "https://academic.oup.com/gerontologist/article/58/1/1/4816817\n"
     ]
    },
    {
     "data": {
      "text/plain": [
       "' Aging occurs in context. People age within their families, within their homes, within their neighborhoods, and within their societies. Too often, however, characteristics external to individuals are relegated to unexplained variance—the error—of health outcomes. With this Special Issue, The Gerontologist highlights the roles played by the physical and social environments in which people live, directly addressing whether and how neighborhoods affect the way we age. These 18 articles move the field forward conceptually and methodologically. They identify dimensions of neighborhoods that are important to health as well as those that are not, suggest ways to measure neighborhoods, demonstrate how to include elements of neighborhood into sophisticated qualitative and quantitative analyses, and offer information about where interventions are most likely to be effective.The Special Issue articles offer compelling evidence that neighborhoods shape a multitude of health outcomes, including subjective ratings of health and aging ( Cain et al., 2018 ;  Skinner, 2018 ;  Smith et al., 2018 ;  Spring, 2018 ;  Wolff et al., 2018 ), depression and psychological well-being ( Choi et al., 2018 ,  Wang et al., 2018 ), social isolation ( Portacolone et al., 2018 ), person-place transactions ( Hand et al., 2018 ), and quality of life ( Gobbens & van Assen, 2018 ;  Ralston, 2018 ). The articles also show that neighborhood characteristics have an effect on behaviors, including walking for transport and recreation ( Sugiyama et al., 2018 ), use of public space ( Canham et al., 2018 ;  Noon & Ayalon, 2018 ;  Wanka, 2018 ), cognition ( Lee & Waite, 2018 ), sleep ( Bierman et al., 2018 ), and sex ( Schafer et al., 2018 ).What is it about neighborhoods that mold the way we age? The Special Issue shows that neighborhood effects are diverse, and include the socioeconomic status of a community ( Schafer et al., 2018 ), presence of older people ( Wolff et al., 2018 ), crime ( Lee & Waite, 2018 ), physical disorder ( Bierman et al., 2018 ;  Gobbens & van Assen, 2018 ;  Lee & Waite, 2018 ;  Schafer et al., 2018 ), presence of local shops and services ( Sugiyama et al., 2018 ), community resources including water, sanitation, and electricity ( Ralston, 2018 ), and social cohesion ( Cain et al., 2018 ;  Lee & Waite, 2018 ). Even the amount of sun and shade are important indicators of how neighborhoods can influence behavior ( Noon & Ayalon 2018 ).  Spring (2018)  finds that it is the combination of lack of health services and commercial decline that has the most meaningful impact on health and that neighborhood characteristics have little effect in the short-term, but powerful effects when they are cumulative.It is clear from the Special Issue articles that neighborhood effects are complex, that they affect some people more than others, and that they affect people in different ways.  Skinner (2018)  explores how the intersection of global and local trends relating to population aging and rural change create contested spaces for rural aging, while  Wanka (2018)  examines why some older people withdraw from public spaces and how the urban environment affects this spatial disengagement.  Wang and colleagues (2018)  show that, among rural residents of China, neighborhood stressors stem from the physical environment, whereas among urban residents, stressors derive from the social environment. Similarly,  Choi and colleagues (2018)  find that the effect of perceived neighborhood safety is greater among older adults with functional limitations than among those without these limitations and that perceived social cohesion is only related to psychological health among people with functional limitations.  Smith and colleagues (2018)  report that economically vulnerable older adults in gentrifying neighborhoods have higher self-rated health than economically vulnerable older adults in low-income neighborhoods and that both economically vulnerable and high-income adults living in gentrifying neighborhoods suffer more depression and anxiety than those living in more affluent areas.Studying neighborhoods requires creativity, and the papers in this Special Issue display an impressive array of innovative methods for measuring the phenomena they seek to understand.  Noon and Ayalon (2018)  use visual research methods—still photography—to represent what a neighborhood looks like.  Hand and colleagues (2018)  use a combination of narrative interviews, go-along interviews, global positioning system tracking, and activity/travel diaries, to develop and implement a qualitative-geospatial approach to exploring how neighborhood and person transact to shape social connectedness.  Canham and colleagues (2018)  use community-based participatory action research to learn how to use shared amenity spaces in order to connect services and programs with tenants and provide opportunities for service providers to deliver services.  Wolff and colleagues (2018)  use geography-based analyses, demonstrating that compared to districts with an average rate of population aging, persons living in regions with a fast population aging rate hold more negative perceptions of aging and districts with slow population aging have significantly better perceptions of aging. Administrative data—data such as that collected by the U.S. Census—used by  Schafer and colleagues (2018)  is common, yet fraught with a host of methodological challenges that researchers must confront. Although self-perceptions ( Bierman et al., 2018 ;  Lee & Waite, 2018 ), interviewer-rated assessments ( Lee & Waite, 2018 ;  Schafer et al., 2018 ), and ethnographic interviews ( Portacolone et al., 2018 ) are not novel methods, when used to understand neighborhoods, they raise new issues that researchers must address. As  Gobbens and van Assen (2018)  demonstrate, understanding the perceptions that older people have of their environment requires a multifactorial measure.Analytically, studying neighborhoods is challenging because we cannot randomly assign people to live in a neighborhood. Rather, people move to places where people like them live, creating questions about whether findings are the result of individual or neighborhood-level variables. The nesting of people within neighborhoods is typically addressed using strategies that account for individual characteristics.  Bierman and colleagues (2018) , for example, find that neighborhood disorder is associated with sleep problems in random effects models, but that the association is weakened in fixed effects model that control for age, education, sex, race, and marital status.  Wang and colleagues (2018)  find that after controlling for depression at baseline, symptoms decrease in neighborhoods where physical and social environments are better. From a qualitative perspective,  Hand and colleagues (2018)  demonstrate the unique understanding that different methods of data collection bring to our understanding of place.  Portacolone and colleagues (2018)  identify an overarching theme of tension between person and structural factors of social isolation and desire for social integration emerging from qualitative content analysis. They find that, although people express a longing to participate in society, their immersion in a reality dense with obstacles can make this desire difficult to attain.Several articles in the Special Issue make use of neighborhood data collected by large, representative panels, highlighting the rich opportunity these data sets have for increasing knowledge about the ways in which neighborhoods affect aging. The National Social Life, Health, and Aging Project (NSHAP;  Lee & Waite, 2018 ;  Schafer et al., 2018 ), National Health & Aging Trends Study (NHATS;  Smith et al., 2018 ), Panel Study of Income Dynamics (PSID;  Spring, 2018 ), California Health Interview Survey (CHIS;  Cain et al., 2018 ;  Choi et al., 2018 ), China Health and Retirement Longitudinal Study (CHARLS;  Wang et al., 2018 ), German Aging Survey (DEAS;  Wolff et al., 2018 ), WHO Study of Global AGEing and Adult Health (WHO-SAGE;  Ralston, 2018 ), and Health & Retirement Study (HRS;  Bierman et al., 2018 ) have self-report and interviewer ratings of neighborhoods. When these data are merged with administrative datasets, the potential to learn how neighborhoods affect aging is tremendous.Understanding neighborhoods is important because they are places for optimizing interventions.  Canham and colleagues (2018)  find that shared amenity spaces can be used to connect services and programs with tenants.  Noon and Ayalon (2018)  call attention to the important role played by the outdoor environment as a venue for social activities, yet caution that high levels of aloneness experienced by older adults do not seem to be alleviated by the mere attendance in public spaces.  Smith and colleagues (2018)  show the negative effects that neighborhood gentrification can have on older people, suggesting that aging in place may have its drawbacks.These studies demonstrate that where we live and age matters for how we live and age. Collectively, they begin rather than end a set of important conversations. Questions about whether objective or subjective aspects of neighborhood have stronger influences on aging outcomes remain. We do not yet know what physical space—the block on which a person lives, their neighborhood, or their community—most affects outcomes since much of what we know about “neighborhoods” is based on administrative data as determined by Census tracts. In this vein, we need better understanding of how older people define their neighborhoods. We need more research about diverse aspects of contexts, including the built environment (e.g., access to health care, proximity to services), the natural environment (e.g., nearness of parks, presence of sidewalks, exposure to pollutants), the food environment (e.g., proximity to fast foods, supermarkets, availability of fresh produce), and the psychosocial environment (e.g., social cohesion; neighborhood safety; and opportunities to engage in meaningful activities, to contribute, to learn new skills, and to exercise existing skills).Moving forward in our understanding about neighborhoods requires efforts from disciplines that include psychology, sociology, geography, anthropology, economics, medicine, social work, law, and the humanities. Developments that are conceptually driven and methodologically rigorous will lead to interventions that will better the lives of older people and strengthen the places in which we all live. References      \\n'"
      ]
     },
     "execution_count": 162,
     "metadata": {},
     "output_type": "execute_result"
    }
   ],
   "source": [
    "investigate = 0\n",
    "print(df_reduced['url'][investigate])\n",
    "df_reduced['clean_article'].loc[investigate]"
   ]
  },
  {
   "cell_type": "code",
   "execution_count": 142,
   "metadata": {},
   "outputs": [
    {
     "name": "stdout",
     "output_type": "stream",
     "text": [
      "Initial set:  108\n",
      "Remove set: 6\n",
      "[89, 90, 91, 93, 95, 106]\n",
      "After removal:  102\n"
     ]
    }
   ],
   "source": [
    "print(\"Initial set: \", len(df_reduced))\n",
    "\n",
    "if get_year == 2002: \n",
    "    remove_yr_specific_indices = [89, 90, 91,93,95,106]  # based on manual inspection\n",
    "    df_reduced = df_reduced.drop(remove_yr_specific_indices)\n",
    "    \n",
    "df_reduced.reset_index(inplace=True)\n",
    "print(\"Remove set: \" + str(len(remove_yr_specific_indices)))\n",
    "print(remove_yr_specific_indices)\n",
    "print(\"After removal: \", len(df_reduced))"
   ]
  },
  {
   "cell_type": "code",
   "execution_count": 143,
   "metadata": {},
   "outputs": [
    {
     "name": "stdout",
     "output_type": "stream",
     "text": [
      "0 55217\n",
      "1 30581\n",
      "2 38515\n",
      "3 33179\n",
      "4 54939\n",
      "5 29551\n",
      "6 41118\n",
      "7 51611\n",
      "8 42989\n",
      "9 31003\n",
      "10 38942\n",
      "11 18422\n",
      "12 32999\n",
      "13 22771\n",
      "14 12682\n",
      "15 10102\n",
      "16 7085\n",
      "17 49150\n",
      "18 41242\n",
      "19 43780\n",
      "20 37581\n",
      "21 29428\n",
      "22 40617\n",
      "23 27493\n",
      "24 52638\n",
      "25 105651\n",
      "26 19340\n",
      "27 13659\n",
      "28 36631\n",
      "29 39432\n",
      "30 26589\n",
      "31 68376\n",
      "32 32427\n",
      "33 35737\n",
      "34 29914\n",
      "35 71132\n",
      "36 37020\n",
      "37 22279\n",
      "38 22928\n",
      "39 28122\n",
      "40 26682\n",
      "41 32220\n",
      "42 33769\n",
      "43 38721\n",
      "44 34169\n",
      "45 58852\n",
      "46 48705\n",
      "47 41345\n",
      "48 38899\n",
      "49 33931\n",
      "50 30101\n",
      "51 54350\n",
      "52 38467\n",
      "53 43017\n",
      "54 34598\n",
      "55 44645\n",
      "56 41639\n",
      "57 42637\n",
      "58 28155\n",
      "59 58780\n",
      "60 43390\n",
      "61 45157\n",
      "62 32149\n",
      "63 24603\n",
      "64 39316\n",
      "65 51125\n",
      "66 33499\n",
      "67 27550\n",
      "68 5074\n",
      "69 26906\n",
      "70 43671\n",
      "71 20170\n",
      "72 45891\n",
      "73 30861\n",
      "74 40675\n",
      "75 22297\n",
      "76 66784\n",
      "77 11884\n",
      "78 44850\n",
      "79 22861\n",
      "80 62438\n",
      "81 18625\n",
      "82 25946\n",
      "83 21773\n",
      "84 73043\n",
      "85 14895\n",
      "86 7962\n",
      "87 30863\n",
      "88 25533\n",
      "89 37414\n",
      "90 45982\n",
      "91 24352\n",
      "92 37473\n",
      "93 37003\n",
      "94 40325\n",
      "95 40000\n",
      "96 27976\n",
      "97 50549\n",
      "98 35498\n",
      "99 36482\n",
      "100 55438\n",
      "101 26942\n"
     ]
    },
    {
     "data": {
      "text/plain": [
       "0      None\n",
       "1      None\n",
       "2      None\n",
       "3      None\n",
       "4      None\n",
       "5      None\n",
       "6      None\n",
       "7      None\n",
       "8      None\n",
       "9      None\n",
       "10     None\n",
       "11     None\n",
       "12     None\n",
       "13     None\n",
       "14     None\n",
       "15     None\n",
       "16     None\n",
       "17     None\n",
       "18     None\n",
       "19     None\n",
       "20     None\n",
       "21     None\n",
       "22     None\n",
       "23     None\n",
       "24     None\n",
       "25     None\n",
       "26     None\n",
       "27     None\n",
       "28     None\n",
       "29     None\n",
       "30     None\n",
       "31     None\n",
       "32     None\n",
       "33     None\n",
       "34     None\n",
       "35     None\n",
       "36     None\n",
       "37     None\n",
       "38     None\n",
       "39     None\n",
       "40     None\n",
       "41     None\n",
       "42     None\n",
       "43     None\n",
       "44     None\n",
       "45     None\n",
       "46     None\n",
       "47     None\n",
       "48     None\n",
       "49     None\n",
       "50     None\n",
       "51     None\n",
       "52     None\n",
       "53     None\n",
       "54     None\n",
       "55     None\n",
       "56     None\n",
       "57     None\n",
       "58     None\n",
       "59     None\n",
       "60     None\n",
       "61     None\n",
       "62     None\n",
       "63     None\n",
       "64     None\n",
       "65     None\n",
       "66     None\n",
       "67     None\n",
       "68     None\n",
       "69     None\n",
       "70     None\n",
       "71     None\n",
       "72     None\n",
       "73     None\n",
       "74     None\n",
       "75     None\n",
       "76     None\n",
       "77     None\n",
       "78     None\n",
       "79     None\n",
       "80     None\n",
       "81     None\n",
       "82     None\n",
       "83     None\n",
       "84     None\n",
       "85     None\n",
       "86     None\n",
       "87     None\n",
       "88     None\n",
       "89     None\n",
       "90     None\n",
       "91     None\n",
       "92     None\n",
       "93     None\n",
       "94     None\n",
       "95     None\n",
       "96     None\n",
       "97     None\n",
       "98     None\n",
       "99     None\n",
       "100    None\n",
       "101    None\n",
       "Name: clean_article, dtype: object"
      ]
     },
     "execution_count": 143,
     "metadata": {},
     "output_type": "execute_result"
    }
   ],
   "source": [
    "count = 0\n",
    "def my_print(my_x):\n",
    "    global count\n",
    "    print(count, len(my_x))\n",
    "    count += 1\n",
    "\n",
    "df_reduced[\"clean_article\"].apply(lambda x: my_print(x))"
   ]
  },
  {
   "cell_type": "code",
   "execution_count": 144,
   "metadata": {},
   "outputs": [
    {
     "data": {
      "text/plain": [
       "0       Abstract Purpose: In response to concerns amo...\n",
       "1       Abstract Purpose: To identify the most common...\n",
       "2       Abstract Purpose: We investigated whether hea...\n",
       "3       Abstract Purpose: This article presents resul...\n",
       "4       Abstract Purpose: To provide insight into the...\n",
       "5       Abstract Purpose: Advance directive (AD) docu...\n",
       "6       Abstract Purpose: Little is known about the s...\n",
       "7       Abstract Purpose: This study investigated the...\n",
       "8       Abstract Purpose: This article explores the a...\n",
       "9       Abstract Purpose: Pathological gambling is an...\n",
       "10      Abstract Purpose: This article investigates t...\n",
       "11      Abstract Purpose: The psychiatric home visit ...\n",
       "12      Abstract Purpose: This article reviews the ef...\n",
       "13      Abstract Purpose: More than 14 million person...\n",
       "14      Last summer, Bernice L. Neugarten died. She w...\n",
       "15      Jared Diamond begins Guns, Germs, and Steel, ...\n",
       "16      The topic of staff, particularly aide, turnov...\n",
       "17      Abstract Purpose: This article examines facto...\n",
       "18      Abstract Purpose: Aggression continues to cha...\n",
       "19      Abstract Purpose: This is the second article ...\n",
       "20      Abstract Purpose: The purpose of this study w...\n",
       "21      Abstract Purpose: To examine demographic char...\n",
       "22      Abstract Purpose: This report examines health...\n",
       "23      Abstract Purpose: This study examined changes...\n",
       "24      Abstract Purpose: This study examined connect...\n",
       "25      Abstract Purpose: The goals of this review ar...\n",
       "26      Abstract Purpose: The purpose of this study w...\n",
       "27      Accepted December 14, 2001Decision Editor: La...\n",
       "28      Abstract Case studies are used extensively in...\n",
       "29      Abstract Purpose:I examined health and long-t...\n",
       "30      Abstract Purpose: To compare enrollees in the...\n",
       "31      Abstract Purpose: This research identified th...\n",
       "32      Abstract Purpose: This study examined the eff...\n",
       "33      Abstract Purpose: This exploratory study used...\n",
       "34      Abstract Purpose: This study describes the Sw...\n",
       "35      Abstract Purpose: The purpose of this study w...\n",
       "36      Abstract Purpose: This study examines the dir...\n",
       "37      Abstract Purpose: The goal of this study was ...\n",
       "38      Abstract Purpose: This paper describes a mode...\n",
       "39      Abstract Purpose: This study examines older p...\n",
       "40      Abstract Purpose: To describe a pilot initiat...\n",
       "41      Abstract Purpose: A community and faith-based...\n",
       "42      Abstract Purpose: The purpose of this study w...\n",
       "43      Abstract Purpose: The aim of this study was t...\n",
       "44      Abstract Purpose: This paper compares three i...\n",
       "45      Abstract Purpose: To develop a screening syst...\n",
       "46      Abstract Purpose: This study was undertaken t...\n",
       "47      Abstract Purpose: To examine the efficacy of ...\n",
       "48      Abstract Purpose: This article examines famil...\n",
       "49      Abstract Purpose:Prior research in nursing ho...\n",
       "50      Abstract Purpose: The purpose of this study w...\n",
       "51      Abstract Purpose: This study evaluated how le...\n",
       "52      Abstract Purpose: To develop a reliable and v...\n",
       "53      Abstract Purpose: This study considered the e...\n",
       "54      Abstract Purpose: The purpose of this researc...\n",
       "55      Abstract Recent worldwide events have focused...\n",
       "56      Abstract Purpose: We reviewed intervention st...\n",
       "57      Abstract Purpose: This study presents an anal...\n",
       "58      Abstract Purpose: We explain a new concept, p...\n",
       "59      Abstract Purpose: This study explored the imp...\n",
       "60      Abstract Purpose: This study investigated whe...\n",
       "61      Abstract Purpose:To link changes over 5 years...\n",
       "62      Abstract Purpose: This study examines the imp...\n",
       "63      Abstract Purpose: This study explored issues ...\n",
       "64      Abstract Purpose: Although there is a body of...\n",
       "65      Abstract Purpose: This study addressed well-b...\n",
       "66      Abstract Purpose: This study identified modif...\n",
       "67      Abstract Purpose: This 2-year, multisite, cur...\n",
       "68      Interest groups continue to grow in popularit...\n",
       "69      We are pleased to collaborate with The Geront...\n",
       "70      Abstract Purpose: This article reviews the li...\n",
       "71      Most people cannot control the exact circumst...\n",
       "72      Abstract Purpose: This article presents a mod...\n",
       "73      The research and practice agenda set forth by...\n",
       "74      Abstract Purpose: This article reviews the st...\n",
       "75      The limited data about the epidemiology conce...\n",
       "76      Abstract Purpose: The aim of this article was...\n",
       "77      A few years ago, I was asked to write a comme...\n",
       "78      Abstract Purpose: Consumers and providers dem...\n",
       "79      This commentary explores the cross-cultural a...\n",
       "80      Abstract Purpose: The volume of research on e...\n",
       "81      Dr. George 2002    review of research to date...\n",
       "82      Abstract Purpose: This study addressed key co...\n",
       "83      After reviewing the article by Dr. Phipps 200...\n",
       "84      Abstract Purpose: The contribution of bioethi...\n",
       "85      Once again, as illustrated in the provocative...\n",
       "86      Decision Editor: Laurence G. Branch, PhDI wel...\n",
       "87      Abstract Purpose: This research evaluates the...\n",
       "88      Abstract Purpose: Adult Protective Services (...\n",
       "89      Abstract Purpose: This study measures the dif...\n",
       "90      Abstract Purpose:The purpose of this study wa...\n",
       "91      Abstract Purpose:The purpose of this study wa...\n",
       "92      Abstract Purpose: This study assessed overall...\n",
       "93      Abstract Purpose: This article investigates t...\n",
       "94      Abstract Purpose: Parkinson's disease (PD) is...\n",
       "95      Abstract Purpose: Social theories of aging ar...\n",
       "96      Abstract Purpose: Although disability is wide...\n",
       "97      Abstract Purpose: This descriptive study expl...\n",
       "98      Abstract Purpose: The aim of this study was t...\n",
       "99      Abstract Purpose:Many primary care physicians...\n",
       "100     Abstract Purpose: This study traces the imple...\n",
       "101     Abstract Purpose: We describe the goals, deve...\n",
       "Name: clean_article, dtype: object"
      ]
     },
     "execution_count": 144,
     "metadata": {},
     "output_type": "execute_result"
    }
   ],
   "source": [
    "df_reduced['clean_article']"
   ]
  },
  {
   "cell_type": "code",
   "execution_count": 145,
   "metadata": {},
   "outputs": [
    {
     "name": "stdout",
     "output_type": "stream",
     "text": [
      "102\n"
     ]
    }
   ],
   "source": [
    "import os\n",
    "base_filename = 'articles' + get_year + '.txt'\n",
    "with open(os.path.join(base_filename),'w') as outfile:\n",
    "    df_reduced[\"clean_article\"].apply(lambda x: outfile.write(x + '\\n'))\n",
    "outfile.close()\n",
    "num_lines = sum(1 for line in open(base_filename))\n",
    "print(num_lines)\n",
    "            "
   ]
  },
  {
   "cell_type": "code",
   "execution_count": 146,
   "metadata": {},
   "outputs": [],
   "source": [
    "import sys\n",
    "sys.setrecursionlimit(10000)\n",
    "df_reduced.to_pickle(\"data_\" + get_year + \".pkl.gzip\",compression='gzip')"
   ]
  },
  {
   "cell_type": "code",
   "execution_count": 147,
   "metadata": {},
   "outputs": [],
   "source": [
    "df_reduced.to_csv(\"articles\" + get_year + \".csv\")"
   ]
  },
  {
   "cell_type": "code",
   "execution_count": null,
   "metadata": {},
   "outputs": [],
   "source": []
  }
 ],
 "metadata": {
  "kernelspec": {
   "display_name": "Python 3",
   "language": "python",
   "name": "python3"
  },
  "language_info": {
   "codemirror_mode": {
    "name": "ipython",
    "version": 3
   },
   "file_extension": ".py",
   "mimetype": "text/x-python",
   "name": "python",
   "nbconvert_exporter": "python",
   "pygments_lexer": "ipython3",
   "version": "3.6.4"
  }
 },
 "nbformat": 4,
 "nbformat_minor": 2
}
