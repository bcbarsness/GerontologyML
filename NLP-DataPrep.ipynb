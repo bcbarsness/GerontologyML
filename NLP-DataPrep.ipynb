{
 "cells": [
  {
   "cell_type": "markdown",
   "metadata": {},
   "source": [
    "# Prep for Topic Modeling - Gensim"
   ]
  },
  {
   "cell_type": "code",
   "execution_count": 1,
   "metadata": {},
   "outputs": [
    {
     "name": "stderr",
     "output_type": "stream",
     "text": [
      "C:\\Users\\bbarsness\\AppData\\Local\\Continuum\\anaconda3\\lib\\site-packages\\gensim\\utils.py:1197: UserWarning: detected Windows; aliasing chunkize to chunkize_serial\n",
      "  warnings.warn(\"detected Windows; aliasing chunkize to chunkize_serial\")\n"
     ]
    }
   ],
   "source": [
    "from gensim.models import Phrases\n",
    "from gensim.models.word2vec import LineSentence\n",
    "from gensim.models.word2vec import Word2Vec\n",
    "\n",
    "import os\n",
    "import codecs\n",
    "import itertools as it\n",
    "import spacy\n",
    "\n"
   ]
  },
  {
   "cell_type": "code",
   "execution_count": 2,
   "metadata": {},
   "outputs": [],
   "source": [
    "#nlp = spacy.load('en_core_web_lg')\n",
    "nlp = spacy.load('en')"
   ]
  },
  {
   "cell_type": "code",
   "execution_count": 3,
   "metadata": {},
   "outputs": [],
   "source": [
    "def punct_space(token):\n",
    "    \"\"\"\n",
    "    helper function to eliminate tokens\n",
    "    that are pure punctuation or whitespace\n",
    "    \"\"\"\n",
    "    \n",
    "    return token.is_punct or token.is_space\n",
    "\n",
    "def line_article(filename):\n",
    "    \"\"\"\n",
    "    generator function to read in articles from the file\n",
    "    and un-escape the original line breaks in the text\n",
    "    \"\"\"\n",
    "    \n",
    "    with codecs.open(filename, encoding='utf_8') as f:\n",
    "        for article in f:\n",
    "            yield article.replace('\\\\n', '\\n')\n",
    "            \n",
    "def lemmatized_sentence_corpus(filename):\n",
    "    \"\"\"\n",
    "    generator function to use spaCy to parse articles,\n",
    "    lemmatize the text, and yield sentences\n",
    "    \"\"\"\n",
    "    \n",
    "    for parsed_article in nlp.pipe(line_article(filename),\n",
    "                                  batch_size=10000, n_threads=3):\n",
    "        \n",
    "        for sent in parsed_article.sents:\n",
    "            yield u' '.join([token.lemma_ for token in sent\n",
    "                             if not punct_space(token)])"
   ]
  },
  {
   "cell_type": "code",
   "execution_count": 4,
   "metadata": {},
   "outputs": [],
   "source": [
    "data_directory = 'staging'\n",
    "unigram_sentences_filepath = os.path.join(data_directory,'unigram_sentences_all.txt')"
   ]
  },
  {
   "cell_type": "code",
   "execution_count": 5,
   "metadata": {},
   "outputs": [
    {
     "name": "stdout",
     "output_type": "stream",
     "text": [
      "Wall time: 1min 44s\n"
     ]
    }
   ],
   "source": [
    "%%time\n",
    "article_txt_filepath = 'articles.txt'\n",
    "# this is a bit time consuming - make the if statement True\n",
    "# if you want to execute data prep yourself.\n",
    "if True:\n",
    "\n",
    "    with codecs.open(unigram_sentences_filepath, 'w', encoding='utf_8') as f:\n",
    "        for sentence in lemmatized_sentence_corpus(article_txt_filepath):\n",
    "            f.write(sentence + '\\n')\n",
    "    "
   ]
  },
  {
   "cell_type": "code",
   "execution_count": 6,
   "metadata": {},
   "outputs": [],
   "source": [
    "unigram_sentences = LineSentence(unigram_sentences_filepath)\n"
   ]
  },
  {
   "cell_type": "code",
   "execution_count": 7,
   "metadata": {},
   "outputs": [
    {
     "name": "stdout",
     "output_type": "stream",
     "text": [
      "some research have suggest that caregiver tend to report great functional dependence in person with dementia skurla rogers and sunderland 1988\n",
      "\n",
      "nevertheless one recent study have show that score derive from caregiver self report of function of a person with dementia use the fim significantly correlate with fim score derive from direct observation of performance by a train professional cotter burgio stephens roth gitlin in press\n",
      "\n",
      "thus caregiver rating of function in -PRON- study may reflect objective iadl performance\n",
      "\n",
      "there be no statistically significant difference however in the other eight outcome measure include adl dependence and behavior and caregiver self efficacy and upset score between the experimental and control group\n",
      "\n",
      "the analysis show a trend toward improvement in all area for the experimental group but these minimal effect be not statistically significant for several possible reason\n",
      "\n",
      "first one reason -PRON- do not see main effect be that -PRON- do find interaction effect suggest that the intervention do not have a consistent effect\n",
      "\n",
      "the inclusion of group that do not benefit from intervention may dilute the main effect\n",
      "\n",
      "second a limitation of the present study may be that intervention effect be examine at one time point immediately follow completion of the intervention\n",
      "\n",
      "caregiver may need more time to practice and use environmental strategy before beneficial outcome be measurable\n",
      "\n",
      "the 3-month post test may have be too close to the intervention for -PRON- to adequately evaluate treatment effect\n",
      "\n"
     ]
    }
   ],
   "source": [
    "for unigram_sentence in it.islice(unigram_sentences,230,240):\n",
    "    print(u' '.join(unigram_sentence))\n",
    "    #print(unigram_sentence)\n",
    "    print(u'')"
   ]
  },
  {
   "cell_type": "code",
   "execution_count": 8,
   "metadata": {},
   "outputs": [],
   "source": [
    "bigram_model_filepath = os.path.join(data_directory,'bigram_model_all')"
   ]
  },
  {
   "cell_type": "code",
   "execution_count": 9,
   "metadata": {},
   "outputs": [
    {
     "name": "stdout",
     "output_type": "stream",
     "text": [
      "Wall time: 989 ms\n"
     ]
    }
   ],
   "source": [
    "%%time\n",
    "\n",
    "# this is a bit time consuming - make the if statement True\n",
    "# if you want to execute modeling yourself.\n",
    "if True:\n",
    "\n",
    "    bigram_model = Phrases(unigram_sentences)\n",
    "\n",
    "    bigram_model.save(bigram_model_filepath)\n",
    "    \n",
    "# load the finished model from disk\n",
    "bigram_model = Phrases.load(bigram_model_filepath)"
   ]
  },
  {
   "cell_type": "code",
   "execution_count": 10,
   "metadata": {},
   "outputs": [],
   "source": [
    "bigram_sentences_filepath = os.path.join(data_directory,'bigram_sentences_all.txt')"
   ]
  },
  {
   "cell_type": "code",
   "execution_count": 11,
   "metadata": {},
   "outputs": [
    {
     "name": "stderr",
     "output_type": "stream",
     "text": [
      "C:\\Users\\bbarsness\\AppData\\Local\\Continuum\\anaconda3\\lib\\site-packages\\gensim\\models\\phrases.py:494: UserWarning: For a faster implementation, use the gensim.models.phrases.Phraser class\n",
      "  warnings.warn(\"For a faster implementation, use the gensim.models.phrases.Phraser class\")\n"
     ]
    },
    {
     "name": "stdout",
     "output_type": "stream",
     "text": [
      "Wall time: 1.74 s\n"
     ]
    }
   ],
   "source": [
    "%%time\n",
    "\n",
    "# this is a bit time consuming - make the if statement True\n",
    "# if you want to execute data prep yourself.\n",
    "if True:\n",
    "\n",
    "    with codecs.open(bigram_sentences_filepath, 'w', encoding='utf_8') as f:\n",
    "        \n",
    "        for unigram_sentence in unigram_sentences:\n",
    "            \n",
    "            bigram_sentence = u' '.join(bigram_model[unigram_sentence])\n",
    "            \n",
    "            f.write(bigram_sentence + '\\n')"
   ]
  },
  {
   "cell_type": "code",
   "execution_count": 12,
   "metadata": {},
   "outputs": [],
   "source": [
    "bigram_sentences = LineSentence(bigram_sentences_filepath)"
   ]
  },
  {
   "cell_type": "code",
   "execution_count": 13,
   "metadata": {},
   "outputs": [
    {
     "name": "stdout",
     "output_type": "stream",
     "text": [
      "some research have suggest_that caregiver tend_to report great functional dependence in person with_dementia skurla rogers and sunderland 1988\n",
      "\n",
      "nevertheless one recent study have show that score derive_from caregiver self_report of function of a person with_dementia use the fim significantly_correlate with fim score derive_from direct_observation of performance by a train professional cotter burgio stephens roth gitlin in press\n",
      "\n",
      "thus caregiver rating of function in -PRON- study may reflect objective iadl performance\n",
      "\n",
      "there be no statistically_significant difference however in the other eight outcome_measure include adl_dependence and behavior and caregiver self_efficacy and upset score between the experimental and control_group\n",
      "\n",
      "the analysis show a trend_toward improvement in all area for the experimental group but these minimal effect be not statistically_significant for several possible reason\n",
      "\n",
      "first one reason -PRON- do_not see main_effect be that -PRON- do find interaction_effect suggest_that the intervention do_not have a consistent effect\n",
      "\n",
      "the inclusion of group that do_not benefit from intervention may dilute the main_effect\n",
      "\n",
      "second a limitation of the present_study may be that intervention effect be examine at one time point immediately_follow completion of the intervention\n",
      "\n",
      "caregiver may need more time to practice and use environmental_strategy before beneficial outcome be measurable\n",
      "\n",
      "the 3-month post_test may have be too close to the intervention for -PRON- to adequately evaluate treatment effect\n",
      "\n"
     ]
    }
   ],
   "source": [
    "for bigram_sentence in it.islice(bigram_sentences, 230, 240):\n",
    "    print(u' '.join(bigram_sentence))\n",
    "    print(u'')"
   ]
  },
  {
   "cell_type": "code",
   "execution_count": 14,
   "metadata": {},
   "outputs": [],
   "source": [
    "trigram_model_filepath = os.path.join(data_directory,'trigram_model_all')"
   ]
  },
  {
   "cell_type": "code",
   "execution_count": 15,
   "metadata": {},
   "outputs": [
    {
     "name": "stdout",
     "output_type": "stream",
     "text": [
      "Wall time: 967 ms\n"
     ]
    }
   ],
   "source": [
    "%%time\n",
    "\n",
    "# this is a bit time consuming - make the if statement True\n",
    "# if you want to execute modeling yourself.\n",
    "if True:\n",
    "\n",
    "    trigram_model = Phrases(bigram_sentences)\n",
    "\n",
    "    trigram_model.save(trigram_model_filepath)\n",
    "    \n",
    "# load the finished model from disk\n",
    "trigram_model = Phrases.load(trigram_model_filepath)"
   ]
  },
  {
   "cell_type": "code",
   "execution_count": 16,
   "metadata": {},
   "outputs": [],
   "source": [
    "trigram_sentences_filepath = os.path.join(data_directory,'trigram_sentences_all.txt')"
   ]
  },
  {
   "cell_type": "code",
   "execution_count": 17,
   "metadata": {},
   "outputs": [
    {
     "name": "stderr",
     "output_type": "stream",
     "text": [
      "C:\\Users\\bbarsness\\AppData\\Local\\Continuum\\anaconda3\\lib\\site-packages\\gensim\\models\\phrases.py:494: UserWarning: For a faster implementation, use the gensim.models.phrases.Phraser class\n",
      "  warnings.warn(\"For a faster implementation, use the gensim.models.phrases.Phraser class\")\n"
     ]
    },
    {
     "name": "stdout",
     "output_type": "stream",
     "text": [
      "Wall time: 1.82 s\n"
     ]
    }
   ],
   "source": [
    "%%time\n",
    "\n",
    "# this is a bit time consuming - make the if statement True\n",
    "# if you want to execute data prep yourself.\n",
    "if True:\n",
    "\n",
    "    with codecs.open(trigram_sentences_filepath, 'w', encoding='utf_8') as f:\n",
    "        \n",
    "        for bigram_sentence in bigram_sentences:\n",
    "            \n",
    "            trigram_sentence = u' '.join(trigram_model[bigram_sentence])\n",
    "            \n",
    "            f.write(trigram_sentence + '\\n')"
   ]
  },
  {
   "cell_type": "code",
   "execution_count": 18,
   "metadata": {},
   "outputs": [],
   "source": [
    "trigram_sentences = LineSentence(trigram_sentences_filepath)"
   ]
  },
  {
   "cell_type": "code",
   "execution_count": 19,
   "metadata": {},
   "outputs": [
    {
     "name": "stdout",
     "output_type": "stream",
     "text": [
      "some research have suggest_that caregiver tend_to report great functional dependence in person_with_dementia skurla rogers and sunderland 1988\n",
      "\n",
      "nevertheless one recent_study have show_that score derive_from caregiver self_report of function of a person_with_dementia use the fim significantly_correlate_with fim score derive_from direct_observation of performance by a train professional cotter burgio stephens roth gitlin in press\n",
      "\n",
      "thus caregiver rating of function in -PRON- study may reflect objective iadl performance\n",
      "\n",
      "there be no statistically_significant difference however in the other eight outcome_measure include adl_dependence and behavior and caregiver self_efficacy and upset score between the experimental and control_group\n",
      "\n",
      "the analysis show a trend_toward improvement in all area for the experimental_group but these minimal effect be not_statistically_significant for several possible reason\n",
      "\n",
      "first one reason -PRON- do_not see main_effect be that -PRON- do find interaction_effect suggest_that the intervention do_not have a consistent effect\n",
      "\n",
      "the inclusion of group that do_not benefit from intervention may dilute the main_effect\n",
      "\n",
      "second a limitation of the present_study may be that intervention effect be examine at one time point immediately_follow completion of the intervention\n",
      "\n",
      "caregiver may need more time to practice and use environmental_strategy before beneficial outcome be measurable\n",
      "\n",
      "the 3-month post_test may have be too close to the intervention for -PRON- to adequately evaluate treatment_effect\n",
      "\n"
     ]
    }
   ],
   "source": [
    "for trigram_sentence in it.islice(trigram_sentences, 230, 240):\n",
    "    print(u' '.join(trigram_sentence))\n",
    "    print(u'')"
   ]
  },
  {
   "cell_type": "code",
   "execution_count": 20,
   "metadata": {},
   "outputs": [],
   "source": [
    "trigram_articles_filepath = os.path.join(data_directory,'trigram_transformed_articles_all.txt')"
   ]
  },
  {
   "cell_type": "code",
   "execution_count": 21,
   "metadata": {},
   "outputs": [],
   "source": [
    "#from spacy.lang.en import STOP_WORDS\n",
    "#print(STOP_WORDS)\n",
    "\n",
    "STOP_WORDS = nlp.Defaults.stop_words\n",
    "#nlp.Defaults.stop_words"
   ]
  },
  {
   "cell_type": "code",
   "execution_count": 22,
   "metadata": {},
   "outputs": [
    {
     "name": "stderr",
     "output_type": "stream",
     "text": [
      "C:\\Users\\bbarsness\\AppData\\Local\\Continuum\\anaconda3\\lib\\site-packages\\gensim\\models\\phrases.py:494: UserWarning: For a faster implementation, use the gensim.models.phrases.Phraser class\n",
      "  warnings.warn(\"For a faster implementation, use the gensim.models.phrases.Phraser class\")\n"
     ]
    },
    {
     "name": "stdout",
     "output_type": "stream",
     "text": [
      "Wall time: 1min 35s\n"
     ]
    }
   ],
   "source": [
    "%%time\n",
    "\n",
    "# this is a bit time consuming - make the if statement True\n",
    "# if you want to execute data prep yourself.\n",
    "if True:\n",
    "\n",
    "    with codecs.open(trigram_articles_filepath, 'w', encoding='utf_8') as f:\n",
    "        \n",
    "        for parsed_article in nlp.pipe(line_article(article_txt_filepath),\n",
    "                                      batch_size=10000, n_threads=3):\n",
    "            \n",
    "            # lemmatize the text, removing punctuation and whitespace\n",
    "            unigram_article = [token.lemma_ for token in parsed_article\n",
    "                              if not punct_space(token)]\n",
    "            \n",
    "            # apply the first-order and second-order phrase models\n",
    "            bigram_article = bigram_model[unigram_article]\n",
    "            trigram_article = trigram_model[bigram_article]\n",
    "            \n",
    "            # remove any remaining stopwords\n",
    "            trigram_article = [term for term in trigram_article\n",
    "                              if term not in STOP_WORDS ]\n",
    "            \n",
    "            # write the transformed article as a line in the new file\n",
    "            trigram_article = u' '.join(trigram_article)\n",
    "            f.write(trigram_article + '\\n')"
   ]
  },
  {
   "cell_type": "code",
   "execution_count": 23,
   "metadata": {},
   "outputs": [
    {
     "name": "stdout",
     "output_type": "stream",
     "text": [
      "Original:\n",
      "\n",
      "     Abstract Purpose of Study: The authors determined short-term effects of a home environmental intervention on self-efficacy and upset in caregivers and daily function of dementia patients. They also determined if treatment effect varied by caregiver gender, race, and relationship to patient. Design and Methods: Families (N = 171) of dementia patients were randomized to intervention or usual care control group. The intervention involved 5 90-min home visits by occupational therapists who provided education and physical and social environmental modifi-cations. Results: Compared with controls, intervention caregivers reported fewer declines in patients' instrumental activities of daily living (p = .030) and less decline in self-care and fewer behavior problems in patients at 3 months post-test. Also, intervention spouses reported reduced upset (p = .049), women reported enhanced self-efficacy in managing behaviors (p = .038), and women (p = .049) and minorities (p = .037) reported enhanced self-efficacy in managing functional dependency. Implications: The environmental program appears to have a modest effect on dementia patients' IADL dependence. Also, among certain subgroups of caregivers the program improves self-efficacy and reduces upset in specific areas of caregiving.   Clinical trial ,  Home modification ,  Home care Laurence G. Branch, PhDA primary focus of caregiver research has been on developing and testing interventions for families caring for persons with dementia. Most tested interventions have been psycho-educational, typically involving a combination of counseling, education, stress management, and problem-solving skill development. Recent reviewers of this burgeoning research have concluded that psycho-educational interventions are only moderately effective in reducing caregiver distress and that a broad range of intervention strategies to address the multiple needs of caregivers at each stage of the illness trajectory should be tested (Bourgeois, Schulz, and Burgio 1996   ). These reviewers also suggested the need for future studies to determine what types of interventions benefit which types of caregivers (Biegel and Schulz 1999   ). The few studies that have examined caregiver characteristics in relationship to service use and treatment outcomes suggest differential effects along a number of dimensions. For example, Cox 1998    found that African American caregivers benefited more than White caregivers from a psychosocial intervention, and Zarit, Stephens, Townsend, Greene, and Leitsch 1999    showed that brief users of adult day services tended to be spouses.In this study we evaluated an innovative intervention approach involving occupational therapist home visits targeted at helping caregivers modify their living space to address daily caregiving challenges. Whereas psycho-educational interventions have been extensively evaluated, that is not the case for a home environmental approach. The rationale for using the home environment as a therapeutic modality is based in a competence-environmental press framework and recent advances in control theory. A competence-environmental press framework suggests that as competency declines, an unchanging physical and social environment poses significant demands or press on an individual that may result in negative behavioral and functional outcomes (Lawton and Nahemow 1973   ). Adjusting and simplifying dimensions of the environment to match reduced competency may minimize excess disability in persons with dementia. For example, removing unnecessary objects from a room may enhance orientation and reduce confusion and agitation.Additionally, personal control theory provides the rationale for why an environmental approach may also benefit caregivers. According to this theory, maintaining control is a universal imperative achieved by using primary mechanisms such as changing the immediate environment (e.g., people, objects), secondary mechanisms such as changing cognition or emotions, or a combination thereof (Schulz and Heckhausen 1999   ). The unsuccessful application of these mechanisms to achieve control may result in negative affective consequences such as emotional upset and lowered self-efficacy. Applied to the caregiving context, family members may be motivated to use an environmental strategy, a primary mechanism, as a part of their repertoire of coping strategies to achieve personal control over overwhelming and unpredictable situations. Maintaining personal control may in turn reduce upset and enhance self-efficacy beliefs among caregivers.A few exploratory studies have shown that family caregivers accept and use environmental strategies and perceive them as helpful in addressing specific dementia-related behaviors. These studies, however, have used single-case and panel designs, and outcomes have been limited to utilization rates of environmental strategies and self-reported benefits. Pynoos and Ohta 1991   , in a pilot study of 12 family caregivers, found that 66% of recommended environmental strategies were reported by caregivers as initially effective in managing specific problems, and of those, 89% remained in use at study follow-up. Consistent with this study, Gitlin and Corcoran 1993    found that among 17 spouse caregivers, 92% of environmental strategies offered by occupational therapists to improve bathing routines were subsequently implemented by caregivers and were reported as helpful in reducing resistance to bathing. For managing incontinence, caregivers used 53% of the recommendations that were offered. These findings suggest that caregivers are selective about which environmental strategies they use but that those that are acceptable are implemented. Other studies have also shown that caregivers, independent of a formal service provider and through trial and error, adjust the physical home environment in response to safety concerns, wandering, or a decline in self-care (Olsen, Ehrenkrantz, and Hutchings 1993   ). In clinical practice, environmental recommendations for home safety have become routine in hospital and home care (Alzheimer Association 1997   ). Nevertheless, the effects of helping caregivers modify their home environment on caregiver well-being and level of dependency of the person with dementia remain untested.We report on a randomized controlled study of a home environmental intervention with family caregivers. The intervention provided caregivers with a set of skills and strategies that lowered the threshold or press of the social and physical environment for the person with dementia. That is, the intervention was designed to help caregivers develop an environment supportive of reduced competencies such that the person with dementia would exhibit fewer disruptive behaviors and experience a slower rate of decline in instrumental and basic activities of daily living (IADLs and ADLs). Moreover, because this approach provided caregivers with practical skills and a mechanism to exert control over difficult situations, it targeted caregiver upset and self-efficacy beliefs in managing day to day. Therefore, we anticipated that the intervention would affect behavioral occurrences and functional dependency of the person with dementia as reported by the caregiver as well as the caregiver's own level of upset and self-efficacy with these problem areas.Additionally, in this study, we wanted to determine whether certain caregivers evinced greater benefits than others from this type of intervention on the basis of gender, race, and relationship to the person with dementia. An environmental intervention is behaviorally demanding in that it requires caregivers to actively problem solve; change lifelong daily routines; and adjust or remove material aspects of the environment that may have personal, symbolic, and historical meaning. We speculated that the intervention might not work for everyone. Previous research on caregiving has shown that family caregivers differ in their coping styles and appraisals of their situation on the basis of a number of characteristics including gender, race, and their relationship to the person with dementia (Kramer 1997   ; Levin, Chatters, and Taylor 1995   ). Because our previous research showed that women were more likely to comply with a home environmental intervention than men (Gitlin, Corcoran, Winter, Boyce, and Marcus 1999   ), we speculated that women would derive greater therapeutic benefit than men. We also anticipated that minority caregivers, the majority of whom were African American in this study, would demonstrate greater benefit than White caregivers on the basis of previous research that has shown that African Americans are more likely to derive improved self-efficacy from behavior-change interventions. Finally, given that studies on caregiving have consistently shown that spouses have higher rates of upset and depression than nonspouse caregivers (Pruchno and Resch 1989   ), we believed that spouses had more to gain from this intervention.In this study we have contributed systematically to the growing body of caregiver intervention research by testing a new intervention approach; examining outcomes for both the caregiver and the person with dementia; and determining whether treatment effects vary by caregiver gender, race, and relationship. Methods Participants Family caregivers were recruited from local social service and medical centers and through media announcements in the Philadelphia region between 1993 and 1996. To participate in the study, caregivers had to live with a family member with a medical diagnosis of Alzheimer's disease or a related disorder, perceive themselves as the primary caregiver, report dependence of the person with dementia in at least two ADLs, and report one or more difficulties managing either IADL or ADL assistance or a dementia-related behavior (e.g., wandering, agitation). Caregivers of persons who were bedridden and nonresponsive to touch or the physical environment were excluded from participating in the study. We designed these criteria to provide a sample of caregivers that were confronted with difficulties managing functional dependency and behavioral difficulties, the target of the intervention. These criteria also excluded caregivers of persons for which an environmental adaptation would have relatively no benefit given their severe stage of dementia.A trained interviewer met with eligible caregivers in their homes, obtained signed informed consent approved by the Institutional Review Board, and conducted the baseline interview. Following the baseline interview, caregivers were randomly assigned to either treatment or a usual care control condition. Randomization was stratified by gender (male, female) and race (minority, White) to ensure equivalence between experimental and control group participants along these two characteristics. Participants were interviewed again following completion of the intervention at 3 months postbaseline. Control group participants received education materials and a booklet describing home environmental safety tips at the conclusion of the study. Home Environmental Intervention The environmental program, described in detail elsewhere (Corcoran and Gitlin 1992   ; Gitlin et al. 1999   ) is briefly reviewed here. The intervention, which is based in a competence-environmental press framework and personal control theory as discussed earlier, is a targeted, multicomponent program led by an occupational therapist. It involves educating caregivers about the impact of the environment on dementia-related behaviors and helping caregivers simplify objects in the home (e.g., remove clutter), break down tasks (e.g., one- or two-step commands, lay out clothing in the order in which it is to be donned), and involve other members of the family network or formal supports in daily caregiving tasks. For example, occupational therapists provided education about dementia and the relationship between excess stimulation (auditory and visual) and behavioral disturbances such as agitation or resistance to assistance with self-care. Strategies such as removing objects to simplify the home and breaking down tasks provided primary control mechanisms by which caregivers could manage problems areas, such as agitation or the inability to follow directions or initiate tasks by the person with dementia.The program consisted of five 90-min sessions that were spaced approximately every other week over 3 months. In the first home session, the occupational therapist met with the caregiver to develop a targeted plan that addressed the specific aspects of daily care (e.g., bathing, dressing, activity engagement, caregiver fatigue) that were problematic and for which the caregiver wanted to learn new strategies. Education about the disease process was also introduced in this session. In the second visit, the occupational therapist used role-play, direct observation, and interviewing to explore the ways in which the caregiver handled problem areas and conceptualized or cognitively framed their situation. Education about dementia and the role of the physical and social environment was presented in relation to the specific care difficulties presented by caregivers. The therapists engaged caregivers in mutual problem solving to identify alternate care strategies using an environmental perspective. Environmental simplification and task breakdown strategies were introduced, and caregivers were asked to practice their use prior to the next home visit. In each subsequent home visit, the occupational therapist reinforced education about dementia through written materials and discussion, addressed a targeted problem area, observed the caregiver using previously recommended strategies, provided refinements to those strategies, and/or offered new recommendations. In the course of providing verbal instruction, the therapist used cognitive restructuring and validation to instill greater perceived control and confidence in the caregivers' own abilities to manage the problem and to develop more realistic appraisals of the caregiving situation, dementia-related behaviors, and expectations. Helping caregivers reframe attributions and explain events was important to enable behavioral change and the use of environmental strategies. Also, therapists served as coaches and provided ongoing validation and reinforcement of the caregivers' use of environmental strategies. In the final visit, the occupational therapist reviewed previously introduced strategies and how they might be applied to future potential problems.The 10 occupational therapists that served as interventionists for this study were licensed practitioners with at least 1 year experience in home care or working with older adults. Although occupational therapists are formally trained in a person-environment framework, this intervention represented a nontraditional approach in that the focus was exclusively on enhancing the environmental problem-solving skills of the caregiver. Accordingly, the intervention represented a unique program for which training was required. Therapists participated in 20 hr of training conducted by the investigators in which they were introduced to the intervention protocol, specific strategies, and treatment documentation. We monitored the occupational therapists throughout the study using several techniques to ensure treatment fidelity. These included formal case reviews, on-site observation of randomly selected visits, and follow-up interviews with caregivers to evaluate their satisfaction with the intervention process. Measures Basic background characteristics of family caregivers and their coding included age, income, education, and number of months caregiving collected as continuous variables and gender, relationship to person with dementia (spouse, nonspouse), race (White, minority), and marital status (married, not married). Outcome Variables Nine outcome variables were examined, three of which referred to the performance of the person with dementia, and six of which referred to the well-being of caregivers. Outcomes Related to the Dementia Patient. Concerning the dementia patient, we were interested in three outcomes: the frequency of occurrence of behavioral problems, the level of dependency in ADLs, and the level of dependency in IADLs. For behavior problems, family caregivers reported on the frequency of behavioral occurrences using 29 items from the Memory and Behavior Problems Checklist (MBPC; Zarit, Reever, and Bach-Peterson 1980   ) and four additional behaviors reported in the literature that were relevant to the focus of the intervention. Although respondents rated how often each problem occurred on a 5-point Likert scale (0 = \"never\" to 4 = \"at least once a day\"), for these analyses we computed an index that reflected the total number of behaviors that occurred. We refer to this index as Behaviors. High scores indicated the occurrence of a greater number of problem behaviors (Cronbach's alpha = .78).For dependency, family caregivers were asked to rate the level of ADL dependence of the person with dementia using a modification of the Functional Independence Measure (FIM; Granger and Hamilton 1992   ). We used eight items from the mobility domain of the FIM (bathing, eating, dressing upper and lower body, toileting, grooming, getting around the house, getting in and out of bed). For this study, we collapsed the FIM ratings of complete independence (7) and modified independence (6) to represent independence (without or with an assistive device or extended time). We also reverse coded the scoring of items. A high score reflected greater dependency such that 1 referred to complete independence and 6 to total dependence. We computed a total score by averaging the scores for all items. We refer to this index as ADL dependence. Cronbach's alpha for ADL dependence was .90.Caregivers were also asked to rate the level of dependence in nine IADLs using the same 6-point modified FIM rating scale described previously. Included were eight items from Lawton and Brody 1969   (meal preparation, management of finances, telephone use, housework, laundry, grocery shopping, travel, and taking medication) and one additional item, leisure participation. We averaged the scores for these items to derive the index we refer to as IADL dependence. High scores indicated greater dependence. Cronbach's alpha was .60 for this sample. Outcomes Related to Caregiver Well-Being. —We examined two dimensions of caregiver well-being: self-efficacy and upset in managing dementia behaviors, IADL dependence, and ADL dependence.Self-efficacy refers to an individual's assessment of his or her ability to perform specific activities and achieve a desired outcome (Bandura 1997   ). Whereas the related concept of mastery refers to a global assessment, self-efficacy concerns beliefs about one's competence to successfully perform discrete or specific tasks. Self-efficacy beliefs may therefore vary across specific activities of caregiving (Haley et al. 1996   ; McAvay, Seeman, and Rodin 1996   ). This relationship may exist because self-efficacy influences the initiation and maintenance of effort in demanding situations. To examine situation-specific self-efficacy, we used the approach of Haley and colleagues (Haley, Levine, Brown, and Bartolucci 1987   ; Haley et al. 1996   ) in which caregivers rate their level of confidence in handling specific caregiving tasks and problems. This approach allows the computation of average self-efficacy scores based on the particular problem areas of caregiving. Scores are independent of the total number of items. Thus, for each reported behavioral occurrence that was identified with the MBPC and each ADL and IADL activity for which assistance was required as measured by the modified FIM, caregivers were asked to rate their confidence in managing the item. Initially, we scored each item using a 5-point Likert scale (0 = \"not at all confident\" to 4 = \"extremely confident\"). For these analyses, however, we followed the approach of McAvay and colleagues 1996    and recoded each item into a dichotomous indicator to reflect low versus high levels of efficacy (0 = \"not at all or a little confident,\" 1 = \"moderately to extremely confident\"). This approach is clinically meaningful and maximizes the potential to detect change at post-test. We then computed three indices by summing the respective dichotomized scores on each item and dividing by the number of reported items. We refer to these indices as behavior self-efficacy, ADL self-efficacy, and IADL self-efficacy. Higher scores indicated greater perceived self-efficacy in managing behaviors that occurred or the self-care activities in which caregiver assistance was provided. Cronbach's alpha could not be calculated for these indices, because each caregiver rated different items within each index (Haley et al. 1996   ).Upset reflects the operational definition of a caregiver's appraisal in coping with problem areas (Lazarus and Folkman 1984   ). Caregivers were asked to rate their level of upset on a 5-point scale (0 = \"no upset\" to 4 = \"extremely upset\") for each behavioral occurrence and IADL and ADL item. We followed the procedures for self-efficacy and recoded each item as a dichotomous indicator (0 = \"not at all or very little upset,\" 1 = \"moderate or extreme upset\"). A mean caregiver upset score was then computed for each index. We refer to these indices as behavior upset, ADL upset, and IADL upset. Higher scores for each index indicated greater caregiver upset. To derive an alpha coefficient, we coded caregiver upset as 0 (no upset) for cases where no problem was reported. We reasoned that if the problem did not exist, then the caregiver did not experience upset with that area. Cronbach's alpha for this sample was .88 for the behavior upset index, .57 for the IADL upset index, and .76 for ADL upset index. Analysis We compared background characteristics of the caregiver, the three outcome variables specific to the functioning of the person with dementia (behaviors, ADL dependence, and IADL dependence), and the six outcome variables specific to caregiver well-being (ADL self-efficacy, IADL self-efficacy, behavior self-efficacy, ADL upset, IADL upset, and behavior upset) using chi-square and t tests as appropriate to determine significant differences between experimental and control group participants at baseline.Following the intention-to-treat principle, all randomized participants with follow-up data were included in the analyses regardless of number of intervention sessions completed. We examined the main effects of the intervention on ADL and IADL dependency and behavioral occurrences of persons with dementia (the three outcomes related to the dementia patient), and domain-specific caregiver self-efficacy and upset (the six outcomes related to caregivers) at 3 months postbaseline using analysis of covariance (ANCOVA) with the entire sample for which data were available. Baseline values were the covariates in each of the nine analyses.Next, we used separate regression analyses to examine possible differential effects of the intervention on the basis of gender (male, female), relationship (spouse, nonspouse), or race (White, minority) of caregivers. Each of these analyses consisted of a sequence of models. For each analysis, we entered the baseline score of the outcome variable first to control for initial differences between participants. Next, treatment assignment was entered. In the third step, the characteristic of interest was entered (e.g., gender, relationship, or race). In the final step, the effect of the intervention was measured by the interaction of treatment and the specific characteristic. We considered these analyses to be secondary to the initial main effects model. We therefore tested each interaction in separate models because we did not have sufficient power to test all the interactions of interest in a single model. We report in this article only the interactions that were large in magnitude and/or reached statistical significance.We repeated the previous analyses with two additional covariates, months caregiving and behavior self-efficacy, in addition to the baseline value of the outcome variable. We conducted these analyses to control for potential nonrandomized bias because there were large differences between caregivers who remained in the study and those that dropped out along these variables, although these differences were not statistically significant. However, the results did not change and we do not report these models.The reported p values were not corrected for multiple endpoints. We conducted analyses of the main effects for nine outcomes. The secondary analyses of the interactions considered a total of 27 interactions (3 for each of the 9 outcomes). We conducted all analyses using SPSS version 9.0. The level of significance was set at .05. Results Recruitment and Attrition Rates A total of 202 family caregivers were enrolled in the study, of which 100 were randomly assigned to intervention and 102 were assigned to the control group. Of this group, 171 participated in the 3-month postbaseline assessment, 93 in the treatment group, and 78 in the control group. This represented a total of 31 caregivers that were unavailable at post-test or a 15% attrition rate for the total sample. Of the 31 caregivers who dropped out, 7 (23%) were in the experimental group and 24 (77%) were in the control group. This differential dropout rate was statistically significant (p = .001). Reasons for not participating in the follow-up interview included illness (6 caregivers), illness of the care recipient (7 caregivers), extended vacation (5 caregivers) or unknown reasons (13 caregivers).We compared the 31 dropouts (intervention and control participants) to the 171 remaining participants (stay-ins) on their baseline scores for demographic variables and outcome variables ( Table 1  ). There were no large or statistically significant differences between the two groups, except for months caregiving and behavior self-efficacy, in which differences were large but not significant.We also compared experimental group participants who dropped out (n = 7) to experimental group participants (n = 93) who remained in the study along all variables. Again, there were no large or significant differences between the groups. Likewise, similar analyses showed no statistical differences between control group dropouts (n = 24) and control group stay-ins (n = 78) on any study variables. Sample Characteristics Baseline characteristics of participants in both the experimental and control groups are shown in  Table 2  . There were no large or significant differences at baseline between the two groups. The sample was primarily female, married, and had a high school or higher education. Of the 171 participants, 126 (74%) identified themselves as White, 43 (25%) identified as African American, 1 caregiver identified as Hispanic, and 1 identified as other. Spouse caregivers represented 25% of the sample. Therefore, most caregivers were not spouses, with daughters and daughters-in-law constituting 59% of the sample; sons, sons-in-law, and grandsons 13% of the sample; and other family relationships (e.g., nephew) 3% of the sample. Caregivers were, on average, 61 years of age (range = 23 to 92 years) and reported providing care for an average of 45 months (range = 2 months to 16 years).This group of caregivers reported, on average, minimal to no upset with ADL and IADL dependencies and only a modest level of upset with behavioral occurrences. Caregivers also reported, on average, a moderate level of self-efficacy in managing IADLs, ADLs, and behavioral disturbances. Care recipients varied widely in their level of functional dependency as reported by caregivers. A high level of dependency (mean FIM score = 5.5) occurred in IADLs, with 56% of caregivers reporting moderate to complete dependence in all nine IADLs and 23% reporting moderate to complete dependence in eight IADLs. In contrast, a minimal level of dependency (mean FIM score = 3.1) in ADLs was found, with only 13% reporting some level of dependence in all seven ADLs. Compliance With Intervention Compliance with the intervention was measured in two ways. First, we considered the number of visits completed, referred to as the level of participation. Second, we considered the proportion of strategies used to those provided by the occupational therapists at each intervention session, referred to as the level of adherence. We considered participation in four home sessions and use of or adherence to at least 50% of the strategies provided in intervention as necessary to achieve a treatment effect. We found that the intervention group participated in an average of four home visits, with 69% participating in at least four sessions and only 9% in one session. We also found that 75% of the strategies provided by the occupational therapists were used or adhered to by caregivers. We thus considered compliance with the intervention, as measured by participation and adherence, to be adequate (Gitlin et al. 1999   ). Effect of Intervention on Study Outcomes  Table 3  shows baseline and post-test mean scores along with the adjusted mean and confidence interval for experimental and control group participants for the nine outcome variables. There were no significant or large differences at baseline between experimental and control group participants for the nine outcome variables. In regard to the outcomes related to dementia patients, there was a statistically significant effect in one of the three outcomes studied; caregivers in the experimental group reported less decline in IADL dependence in the person with dementia than control group caregivers (p = .03). There was a trend toward less decline from baseline to post-test for behaviors and ADL dependence, although these were not statistically significant.For each of the six study outcomes related to caregiver well-being, ANCOVAs showed a marginal improvement from baseline to post-test for the experimental group in comparison with the control group, although these improvements were not statistically significant. Effect of Intervention for Specific Subgroups We conducted separate regression analyses to examine intervention by specific caregiver characteristic (race, gender, and relationship) interaction effects.  Table 4  shows the adjusted mean effect, difference of means, confidence interval for the mean difference, and interaction p values for significant interaction effects and those approaching significance. Not shown on the table is the interaction term of ADL self-efficacy by race. Although this interaction did not approach statistical significance, the magnitude of the interaction effect was large (adjusted mean effect, minority = .08, White = .00) such that minority caregivers showed a trend toward improvement and Whites did not.As shown in  Table 4  , a number of interaction effects were larger than the main effects ( Table 3  ). The largest interactions were for caregiver behavior self-efficacy and behavior upset. For behavior self-efficacy, women showed a benefit and men declined by an equal amount. For behavior upset, nonspouses showed no benefit and spouses a large benefit. The other large benefit was for minority caregivers in IADL self-efficacy in contrast to no benefit for Whites. Finally, with regard to ADL dependence, male caregivers reported less decline in self-care dependence of dementia patients than female caregivers, and this approached significance. Discussion In contrast to previous caregiver studies that have tested psycho-educational approaches, in this intervention trial we evaluated an environmental approach. This five-session home program involved educating caregivers about the impact of their living space on dementia-related behaviors and introducing modifications to the home in response to caregiver concerns with dependency and behavioral disturbances. The intervention provided caregivers with primary control mechanisms, that is, strategies to reduce environmental press, and self-knowledge of their skills. The findings of this study suggest that an environmental approach has a positive impact on both the caregiver and the person with dementia such that it may slow the progression of IADL dependence of patients and enhance self-efficacy and reduce upset for select caregivers.The present study systematically builds on and expands caregiver intervention research in four significant ways. First, we used a controlled design to determine the impact of an innovative approach that has previously not been systematically tested. Second, the intervention was innovative in that it involved teaching family caregivers the knowledge and skills to manipulate components of the physical environment, skills that are not traditionally included in psycho-educational caregiver interventions. Also, this intervention was innovative in that it differed from traditional occupational therapy practice. Typically, occupational therapy home care is driven by reimbursement considerations, so treatment focus is on the impaired person and improving function. Although therapists may provide education to caregivers, the service remains patient based. Third, this study extends knowledge about the types of outcomes to include in caregiver intervention research. Self-efficacy has not typically been included in previous intervention research. Also, with few exceptions, research has not examined functional change in the person with dementia following a home intervention (Bourgeois, Burgio, Schulz, Beach, and Palmer 1997   ; Chang 1999   ). Fourth, this study extends previous research on caregiver interventions by examining whether certain caregivers derive benefit from the intervention than others. As articulated by Biegel and Schulz 1999   , the next step in caregiver studies is to identify specific characteristics of individuals who benefit from different types of interventions. We evaluated the impact of caregiver gender, race, and relationship on treatment gains as a first step in understanding the relationship between intervention and caregiver characteristics.In accordance with clinical trial research principles, we first examined intervention effects for the entire sample. We found a small but statistically significant effect such that caregivers in the treatment group reported fewer declines in IADLs than caregivers in the control group 3 months postbaseline. This suggests that through intervention the caregivers developed an environment that was supportive of IADL performance such that persons with dementia experienced slightly less dependency in comparison with controls over time. That is, although caregivers in both the experimental and control group reported decline in IADL performance from baseline to 3 months, those in treatment were able to maintain more function of the person with dementia. To assess IADL status, we used the FIM response set, which is a measure of level of assistance required to perform a task. It reflects caregiver burden in that scores represent the level of care provided, at least as perceived by the caregiver. This finding suggests that the intervention had a modest impact on the level of burden as perceived by caregivers in the area of IADL management. The extent to which there was an objective reduction in dependence in IADLs remains questionable. A limitation of this study might have been the reliance on caregiver report to characterize dependence of the dementia patient. Some research has suggested that caregivers tend to report greater functional dependence in persons with dementia (Skurla, Rogers, and Sunderland 1988   ). Nevertheless, one recent study has shown that scores derived from caregiver self-report of function of a person with dementia using the FIM significantly correlates with FIM scores derived from direct observation of performance by a trained professional (Cotter, Burgio, Stephens, Roth, & Gitlin, in press). Thus, caregiver ratings of function in our study may reflect objective IADL performance.There were no statistically significant differences, however, in the other eight outcome measures, including ADL dependence and behaviors, and caregiver self-efficacy and upset scores between the experimental and control groups. The analyses showed a trend toward improvement in all areas for the experimental group, but these minimal effects were not statistically significant, for several possible reasons.First, one reason we did not see main effects is that we did find interaction effects, suggesting that the intervention did not have a consistent effect. The inclusion of groups that did not benefit from intervention may dilute the main effects.Second, a limitation of the present study may be that intervention effects were examined at one time point immediately following completion of the intervention. Caregivers may need more time to practice and use environmental strategies before beneficial outcomes are measurable. The 3-month post-test may have been too close to the intervention for us to adequately evaluate treatment effects. A few caregiver intervention studies have shown a delayed intervention effect such that caregivers report reduced burden and less depression but only over an extended period of time (Mittelman et al. 1995   ). Studies on environmental interventions with other populations have also reported a delayed positive effect of up to a year (Mann, Ottenbacher, Fraas, Tomita, and Granger 1999   ). Future research should consider evaluating the impact of home environmental strategies over a longer time period.Third, it may be that an environmental approach for caregivers requires a higher dose and level of intensity than that tested in this study. Case presentations and anecdotal comments by the interventionists support this point. Interventionists reported that some caregivers appeared to need more time than the protocol allowed to practice and incorporate the recommended environmental strategies. Also, interventionists reported that caregivers who initially rejected recommendations often inquired about these strategies at the final intervention visit. A consistent finding in research on the use of environmental modifications is that individuals are highly selective in their acceptance and use of environmental strategies and need repeated opportunities to think about and practice strategies. In their review of caregiver interventions, Biegel and Schulz 1999    also suggested that more may be better and that interventions of high intensity and long duration appear to work best.Fourth, a limitation of this intervention trial was that some recommendations, such as the purchase or installation of adaptive equipment (e.g., commode or grab bars), were recommended but not actually provided or installed for the caregiver. Providing equipment was beyond the scope of this particular study. Other community-based studies have shown that recommending such strategies without assisting in their installation may result in noncompliance because of the cost and time required for an individual to follow these prescriptions. Although these types of recommendations represented a very small percentage of those offered in intervention, they may still have had some impact on outcomes. Yet another explanation may be that this group of caregivers initially reported only minimal upset with dementia-related behaviors and functional dependency and moderately high self-efficacy. There may have been a ceiling effect such that the potential for improvement was limited.Turning to the subgroup analyses, we were interested in determining whether there was a differential treatment effect. Because our previous research had shown differential compliance rates on the basis of caregiver characteristics, we were interested in determining treatment effects for men and women, spouses and nonspouses, and minority and nonminority participants (Gitlin et al. 1999   ). Also, because the intervention was behaviorally demanding and required caregivers to engage in mutual problem solving and behavioral change, we reasoned that it might benefit only certain caregivers who may be predisposed to this type of approach.This intervention trial did suggest that there were modest gains for specific groups of caregivers. Specifically, women showed enhanced self-efficacy in managing both troublesome behaviors and IADL dependence compared with men. This gender difference may be explained in part by previous research on the coping styles of male and female caregivers. This literature suggests that women are more likely to focus on the emotional aspects of care, spend more time carrying out both instrumental and personal care, and admit the need for assistance and seek social support (Connidis and Davies 1990   ; Neal, Ingersoll-Dayton, and Starrels 1997   ). Conversely, men tend to be more self-reliant and use an authoritative, problem-solving approach that may reflect their traditional work role (Kramer 1997   ). Consequently, the caregiving style of women may be a better match with the client-driven approach to treatment delivery of this environmental program. In this intervention, occupational therapists initially worked with caregivers to identify their specific areas of concern and tailored strategies to address those areas. Also, because women may be more intensely involved with instrumental and personal care, they may actually experience more environmental challenges and may therefore be receptive to an intervention that provides instruction in its modification. Alternately, previous research has shown that being male is associated with a higher sense of control (Pearlin and Schooler 1978   ; Thoits 1987   ). Male caregivers in our study did report at baseline higher confidence (mean = .83) in managing troublesome behaviors than women (mean = .73, p = .031) and managing IADL dependency (mean = .92 for men and .85 for women, p = .07). As a result, there may have been less room for improvement among male participants. Also, as previously reported, we found the men had lower rates of adherence to the intervention (Gitlin et al. 1999   ). Hence, higher self-efficacy at baseline combined with lower compliance with intervention may explain why male participants showed less self-efficacy enhancement after intervention. Ideally, to benefit from the intervention, participants should start with low self-efficacy and be maximally compliant with the program.Minority participants in the treatment group also showed greater improvement in IADL and ADL self-efficacy compared with White participants. Of the 45 minority participants in this sample, 43 (96%) were African American. The treatment by race differential found in this study may be explained in part by previous research reporting lower mean levels of self-efficacy among African Americans compared with Whites (Lachman 1985   ). Minority participants in our study did report at baseline lower self-efficacy in managing behaviors and ADL and IADL dependency compared with White participants, although the difference was statistically significant only for ADL self-efficacy. This suggests that African American study participants had more room for improvement because they initially had lower scores. Alternately, other studies have shown that African American caregivers may be predisposed to experience improvements in self-efficacy (McAvay et al. 1996   ).It is difficult to determine from this study whether the enhancements evidenced by minority caregivers are in part explained by gender. However, the fact that women showed gains in the domain of behavior and IADL self-efficacy and that minority caregivers gained in ADL and IADL self-efficacy would suggest that these groups obtained somewhat different benefits. Clearly, more research is required to disentangle these relations and the salience of both race and gender in structuring intervention gains.We predicted that the intervention would not only enhance self-efficacy but also reduce levels of upset. We found, however, that the intervention did not reduce upset for either women or men. One explanation may be that upset and self-efficacy represent conceptually distinct appraisals, such that caregivers may find a behavior upsetting but have confidence in their ability to manage it. Another explanation for why we did not see a treatment by gender interaction for upset is a floor effect. There was minimal upset reported at baseline with behaviors and IADL dependency such that improvement may not have been possible.We did find a differential treatment effect on the basis of the familial relationship of the caregiver to the person with dementia and upset. Specifically, spouse caregivers demonstrated reduced upset with behavioral occurrences in comparison with nonspouse caregivers. Both groups reported similar low levels of upset and moderate levels of self-efficacy at baseline, so a ceiling effect for one group or the other was not operative here. One explanation for this treatment by relationship differential may be related to the consistent finding in previous research of the relatively high rate of depression and emotional upset experienced by spouse caregivers. Spouses may thus be more likely to experience reduced upset or intervention benefit than nonspouse caregivers. Previous research has shown that behavioral disturbances are the primary source of upset for family caregivers rather than IADL and ADL dependency of the person with dementia. Also, the literature has consistently shown a significant relationship between depressive symptoms and reactions of caregivers to problem behaviors. A reduction in the level of upset with behavioral occurrences may be clinically significant in that it may lessen the risk for depression.Thus, intervention effects were seen more in the area of self-efficacy for select participants. The gains in self-efficacy that were shown for women and minority caregivers, although admittedly modest, may be clinically important. There is abundant research literature showing that feeling efficacious is beneficial to both psychological and physical health (McAvay et al. 1996   ; Rodin and McAvay 1992   ). The role of perceived control in buffering the effects of stressful situations in older people has been shown to function similarly among family caregivers (Skaff, Pearlin, and Mullan 1996   ). Specifically, caregivers with high levels of mastery tend to be at lower risk for depression and role overload (Yate, Tennstedt, and Chang 1999   ).We could not compare the differential treatment effects we found in this study to other caregiver intervention trials because, with few exceptions, such studies have not systematically tested for differences. One study that tested the effectiveness of a brief education program for 40 spouse caregivers of persons with dementia (Chiverton and Caine 1989   ) found no gender difference in coping ability as a consequence of intervention. Likewise, Mittelman and colleagues 1995    found that gender was not associated with changes in depression over time following an intervention.In summary, the entire treatment group demonstrated gains in the area of IADL dependence, and there was a decline in upset and improved sense of efficacy beliefs for specific subgroups of caregivers. The data suggest that this is a helpful approach with female, African American, and spouse caregivers, whereas the intervention would need to be adjusted to match the needs of male and nonspouse caregivers. The findings also suggest that further research is warranted to evaluate a more intense and long-term intervention involving home environmental strategies, its underlying mechanisms, and the subsequent impact of improved self-efficacy on caregiver psychological and physical health. Finally, the findings provide preliminary evidence of the importance of examining intervention effects for specific subgroups of caregivers and incrementally add to an understanding of who benefits from interventions.  None  Table 1. Comparison of Stay-Ins and Dropouts at Baseline Notes: ADL = activity of daily living; IADL = instrumental activity of daily living; M = mean; F = frequency. For chi-square statistics, df = 1 and N = 202. View Large Table 1. Comparison of Stay-Ins and Dropouts at Baseline Notes: ADL = activity of daily living; IADL = instrumental activity of daily living; M = mean; F = frequency. For chi-square statistics, df = 1 and N = 202. View Large   None  Table 2. Comparison of Experimental and Control Group Participants on Background Characteristics aIncome Level 6 = $2,501–3,000 per month; Level 7 = $3,001–3,500 per month. View Large Table 2. Comparison of Experimental and Control Group Participants on Background Characteristics aIncome Level 6 = $2,501–3,000 per month; Level 7 = $3,001–3,500 per month. View Large   None  Table 3. Comparison of Experimental (n = 93) and Control (n = 78) Group Participants on Study Outcomes Note: CI = confidence interval; ADL = activity of daily living; IADL = instrumental activity of daily living. View Large Table 3. Comparison of Experimental (n = 93) and Control (n = 78) Group Participants on Study Outcomes Note: CI = confidence interval; ADL = activity of daily living; IADL = instrumental activity of daily living. View Large   None  Table 4. Adjusted Means for Treatment by Caregiver Factor Interactions Note: CI = confidence interval; IADL = instrumental activity of daily living; ADL = activity of daily living.aBecause of rounding, difference does not add up. View Large Table 4. Adjusted Means for Treatment by Caregiver Factor Interactions Note: CI = confidence interval; IADL = instrumental activity of daily living; ADL = activity of daily living.aBecause of rounding, difference does not add up. View Large The research reported in this article was supported by funds from the National Institute on Aging (RO1-AG10947). Dr. Corcoran is currently with the School of Medicine and Health Sciences, George Washington University, Washington, DC.Community and Homecare Research Division, Thomas Jefferson University, Philadelphia, PA.Department of Occupational Therapy, Thomas Jefferson University, Philadelphia, PA.Division of Clinical Pharmacology, Department of Medicine, Thomas Jefferson University, Philadelphia, PA. References             Issue Section:  Research article         Download all figures             \n"
     ]
    },
    {
     "name": "stdout",
     "output_type": "stream",
     "text": [
      "\n",
      "----\n",
      "\n",
      "Transformed:\n",
      "\n",
      "abstract_purpose study author determine short term effect home environmental_intervention self_efficacy upset caregiver daily function dementia_patient -PRON- determine_if treatment_effect vary_by caregiver gender_race relationship patient design methods family n_= 171 dementia_patient randomize intervention usual care control_group intervention involve 5 90-min home_visit occupational_therapist provide education physical social environmental modifi cation result compare_with control intervention caregiver report decline patient instrumental_activity daily_living p_= .030 decline self_care behavior_problem patient 3_month post_test intervention spouse report reduce_upset p_= .049 woman report enhanced self_efficacy manage behavior p_= .038 woman p_= .049 minority p_= .037 report enhanced self_efficacy manage functional_dependency implication environmental program appear modest effect_on dementia_patient iadl_dependence certain subgroup caregiver program improve self_efficacy reduce_upset specific area caregiv clinical_trial home modification home_care laurence_g._branch phda primary_focus caregiver research develop test intervention family care person_with_dementia test intervention psycho educational typically involve a_combination counseling education stress management problem_solve skill development recent reviewer burgeon research conclude_that psycho educational intervention moderately effective reduce caregiver distress a_broad_range intervention strategy address multiple need caregiver stage illness trajectory test bourgeois schulz burgio 1996 reviewer suggest need future_study determine type intervention benefit type caregiver biegel schulz 1999 few_study examine caregiver characteristic relationship service use treatment outcome suggest differential effect number dimension for_example cox 1998 find_that_african_american caregiver benefit more_than white_caregiver psychosocial intervention zarit stephens townsend greene leitsch 1999 show_that brief user adult_day service tend_to spouse this_study -PRON- evaluate an_innovative intervention approach involve occupational_therapist home_visit target help caregiver modify -PRON- live space address daily caregiving challenge psycho educational intervention extensively evaluate case home environmental approach rationale use home environment therapeutic modality base competence environmental press framework recent advance control theory competence environmental press framework suggest_that competency decline unchanging physical social environment pose significant demand press an_individual result negative behavioral functional outcome lawton nahemow 1973 adjust simplify dimension environment match reduce competency minimize excess disability person_with_dementia for_example remove unnecessary object room enhance orientation reduce confusion agitation additionally personal control theory provide rationale environmental approach benefit caregiver accord_to theory maintain control universal imperative achieve use primary mechanism such_as change immediate environment e.g. people object secondary mechanism such_as change cognition emotion a_combination thereof schulz heckhausen 1999 unsuccessful application mechanism achieve control result negative affective consequence such_as emotional upset lower self_efficacy apply caregiving context family_member motivate use environmental_strategy primary mechanism -PRON- repertoire cope_strategy achieve personal control_over overwhelming unpredictable situation maintain personal control turn reduce_upset enhance self_efficacy_belief caregiver exploratory_study show_that family_caregiver accept use environmental_strategy perceive -PRON- helpful address specific dementia relate behavior study use single case panel design outcome limit utilization rate environmental_strategy self_report benefit pynoos ohta 1991 pilot_study 12 family_caregiver find_that 66 recommend environmental_strategy report caregiver initially effective manage specific problem 89 remain use study follow_up consistent_with this_study gitlin corcoran 1993 find_that 17 spouse_caregiver 92 environmental_strategy offer occupational_therapist improve bathing routine subsequently implement caregiver report helpful reduce resistance bathing manage incontinence caregiver use 53 recommendation offer these_finding_suggest_that caregiver selective environmental_strategy -PRON- use acceptable implement study show_that caregiver independent formal_service provider trial error adjust physical home environment response safety concern wander decline self_care olsen ehrenkrantz hutching 1993 clinical_practice environmental recommendation home safety routine hospital home_care alzheimer_association 1997 effect help caregiver modify -PRON- home environment caregiver well_being level dependency person_with_dementia remain untested -PRON- report randomize control study home environmental_intervention family_caregiver intervention provide caregiver set skill strategy lower threshold press social physical_environment person_with_dementia that_is intervention design help caregiver develop environment supportive reduced competency person_with_dementia exhibit disruptive_behavior experience slow rate decline instrumental basic_activity daily_living_iadl adl this_approach provide caregiver practical skill mechanism exert control_over difficult situation -PRON- target caregiver upset self_efficacy_belief manage day day -PRON- anticipate intervention affect behavioral_occurrence functional_dependency person_with_dementia report caregiver as_well_as caregiver 's_own level upset self_efficacy problem area additionally this_study -PRON- want determine_whether certain caregiver evince great benefit type intervention basis gender_race relationship person_with_dementia environmental_intervention behaviorally demand -PRON- require caregiver actively problem_solve change lifelong daily routine adjust remove material aspect environment personal symbolic historical meaning -PRON- speculate_that intervention may_not work previous_research caregiving show_that family_caregiver differ -PRON- cope style appraisal -PRON- situation basis number characteristic include gender_race -PRON- relationship person_with_dementia kramer 1997 levin chatters taylor 1995 -PRON- previous_research show_that woman more_likely_to comply home environmental_intervention than_man gitlin corcoran winter boyce marcus 1999 -PRON- speculate_that woman derive great therapeutic benefit than_man -PRON- anticipate minority caregiver majority african_american this_study demonstrate great benefit than_white_caregiver basis previous_research show_that african_americans more_likely_to derive improved self_efficacy behavior change intervention finally study caregiv consistently show_that spouse high_rate upset depression nonspouse caregiver pruchno resch 1989 -PRON- believe_that spouse gain intervention this_study -PRON- contribute systematically grow body caregiver intervention research test new intervention approach examine outcome caregiver person_with_dementia determine_whether treatment_effect vary_by caregiver gender_race relationship method_participants family_caregiver recruit_from local social_service medical_center medium announcement philadelphia region 1993 1996 participate_in study caregiver live_with family_member medical diagnosis alzheimer_'s_disease related disorder perceive -PRON- primary_caregiver report dependence person_with_dementia at_least adl report difficulty manage iadl adl assistance dementia relate behavior e.g. wander agitation caregiver person_who bedridden nonresponsive touch physical_environment exclude_from participate_in study -PRON- design criterion provide sample caregiver confront difficulty manage functional_dependency behavioral difficulty target intervention criterion exclude caregiver person environmental adaptation relatively benefit -PRON- severe stage dementia train interviewer meet eligible caregiver -PRON- home obtain sign informed_consent approve_by institutional_review_board conduct baseline interview follow baseline interview caregiver randomly_assign treatment usual care control condition randomization stratify gender male female race minority white ensure equivalence experimental control_group participant characteristic participant interview follow completion intervention 3_month postbaseline control_group participant receive education material booklet describe home environmental safety tip conclusion study home environmental_intervention environmental program describe detail corcoran gitlin 1992 gitlin et_al 1999 briefly review intervention base competence environmental press framework personal control theory discuss earlier targeted multicomponent program lead occupational_therapist -PRON- involve educate caregiver impact environment dementia relate behavior help caregiver simplify object home e.g. remove clutter break_down task e.g. one- step command lie clothing order -PRON- don involve member family_network formal support daily caregiving task for_example occupational_therapist provide education dementia relationship_between excess stimulation auditory visual behavioral_disturbance such_as agitation resistance assistance self_care strategy such_as remove object simplify home break_down task provide primary control mechanism caregiver manage problem area such_as agitation inability_to follow direction initiate task person_with_dementia program consist 90-min session space approximately week 3_month home session occupational_therapist meet caregiver develop target plan address specific aspect daily care e.g. bathing_dressing activity engagement caregiver fatigue problematic caregiver want learn new strategy education disease process introduce session second visit occupational_therapist use role play direct_observation interview explore way caregiver handle problem area conceptualize cognitively frame -PRON- situation education dementia role physical social environment present relation specific care difficulty present caregiver therapist engage caregiver mutual problem_solve identify alternate care strategy use environmental perspective environmental simplification task breakdown strategy introduce caregiver ask practice -PRON- use prior_to home_visit subsequent home_visit occupational_therapist reinforce education dementia write material discussion address target problem area observe caregiver use previously recommend strategy provide refinement strategy and/or offer new recommendation course provide verbal instruction therapist use cognitive restructuring validation instill great perceive control confidence caregiver ability_to manage problem develop realistic appraisal caregiv_situation dementia relate behavior expectation help caregiver reframe attribution explain event important enable behavioral change use environmental_strategy therapist serve_as coach provide ongoing validation reinforcement caregiver use environmental_strategy final visit occupational_therapist review previously introduce strategy -PRON- apply future potential problem 10 occupational_therapist serve_as interventionist this_study license practitioner at_least 1 year experience home_care work old_adult occupational_therapist formally train person environment framework intervention represent nontraditional approach focus exclusively enhance environmental problem_solve skill caregiver accordingly intervention represent unique program training require therapist participate_in 20 hr training conduct investigator -PRON- introduce intervention protocol specific strategy treatment documentation -PRON- monitor occupational_therapist study use technique ensure treatment fidelity include formal case review on_site observation randomly_select visit follow_up interview caregiver evaluate -PRON- satisfaction_with intervention process measure basic background_characteristic family_caregiver -PRON- coding include age income education number month caregiv collect continuous_variable gender relationship person_with_dementia spouse nonspouse race white minority marital_status marry married outcome variables outcome_variable examine refer_to performance person_with_dementia refer_to well_being caregiver outcome relate dementia_patient concern dementia_patient -PRON- interested_in outcome frequency occurrence behavioral problem level dependency adl level dependency iadl behavior_problem family_caregiver report frequency behavioral_occurrence use 29 item memory behavior problems checklist mbpc zarit reever bach peterson 1980 additional behavior report literature relevant focus intervention respondent rat how_often problem occur on_a_5-point likert_scale 0_= 4_= at_least day analysis -PRON- compute an_index reflect total_number behavior occur -PRON- refer_to index behaviors high_score_indicate occurrence great number problem_behavior cronbach_'s_alpha = .78).for dependency family_caregiver ask rate level adl_dependence person_with_dementia use modification functional_independence measure fim granger hamilton 1992 -PRON- use item mobility domain fim bathing eating dress upper low body toilet grooming get_around house bed this_study -PRON- collapse fim rating complete independence 7 modify independence 6 represent independence assistive_device extended time -PRON- reverse cod scoring item high_score_reflect great dependency 1 refer_to complete independence 6 total dependence -PRON- compute total_score average score item -PRON- refer_to index adl_dependence cronbach_'s_alpha adl_dependence .90.caregiver ask rate level dependence iadl use 6-point modify fim rating_scale describe previously include item lawton brody 1969 meal_preparation management finance telephone use housework laundry grocery shopping travel medication additional item leisure participation -PRON- average score item derive index -PRON- refer_to_as iadl_dependence high_score_indicate great dependence cronbach_'s_alpha .60 sample outcomes relate caregiver well_being —we examine dimension caregiver self_efficacy upset manage dementia behavior iadl_dependence adl_dependence self_efficacy refer_to an_individual 's assessment -PRON- -PRON- ability_to perform specific activity achieve desire outcome bandura 1997 related concept mastery refer_to global assessment self_efficacy concern belief_about one_'s competence successfully perform discrete specific task self_efficacy_belief vary specific activity caregiv haley_et_al 1996 mcavay seeman rodin 1996 relationship exist self_efficacy influence initiation maintenance effort demand situation examine situation specific self_efficacy -PRON- use approach haley colleague haley levine brown bartolucci 1987 haley_et_al 1996 caregiver rate -PRON- level confidence handle specific caregiv task problem this_approach allow computation average self_efficacy score base_on particular problem area caregiv score independent total_number item report behavioral_occurrence identify mbpc adl iadl activity assistance require measure modify fim caregiver ask rate -PRON- confidence manage item initially -PRON- score item use a_5-point likert_scale 0_= confident 4_= extremely confident analysis -PRON- follow approach mcavay colleague_1996 recode item dichotomous indicator reflect low versus high_level efficacy 0_= little confident 1_= moderately extremely confident this_approach clinically meaningful maximize potential detect_change post_test -PRON- compute index sum respective dichotomize score item divide_by number report item -PRON- refer_to index behavior self_efficacy adl self_efficacy iadl self_efficacy high_score_indicate great perceive self_efficacy manage behavior occur self_care activity caregiver assistance provide cronbach_'s_alpha could_not calculate index caregiver rat different item within_each index haley_et_al 1996 .upset reflect operational_definition caregiver 's appraisal cope_with problem area lazarus folkman 1984 caregiver ask rate -PRON- level upset on_a_5-point scale 0_=_no upset 4_= extremely upset behavioral_occurrence iadl adl item -PRON- follow procedure self_efficacy recode item dichotomous indicator 0_= very_little upset 1_= moderate extreme upset mean caregiver upset score compute index -PRON- refer_to index behavior upset adl upset iadl upset high_score index indicate_great caregiver upset derive alpha_coefficient -PRON- cod caregiver upset 0 upset case problem report -PRON- reason problem do_not exist caregiver do_not experience upset area cronbach_'s_alpha sample .88 behavior upset index .57 iadl upset index .76 adl upset index analysis -PRON- compare background_characteristic caregiver outcome_variable specific functioning person_with_dementia behavior adl_dependence iadl_dependence outcome_variable specific caregiver well_being adl self_efficacy iadl self_efficacy behavior self_efficacy adl upset iadl upset behavior upset use chi_square t_test appropriate determine significant_difference_between experimental control_group participant at_baseline follow intention treat principle randomize participant follow_up datum include analysis regardless number intervention session complete -PRON- examine main_effect intervention adl iadl dependency behavioral_occurrence person_with_dementia outcome relate dementia_patient domain_specific caregiver self_efficacy upset outcome relate caregiver 3_month postbaseline use analysis covariance ancova entire sample datum available baseline value covariate analysis -PRON- use separate regression_analysis examine possible differential effect intervention basis gender male female relationship spouse nonspouse race white minority caregiver analysis consist sequence model analysis -PRON- enter baseline score outcome_variable control initial difference_between participant treatment assignment enter step characteristic interest enter e.g. gender relationship race final step effect intervention measure interaction treatment specific characteristic -PRON- consider analysis secondary initial main_effect model -PRON- test interaction separate model -PRON- do_not sufficient power test interaction interest a_single model -PRON- report this_article interaction large magnitude and/or reach_statistical_significance -PRON- repeat previous analysis additional covariate month caregiv behavior self_efficacy in_addition baseline value outcome_variable -PRON- conduct analysis control potential nonrandomiz bias large difference_between caregiver remain study drop_out variable difference not_statistically_significant result do_not change -PRON- do_not report model report p_value correct multiple endpoint -PRON- conduct analysis main_effect outcome secondary_analysis interaction consider total 27 interaction 3 9 outcome -PRON- conduct analysis use spss version 9.0 level significance set .05 results recruitment attrition rates total 202 family_caregiver enrol study 100 randomly_assign intervention 102 assign control_group group 171 participate_in 3-month postbaseline assessment 93 treatment group 78 control_group represent total 31 caregiver unavailable post_test 15 attrition rate total_sample 31 caregiver drop_out 7 23 experimental_group 24 77 control_group differential dropout rate statistically_significant p_=_.001 reason_for participate_in follow_up interview include illness 6 caregiver illness care_recipient 7 caregiver extended vacation 5 caregiver unknown reason 13 caregivers).we compare 31 dropout intervention control participant 171 remain participant stay -PRON- baseline score demographic_variable outcome_variable table_1 large statistically_significant difference_between group month caregiv behavior self_efficacy difference large but_not significant -PRON- compare experimental_group participant drop_out n_= 7 experimental_group participant n_= 93 remain study variable large significant_difference_between group likewise similar analysis statistical difference_between control_group dropout n_= 24 control_group stay n_= 78 study variable sample characteristics baseline characteristic participant experimental control_group table_2 large significant_difference at_baseline group sample primarily female married high_school high education 171 participant 126 74 identify -PRON- white 43 25 identify african_american 1 caregiver identify hispanic 1 identify spouse_caregiver represent 25 sample caregiver spouse daughter daughter law constitute 59 sample son son law grandson 13 sample family relationship e.g. nephew 3 sample caregiver on_average 61 year age range = 23 92 year report provide care an_average 45 month range = 2 month 16 years).this group caregiver report on_average minimal upset adl iadl dependency modest level upset behavioral_occurrence caregiver report on_average moderate level self_efficacy managing iadl adl behavioral_disturbance care_recipient vary_widely -PRON- level functional_dependency report caregiver high_level dependency mean fim score_= 5.5 occur iadl 56 caregiver report moderate complete dependence iadl 23 reporting moderate complete dependence iadl in_contrast minimal level dependency mean fim score_= 3.1 adl find 13 report level dependence seven_adl compliance_with intervention compliance_with intervention measure two_way -PRON- consider number visit complete refer_to_as level participation second -PRON- consider proportion strategy use provide occupational_therapist intervention session refer_to_as level adherence -PRON- consider participation home session use adherence at_least 50 strategy provide intervention necessary achieve treatment_effect -PRON- find_that intervention group participate_in an_average home_visit 69 participate_in at_least session 9 session -PRON- find_that 75 strategy provide occupational_therapist use adhere caregiver -PRON- consider compliance_with intervention measure participation adherence adequate gitlin et_al 1999 effect intervention study outcomes table_3 baseline post_test mean_score along_with adjust mean confidence_interval experimental control_group participant outcome_variable no_significant large difference at_baseline experimental control_group participant outcome_variable regard outcome relate dementia_patient statistically_significant effect outcome study caregiver experimental_group report decline iadl_dependence person_with_dementia control_group caregiver p_=_.03 trend_toward decline baseline post_test behavior adl_dependence not_statistically_significant study outcome relate caregiver ancovas marginal improvement baseline post_test experimental_group comparison control_group improvement not_statistically_significant effect intervention specific subgroups -PRON- conduct separate regression_analysis examine intervention specific caregiver characteristic race gender relationship interaction_effect table_4 adjust mean effect difference mean confidence_interval mean difference interaction p_value significant interaction_effect approach significance table interaction_term adl self_efficacy race interaction do_not approach statistical_significance magnitude interaction_effect large adjust mean effect minority =_.08 white = .00 minority caregiver trend_toward improvement whites do_not table_4 number interaction_effect large main_effect table_3 large interaction caregiver behavior self_efficacy behavior upset behavior self_efficacy woman benefit man decline equal behavior upset nonspous benefit spous large benefit large benefit minority caregiver iadl self_efficacy in_contrast benefit whites finally regard adl_dependence male_caregiver report decline self_care dependence dementia_patient female_caregiver this_approach significance discussion in_contrast previous caregiver study test psycho educational approach intervention_trial -PRON- evaluate environmental approach session home program involve educate caregiver impact -PRON- live space dementia relate behavior introduce modification home response caregiver concern dependency behavioral_disturbance intervention provide caregiver primary control mechanism that_is strategy reduce environmental press self knowledge -PRON- skill finding this_study suggest_that environmental approach positive_impact caregiver person_with_dementia -PRON- slow progression iadl_dependence patient enhance self_efficacy reduce_upset select caregiver present_study systematically build expand caregiver intervention research significant way -PRON- use control design determine impact an_innovative approach previously systematically test second intervention innovative -PRON- involve teach family_caregiver knowledge skill manipulate component physical_environment skill traditionally include psycho educational caregiver intervention intervention innovative -PRON- differ_from traditional occupational_therapy practice typically occupational_therapy home_care drive reimbursement consideration treatment focus impaired person improve function therapist provide education caregiver service remain patient base this_study extend knowledge_about type outcome include caregiver intervention research self_efficacy typically include previous intervention research exception research examine functional change person_with_dementia follow home intervention bourgeois burgio schulz beach palmer 1997 chang 1999 fourth this_study extend previous_research caregiver intervention examine_whether certain caregiver derive benefit intervention articulate biegel schulz 1999 next_step caregiver study identify specific characteristic individual_who benefit different type intervention -PRON- evaluate impact caregiver gender_race relationship treatment gain first_step understand relationship_between intervention caregiver characteristic accordance clinical_trial research principle -PRON- examine intervention effect entire sample -PRON- find small statistically_significant effect caregiver treatment group report decline iadl caregiver control_group 3_month postbaseline suggest_that intervention caregiver develop environment supportive iadl performance person_with_dementia experience slightly_less dependency comparison control over_time that_is caregiver experimental control_group report decline iadl performance baseline 3_month treatment able_to maintain function person_with_dementia assess iadl status -PRON- use fim response set measure level assistance require perform task -PRON- reflect caregiver_burden score represent level care provide at_least perceive caregiver finding_suggest_that intervention modest impact_on level burden perceive caregiver area iadl management extent an_objective reduction dependence iadl remain questionable limitation this_study reliance_on caregiver report characterize dependence dementia_patient research suggest_that caregiver tend_to report great functional dependence person_with_dementia skurla rogers sunderland 1988 recent_study show_that score derive_from caregiver self_report function person_with_dementia use fim significantly_correlate_with fim score derive_from direct_observation performance train professional cotter burgio stephens roth gitlin press caregiver rating function -PRON- study reflect objective iadl performance statistically_significant difference outcome_measure include adl_dependence behavior caregiver self_efficacy upset score experimental control_group analysis trend_toward improvement area experimental_group minimal effect not_statistically_significant possible reason reason -PRON- do_not main_effect -PRON- find interaction_effect suggest_that intervention do_not consistent effect inclusion group do_not benefit intervention dilute main_effect second limitation present_study intervention effect examine time point immediately_follow completion intervention caregiver need time practice use environmental_strategy beneficial outcome measurable 3-month post_test close intervention -PRON- adequately evaluate treatment_effect caregiver intervention study delay intervention effect caregiver report reduce burden depression extended period time mittelman et_al 1995 study environmental_intervention population report delay positive effect year mann ottenbacher fraas tomita granger 1999 future_research should_consider evaluate impact home environmental_strategy long time_period -PRON- environmental approach caregiver require high dose level intensity test this_study case presentation anecdotal comment interventionist support point interventionist report caregiver appear need time protocol allow practice incorporate recommend environmental_strategy interventionist report caregiver initially reject recommendation inquire strategy final intervention visit consistent_finding research use environmental modification individual highly selective -PRON- acceptance use environmental_strategy need repeat opportunity think_about practice strategy -PRON- review caregiver intervention biegel schulz 1999 suggest_that good intervention high_intensity long duration appear work best fourth limitation intervention_trial recommendation such_as purchase installation adaptive equipment e.g. commode grab bar recommend but_not actually provide instal caregiver provide equipment scope particular study community_base study show_that recommend strategy assist -PRON- installation result noncompliance cost time require an_individual follow prescription type recommendation represent small_percentage offer intervention -PRON- impact_on outcome explanation group caregiver initially report minimal upset with_dementia relate behavior functional_dependency moderately high self_efficacy ceiling effect potential improvement limit turn subgroup analysis -PRON- interested_in determine_whether differential treatment_effect -PRON- previous_research differential compliance rate basis caregiver characteristic -PRON- interested_in determine treatment_effect man woman spouse nonspous minority nonminority participant gitlin et_al 1999 intervention behaviorally demand require caregiver engage_in mutual problem_solve behavioral change -PRON- reason -PRON- benefit certain caregiver predispose type approach intervention_trial suggest_that modest gain specific group caregiver specifically woman enhanced self_efficacy manage troublesome behavior iadl_dependence compare_with_man gender_difference explain previous_research cope style male female_caregiver literature suggest_that woman more_likely_to focus_on emotional aspect care spend time carry_out instrumental personal_care admit need assistance seek social_support connidis davy 1990 neal ingersoll dayton starrel 1997 conversely man tend_to self reliant use authoritative problem_solve approach reflect -PRON- traditional work role kramer 1997 consequently caregiv style woman good match client drive approach treatment_delivery environmental program intervention occupational_therapist initially work caregiver identify -PRON- specific area concern tailor strategy address area woman intensely involve instrumental personal_care -PRON- actually experience environmental challenge receptive intervention provide instruction -PRON- modification alternately previous_research show_that male associate_with high sense control pearlin schooler 1978 thoit 1987 male_caregiver -PRON- study report at_baseline high confidence mean_= .83 manage troublesome behavior woman mean_= .73 p_= .031 manage iadl dependency mean_= .92 man .85 woman p_= .07 result room improvement male participant previously_report -PRON- find man low rate adherence intervention gitlin et_al 1999 high self_efficacy at_baseline combine low compliance_with intervention explain male participant self_efficacy enhancement intervention ideally benefit intervention participant start low self_efficacy maximally compliant program minority participant treatment group great improvement iadl adl self_efficacy compare_with white participant 45 minority participant sample 43 96 african_american treatment race differential find this_study explain previous_research report low mean level self_efficacy among_african_americans compare_with whites lachman 1985 minority participant -PRON- study report at_baseline low self_efficacy manage behavior adl iadl dependency compare_with white participant difference statistically_significant adl self_efficacy suggest_that african_american study participant room improvement -PRON- initially low score alternately study show_that african_american_caregiver predispose experience improvement self_efficacy mcavay et_al 1996 .it difficult determine this_study enhancement evidence minority caregiver explain gender fact_that woman gain domain behavior iadl self_efficacy minority caregiver gain adl iadl self_efficacy suggest_that group obtain somewhat different benefit clearly research require disentangle relation salience race gender structure intervention gain -PRON- predict intervention enhance self_efficacy reduce level upset -PRON- find intervention do_not reduce_upset woman man explanation upset self_efficacy represent conceptually distinct appraisal caregiver find behavior upsetting confidence -PRON- ability_to manage -PRON- explanation -PRON- do_not treatment gender interaction upset floor effect minimal upset report at_baseline behavior iadl dependency improvement may_not possible -PRON- find differential treatment_effect basis familial relationship caregiver person_with_dementia upset specifically spouse_caregiver demonstrate reduce_upset behavioral_occurrence comparison nonspouse caregiver group report similar low_level upset moderate level self_efficacy at_baseline ceiling effect group operative explanation treatment relationship differential relate consistent_finding previous_research relatively high_rate depression emotional upset experience spouse_caregiver spouse more_likely_to experience reduce_upset intervention benefit nonspouse caregiver previous_research show_that behavioral_disturbance primary source upset family_caregiver rather_than iadl adl_dependency person_with_dementia literature consistently significant relationship_between depressive_symptom reaction caregiver problem_behavior reduction level upset behavioral_occurrence clinically_significant -PRON- lessen risk depression intervention effect area self_efficacy select participant gain self_efficacy woman minority caregiver admittedly modest clinically important abundant research literature show_that feel efficacious beneficial psychological physical_health mcavay et_al 1996 rodin mcavay 1992 role perceive control buffer effect stressful situation old_people function similarly family_caregiver skaff pearlin mullan 1996 specifically caregiver high_level mastery tend_to low_risk depression role overload yate tennstedt chang 1999 .we could_not compare differential treatment_effect -PRON- find this_study caregiver intervention_trial exception study systematically test difference study test effectiveness brief education program 40 spouse_caregiver person_with_dementia chiverton caine 1989 find_no gender_difference_in cope ability consequence intervention likewise mittelman colleague_1995 find_that gender associate_with change depression over_time follow intervention summary entire treatment group demonstrate gain area iadl_dependence decline upset improved sense efficacy_belief specific subgroup caregiver datum suggest_that helpful approach female african_american spouse_caregiver intervention need adjust match need male nonspouse caregiver finding suggest_that further_research warrant evaluate intense long_term intervention involve home environmental_strategy -PRON- underlying mechanism subsequent impact improved self_efficacy caregiver psychological physical_health finally finding provide_preliminary evidence importance examine intervention effect specific subgroup caregiver incrementally add an_understanding benefit intervention none_table_1 comparison stay ins dropouts at_baseline notes adl_=_activity daily_living_iadl =_instrumental_activity daily_living m_= mean f_= frequency chi_square_statistic df_= 1 n_=_202 view_large_table_1 comparison stay ins dropouts at_baseline notes adl_=_activity daily_living_iadl =_instrumental_activity daily_living m_= mean f_= frequency chi_square_statistic df_= 1 n_=_202 view_large none_table_2 comparison experimental control_group participants background_characteristics aincome level 6 = $ 2,501–3,000 per_month level 7 = $ 3,001–3,500 per_month view_large_table_2 comparison experimental control_group participants background_characteristics aincome level 6 = $ 2,501–3,000 per_month level 7 = $ 3,001–3,500 per_month view_large none_table_3 comparison experimental n_= 93 control n_= 78 group participants study outcomes note ci_=_confidence_interval adl_=_activity daily_living_iadl =_instrumental_activity daily_living view_large_table_3 comparison experimental n_= 93 control n_= 78 group participants study outcomes note ci_=_confidence_interval adl_=_activity daily_living_iadl =_instrumental_activity daily_living view_large none_table_4 adjust means treatment caregiver factor interactions note ci_=_confidence_interval iadl_=_instrumental activity daily_living adl_=_activity daily living.abecause rounding difference do_not add_up view_large_table_4 adjust means treatment caregiver factor interactions note ci_=_confidence_interval iadl_=_instrumental activity daily_living adl_=_activity daily living.abecause rounding difference do_not add_up view_large research report this_article support fund national_institute_on_aging ro1-ag10947 dr. corcoran currently school medicine health_sciences george washington_university washington dc.community homecare research division thomas jefferson university philadelphia pa.department occupational_therapy thomas jefferson university philadelphia pa.division clinical pharmacology department medicine thomas jefferson university philadelphia pa reference_issue_section_research article_download_all_figure\n"
     ]
    },
    {
     "name": "stdout",
     "output_type": "stream",
     "text": [
      "\n"
     ]
    }
   ],
   "source": [
    "print(u'Original:' + u'\\n')\n",
    "\n",
    "for article in it.islice(line_article(article_txt_filepath), 1):\n",
    "    print(article)\n",
    "\n",
    "print(u'----' + u'\\n')\n",
    "print(u'Transformed:' + u'\\n')\n",
    "\n",
    "with codecs.open(trigram_articles_filepath, encoding='utf_8') as f:\n",
    "    for article in it.islice(f, 1):\n",
    "        print(article)"
   ]
  },
  {
   "cell_type": "code",
   "execution_count": 24,
   "metadata": {},
   "outputs": [],
   "source": [
    "from gensim.corpora import Dictionary, MmCorpus\n",
    "from gensim.models.ldamulticore import LdaMulticore\n",
    "\n",
    "import pyLDAvis\n",
    "import pyLDAvis.gensim\n",
    "import warnings\n",
    "import pickle"
   ]
  },
  {
   "cell_type": "code",
   "execution_count": 25,
   "metadata": {},
   "outputs": [],
   "source": [
    "trigram_dictionary_filepath = os.path.join(data_directory,'trigram_dict_all.dict')\n"
   ]
  },
  {
   "cell_type": "code",
   "execution_count": null,
   "metadata": {},
   "outputs": [],
   "source": []
  },
  {
   "cell_type": "code",
   "execution_count": 26,
   "metadata": {},
   "outputs": [
    {
     "name": "stdout",
     "output_type": "stream",
     "text": [
      "Dictionary(3953 unique tokens: ['$', \"'s_own\", '.05', '.73', '.83']...)\n",
      "Wall time: 201 ms\n"
     ]
    }
   ],
   "source": [
    "%%time\n",
    "\n",
    "# this is a bit time consuming - make the if statement True\n",
    "# if you want to learn the dictionary yourself.\n",
    "if True:\n",
    "\n",
    "    trigram_articles = LineSentence(trigram_articles_filepath)\n",
    "    \n",
    "    # learn the dictionary by iterating over all of the articles\n",
    "    trigram_dictionary = Dictionary(trigram_articles)\n",
    "       \n",
    "    # filter tokens that are very rare or too common from\n",
    "    # the dictionary (filter_extremes) and reassign integer ids (compactify)\n",
    "    #trigram_dictionary.filter_extremes(no_below=10, no_above=0.4)\n",
    "    #trigram_dictionary.compactify()\n",
    "    \n",
    "    # THIS WORKS\n",
    "    #trigram_dictionary.filter_extremes(keep_n=25)\n",
    "    #trigram_dictionary.compactify()\n",
    "    trigram_dictionary.filter_extremes(no_above=0.9)\n",
    "\n",
    "    trigram_dictionary.save(trigram_dictionary_filepath)\n",
    "    \n",
    "# load the finished dictionary from disk\n",
    "trigram_dictionary = Dictionary.load(trigram_dictionary_filepath)\n",
    "print(trigram_dictionary) \n",
    "    "
   ]
  },
  {
   "cell_type": "code",
   "execution_count": 27,
   "metadata": {},
   "outputs": [],
   "source": [
    "\n",
    "trigram_bow_filepath = os.path.join(data_directory,'trigram_bow_corpus_all.mm')"
   ]
  },
  {
   "cell_type": "code",
   "execution_count": 28,
   "metadata": {},
   "outputs": [],
   "source": [
    "def trigram_bow_generator(filepath):\n",
    "    \"\"\"\n",
    "    generator function to read articles from a file\n",
    "    and yield a bag-of-words representation\n",
    "    \"\"\"\n",
    "    \n",
    "    for article in LineSentence(filepath):\n",
    "        yield trigram_dictionary.doc2bow(article)"
   ]
  },
  {
   "cell_type": "code",
   "execution_count": 29,
   "metadata": {},
   "outputs": [
    {
     "name": "stdout",
     "output_type": "stream",
     "text": [
      "Wall time: 190 ms\n"
     ]
    }
   ],
   "source": [
    "%%time\n",
    "\n",
    "# this is a bit time consuming - make the if statement True\n",
    "# if you want to build the bag-of-words corpus yourself.\n",
    "if True:\n",
    "\n",
    "    # generate bag-of-words representations for\n",
    "    # all articles and save them as a matrix\n",
    "    MmCorpus.serialize(trigram_bow_filepath,\n",
    "                       trigram_bow_generator(trigram_articles_filepath))\n",
    "    \n",
    "# load the finished bag-of-words corpus from disk\n",
    "#trigram_bow_corpus = MmCorpus(trigram_bow_filepath)\n"
   ]
  },
  {
   "cell_type": "code",
   "execution_count": null,
   "metadata": {},
   "outputs": [],
   "source": []
  },
  {
   "cell_type": "code",
   "execution_count": null,
   "metadata": {},
   "outputs": [],
   "source": []
  }
 ],
 "metadata": {
  "kernelspec": {
   "display_name": "Python 3",
   "language": "python",
   "name": "python3"
  },
  "language_info": {
   "codemirror_mode": {
    "name": "ipython",
    "version": 3
   },
   "file_extension": ".py",
   "mimetype": "text/x-python",
   "name": "python",
   "nbconvert_exporter": "python",
   "pygments_lexer": "ipython3",
   "version": "3.6.4"
  }
 },
 "nbformat": 4,
 "nbformat_minor": 2
}
